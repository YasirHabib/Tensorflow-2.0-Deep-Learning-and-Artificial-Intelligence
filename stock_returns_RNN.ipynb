{
  "nbformat": 4,
  "nbformat_minor": 0,
  "metadata": {
    "colab": {
      "name": "stock_returns_RNN.ipynb",
      "provenance": [],
      "collapsed_sections": [],
      "authorship_tag": "ABX9TyM/yhCZDhcueoCaVNn0jyDS"
    },
    "kernelspec": {
      "display_name": "Python 3",
      "name": "python3"
    }
  },
  "cells": [
    {
      "cell_type": "code",
      "metadata": {
        "id": "3aWucOytLzrV"
      },
      "source": [
        "import numpy as np\n",
        "import matplotlib.pyplot as plt\n",
        "import pandas as pd"
      ],
      "execution_count": 1,
      "outputs": []
    },
    {
      "cell_type": "code",
      "metadata": {
        "id": "4QBh86gwU9Vs"
      },
      "source": [
        "from sklearn.preprocessing import StandardScaler\n",
        "from tensorflow.keras.layers import Input, LSTM, Dense\n",
        "from tensorflow.keras.models import Model\n",
        "from tensorflow.keras.utils import plot_model"
      ],
      "execution_count": 2,
      "outputs": []
    },
    {
      "cell_type": "code",
      "metadata": {
        "id": "Bwz8Rh_wCQDH",
        "outputId": "c36f7d4b-bac4-4657-de12-ad61def1161f",
        "colab": {
          "base_uri": "https://localhost:8080/"
        }
      },
      "source": [
        "!wget https://raw.githubusercontent.com/lazyprogrammer/machine_learning_examples/master/tf2.0/sbux.csv"
      ],
      "execution_count": 3,
      "outputs": [
        {
          "output_type": "stream",
          "text": [
            "--2020-11-14 10:52:03--  https://raw.githubusercontent.com/lazyprogrammer/machine_learning_examples/master/tf2.0/sbux.csv\n",
            "Resolving raw.githubusercontent.com (raw.githubusercontent.com)... 151.101.0.133, 151.101.64.133, 151.101.128.133, ...\n",
            "Connecting to raw.githubusercontent.com (raw.githubusercontent.com)|151.101.0.133|:443... connected.\n",
            "HTTP request sent, awaiting response... 200 OK\n",
            "Length: 61896 (60K) [text/plain]\n",
            "Saving to: ‘sbux.csv’\n",
            "\n",
            "\rsbux.csv              0%[                    ]       0  --.-KB/s               \rsbux.csv            100%[===================>]  60.45K  --.-KB/s    in 0.01s   \n",
            "\n",
            "2020-11-14 10:52:04 (4.51 MB/s) - ‘sbux.csv’ saved [61896/61896]\n",
            "\n"
          ],
          "name": "stdout"
        }
      ]
    },
    {
      "cell_type": "code",
      "metadata": {
        "id": "hghjCbRnJ_V3",
        "outputId": "77f2798f-ac8b-403d-acd4-45f817679f3f",
        "colab": {
          "base_uri": "https://localhost:8080/"
        }
      },
      "source": [
        "df = pd.read_csv('sbux.csv')\n",
        "df.info()"
      ],
      "execution_count": 4,
      "outputs": [
        {
          "output_type": "stream",
          "text": [
            "<class 'pandas.core.frame.DataFrame'>\n",
            "RangeIndex: 1259 entries, 0 to 1258\n",
            "Data columns (total 7 columns):\n",
            " #   Column  Non-Null Count  Dtype  \n",
            "---  ------  --------------  -----  \n",
            " 0   date    1259 non-null   object \n",
            " 1   open    1259 non-null   float64\n",
            " 2   high    1259 non-null   float64\n",
            " 3   low     1259 non-null   float64\n",
            " 4   close   1259 non-null   float64\n",
            " 5   volume  1259 non-null   int64  \n",
            " 6   Name    1259 non-null   object \n",
            "dtypes: float64(4), int64(1), object(2)\n",
            "memory usage: 69.0+ KB\n"
          ],
          "name": "stdout"
        }
      ]
    },
    {
      "cell_type": "code",
      "metadata": {
        "id": "Du38qlg2ZxeQ",
        "outputId": "0281e3dc-0b6a-4bca-dc3b-1a2645766c93",
        "colab": {
          "base_uri": "https://localhost:8080/"
        }
      },
      "source": [
        "type(df)"
      ],
      "execution_count": 5,
      "outputs": [
        {
          "output_type": "execute_result",
          "data": {
            "text/plain": [
              "pandas.core.frame.DataFrame"
            ]
          },
          "metadata": {
            "tags": []
          },
          "execution_count": 5
        }
      ]
    },
    {
      "cell_type": "code",
      "metadata": {
        "id": "e9DG6tRu2WG1",
        "outputId": "906d3e40-3036-4780-98a5-1c17a7865351",
        "colab": {
          "base_uri": "https://localhost:8080/"
        }
      },
      "source": [
        "print(df.head(),'\\n')\n",
        "print(df.tail())"
      ],
      "execution_count": 6,
      "outputs": [
        {
          "output_type": "stream",
          "text": [
            "         date    open    high     low   close   volume  Name\n",
            "0  2013-02-08  27.920  28.325  27.920  28.185  7146296  SBUX\n",
            "1  2013-02-11  28.260  28.260  27.930  28.070  5457354  SBUX\n",
            "2  2013-02-12  28.000  28.275  27.975  28.130  8665592  SBUX\n",
            "3  2013-02-13  28.230  28.230  27.750  27.915  7022056  SBUX\n",
            "4  2013-02-14  27.765  27.905  27.675  27.775  8899188  SBUX \n",
            "\n",
            "            date    open   high    low  close    volume  Name\n",
            "1254  2018-02-01  56.280  56.42  55.89  56.00  14690146  SBUX\n",
            "1255  2018-02-02  55.900  56.32  55.70  55.77  15358909  SBUX\n",
            "1256  2018-02-05  55.530  56.26  54.57  54.69  16059955  SBUX\n",
            "1257  2018-02-06  53.685  56.06  53.56  55.61  17415065  SBUX\n",
            "1258  2018-02-07  55.080  55.43  54.44  54.46  13927022  SBUX\n"
          ],
          "name": "stdout"
        }
      ]
    },
    {
      "cell_type": "code",
      "metadata": {
        "id": "lVoGVFjPRHqA",
        "outputId": "00e5d538-7f48-4997-fdc3-5c2d08483be7",
        "colab": {
          "base_uri": "https://localhost:8080/"
        }
      },
      "source": [
        "df.shape"
      ],
      "execution_count": 7,
      "outputs": [
        {
          "output_type": "execute_result",
          "data": {
            "text/plain": [
              "(1259, 7)"
            ]
          },
          "metadata": {
            "tags": []
          },
          "execution_count": 7
        }
      ]
    },
    {
      "cell_type": "code",
      "metadata": {
        "id": "lpZgScCrRxDr",
        "outputId": "38ac9578-d7ce-4563-f3a4-9afb7020318d",
        "colab": {
          "base_uri": "https://localhost:8080/"
        }
      },
      "source": [
        "# Convert into numpy array\n",
        "Data=df.to_numpy()\n",
        "print(Data.shape)"
      ],
      "execution_count": 8,
      "outputs": [
        {
          "output_type": "stream",
          "text": [
            "(1259, 7)\n"
          ],
          "name": "stdout"
        }
      ]
    },
    {
      "cell_type": "code",
      "metadata": {
        "id": "Ji9fgEDfZ5M-",
        "outputId": "37ca098d-02be-4762-be11-33d7f68c77cd",
        "colab": {
          "base_uri": "https://localhost:8080/"
        }
      },
      "source": [
        "type(Data)"
      ],
      "execution_count": 9,
      "outputs": [
        {
          "output_type": "execute_result",
          "data": {
            "text/plain": [
              "numpy.ndarray"
            ]
          },
          "metadata": {
            "tags": []
          },
          "execution_count": 9
        }
      ]
    },
    {
      "cell_type": "code",
      "metadata": {
        "id": "jXOZR0w_TeN1",
        "outputId": "62d10fff-88b9-48e3-9a65-dedb102117c1",
        "colab": {
          "base_uri": "https://localhost:8080/"
        }
      },
      "source": [
        "# To predict column 4 (closing price). Specifying column gives a vector of size (1259,)\n",
        "Closing_price = Data[:, 4].reshape(-1, 1)\n",
        "Closing_price.shape"
      ],
      "execution_count": 10,
      "outputs": [
        {
          "output_type": "execute_result",
          "data": {
            "text/plain": [
              "(1259, 1)"
            ]
          },
          "metadata": {
            "tags": []
          },
          "execution_count": 10
        }
      ]
    },
    {
      "cell_type": "code",
      "metadata": {
        "id": "VO9yOOA7ZITV",
        "outputId": "e445ac64-fc62-4473-d4f8-4bd405fb5a32",
        "colab": {
          "base_uri": "https://localhost:8080/"
        }
      },
      "source": [
        "# Print to visualize\n",
        "Closing_price"
      ],
      "execution_count": 11,
      "outputs": [
        {
          "output_type": "execute_result",
          "data": {
            "text/plain": [
              "array([[28.185],\n",
              "       [28.07],\n",
              "       [28.13],\n",
              "       ...,\n",
              "       [54.69],\n",
              "       [55.61],\n",
              "       [54.46]], dtype=object)"
            ]
          },
          "metadata": {
            "tags": []
          },
          "execution_count": 11
        }
      ]
    },
    {
      "cell_type": "code",
      "metadata": {
        "id": "wqRr0wloUCnA"
      },
      "source": [
        "# Data standardization\n",
        "scalar = StandardScaler()\n",
        "Closing_price = scalar.fit_transform(Closing_price)"
      ],
      "execution_count": 12,
      "outputs": []
    },
    {
      "cell_type": "code",
      "metadata": {
        "id": "9GG9CjDaZVN-",
        "outputId": "d8474513-53f4-42fd-9bac-7c23290639e9",
        "colab": {
          "base_uri": "https://localhost:8080/"
        }
      },
      "source": [
        "# Print to visualize\n",
        "Closing_price"
      ],
      "execution_count": 13,
      "outputs": [
        {
          "output_type": "execute_result",
          "data": {
            "text/plain": [
              "array([[-1.94144714],\n",
              "       [-1.95251788],\n",
              "       [-1.94674184],\n",
              "       ...,\n",
              "       [ 0.61011874],\n",
              "       [ 0.6986847 ],\n",
              "       [ 0.58797726]])"
            ]
          },
          "metadata": {
            "tags": []
          },
          "execution_count": 13
        }
      ]
    },
    {
      "cell_type": "code",
      "metadata": {
        "id": "KpUIL9j0ZicU",
        "outputId": "eeafdf87-4873-45f8-d4ea-5a09d4e55089",
        "colab": {
          "base_uri": "https://localhost:8080/"
        }
      },
      "source": [
        "# Train, test split. Again specifying a column: train, test = Closing_price[:index, 0], Closing_price[index:, 0] would have given a vector of size\n",
        "# (843,) & (416,)\n",
        "index = int(0.67*len(Closing_price))\n",
        "train, test = Closing_price[:index], Closing_price[index:]\n",
        "print(train.shape)\n",
        "print(test.shape)"
      ],
      "execution_count": 14,
      "outputs": [
        {
          "output_type": "stream",
          "text": [
            "(843, 1)\n",
            "(416, 1)\n"
          ],
          "name": "stdout"
        }
      ]
    },
    {
      "cell_type": "code",
      "metadata": {
        "id": "_EoamcKjNRxz"
      },
      "source": [
        "# Create a new dataset\n",
        "def create_dataset(dataset, T):\n",
        "  X, Y = [], []\n",
        "  for t in range(len(dataset) - T):\n",
        "    x = dataset[t:(t+T)]\n",
        "    y = dataset[t+T, 0]\n",
        "    X.append(x)\n",
        "    Y.append(y)\n",
        "  return np.array(X), np.array(Y)"
      ],
      "execution_count": 15,
      "outputs": []
    },
    {
      "cell_type": "code",
      "metadata": {
        "id": "srOKqIQeO85b",
        "outputId": "b07bae00-b1ed-4809-b2aa-c43f44d9ef2f",
        "colab": {
          "base_uri": "https://localhost:8080/"
        }
      },
      "source": [
        "# Remember input data X have to be NxTxD\n",
        "# Remember targets have to be a vector\n",
        "T = 10\n",
        "X_train, y_train = create_dataset(train, T)\n",
        "X_test, y_test = create_dataset(test, T)\n",
        "print(X_train.shape, y_train.shape)\n",
        "print(X_test.shape, y_test.shape)"
      ],
      "execution_count": 16,
      "outputs": [
        {
          "output_type": "stream",
          "text": [
            "(833, 10, 1) (833,)\n",
            "(406, 10, 1) (406,)\n"
          ],
          "name": "stdout"
        }
      ]
    },
    {
      "cell_type": "code",
      "metadata": {
        "id": "HXsuwtmwazWQ"
      },
      "source": [
        "M = 20\n",
        "K = 1\n",
        "visible = Input(shape=(T, 1))\n",
        "hidden = LSTM(M)(visible)\n",
        "output = Dense(K)(hidden)\n",
        "\n",
        "model = Model(inputs=visible, outputs=output)"
      ],
      "execution_count": 17,
      "outputs": []
    },
    {
      "cell_type": "code",
      "metadata": {
        "id": "BbDbM8mJdSeS",
        "outputId": "908ce239-21e6-4180-ec7e-f99b6ba2e2e3",
        "colab": {
          "base_uri": "https://localhost:8080/"
        }
      },
      "source": [
        "model.summary()"
      ],
      "execution_count": 18,
      "outputs": [
        {
          "output_type": "stream",
          "text": [
            "Model: \"functional_1\"\n",
            "_________________________________________________________________\n",
            "Layer (type)                 Output Shape              Param #   \n",
            "=================================================================\n",
            "input_1 (InputLayer)         [(None, 10, 1)]           0         \n",
            "_________________________________________________________________\n",
            "lstm (LSTM)                  (None, 20)                1760      \n",
            "_________________________________________________________________\n",
            "dense (Dense)                (None, 1)                 21        \n",
            "=================================================================\n",
            "Total params: 1,781\n",
            "Trainable params: 1,781\n",
            "Non-trainable params: 0\n",
            "_________________________________________________________________\n"
          ],
          "name": "stdout"
        }
      ]
    },
    {
      "cell_type": "code",
      "metadata": {
        "id": "7YuaA1Mjd1Hi",
        "outputId": "4f37e0d4-d7d3-4a63-d252-2cfb7d959a5e",
        "colab": {
          "base_uri": "https://localhost:8080/",
          "height": 272
        }
      },
      "source": [
        "# plot graph\n",
        "plot_model(model, to_file='recurrent_neural_network.png')"
      ],
      "execution_count": 19,
      "outputs": [
        {
          "output_type": "execute_result",
          "data": {
            "image/png": "[encoded data removed]",
            "text/plain": [
              "<IPython.core.display.Image object>"
            ]
          },
          "metadata": {
            "tags": []
          },
          "execution_count": 19
        }
      ]
    },
    {
      "cell_type": "code",
      "metadata": {
        "id": "1jhuQzxUd4-y"
      },
      "source": [
        "model.compile(\n",
        "    loss = 'mean_squared_error',\n",
        "    optimizer = 'adam'\n",
        ")"
      ],
      "execution_count": 20,
      "outputs": []
    },
    {
      "cell_type": "code",
      "metadata": {
        "id": "cXzGZEVVnMJZ",
        "outputId": "b806a149-46c6-49b8-9fe0-9098ce0e8ea1",
        "colab": {
          "base_uri": "https://localhost:8080/"
        }
      },
      "source": [
        "r = model.fit(X_train, y_train, validation_data=(X_test, y_test), epochs = 10)           # default batch size = 32. \n",
        "                                                                                         # 833/32 = ~27"
      ],
      "execution_count": 21,
      "outputs": [
        {
          "output_type": "stream",
          "text": [
            "Epoch 1/10\n",
            "27/27 [==============================] - 1s 21ms/step - loss: 0.2792 - val_loss: 0.0852\n",
            "Epoch 2/10\n",
            "27/27 [==============================] - 0s 5ms/step - loss: 0.0405 - val_loss: 0.0191\n",
            "Epoch 3/10\n",
            "27/27 [==============================] - 0s 6ms/step - loss: 0.0220 - val_loss: 0.0198\n",
            "Epoch 4/10\n",
            "27/27 [==============================] - 0s 6ms/step - loss: 0.0174 - val_loss: 0.0186\n",
            "Epoch 5/10\n",
            "27/27 [==============================] - 0s 6ms/step - loss: 0.0143 - val_loss: 0.0180\n",
            "Epoch 6/10\n",
            "27/27 [==============================] - 0s 6ms/step - loss: 0.0124 - val_loss: 0.0173\n",
            "Epoch 7/10\n",
            "27/27 [==============================] - 0s 6ms/step - loss: 0.0112 - val_loss: 0.0159\n",
            "Epoch 8/10\n",
            "27/27 [==============================] - 0s 6ms/step - loss: 0.0102 - val_loss: 0.0142\n",
            "Epoch 9/10\n",
            "27/27 [==============================] - 0s 6ms/step - loss: 0.0099 - val_loss: 0.0139\n",
            "Epoch 10/10\n",
            "27/27 [==============================] - 0s 6ms/step - loss: 0.0091 - val_loss: 0.0132\n"
          ],
          "name": "stdout"
        }
      ]
    },
    {
      "cell_type": "code",
      "metadata": {
        "id": "Bkw0O4danar0",
        "outputId": "91440c9f-4211-4b8b-b210-5abbf4a63ecf",
        "colab": {
          "base_uri": "https://localhost:8080/"
        }
      },
      "source": [
        "r.history.keys()"
      ],
      "execution_count": 22,
      "outputs": [
        {
          "output_type": "execute_result",
          "data": {
            "text/plain": [
              "dict_keys(['loss', 'val_loss'])"
            ]
          },
          "metadata": {
            "tags": []
          },
          "execution_count": 22
        }
      ]
    },
    {
      "cell_type": "code",
      "metadata": {
        "id": "OflsqIEHnc1_",
        "outputId": "72cc0c52-12b4-444e-df8d-e90107e0b23e",
        "colab": {
          "base_uri": "https://localhost:8080/",
          "height": 282
        }
      },
      "source": [
        "plt.plot(r.history['loss'], label='Training cost')\n",
        "plt.plot(r.history['val_loss'], label='Test cost')\n",
        "plt.legend()"
      ],
      "execution_count": 23,
      "outputs": [
        {
          "output_type": "execute_result",
          "data": {
            "text/plain": [
              "<matplotlib.legend.Legend at 0x7f68db58c940>"
            ]
          },
          "metadata": {
            "tags": []
          },
          "execution_count": 23
        },
        {
          "output_type": "display_data",
          "data": {
            "image/png": "[encoded data removed]",
            "text/plain": [
              "<Figure size 432x288 with 1 Axes>"
            ]
          },
          "metadata": {
            "tags": [],
            "needs_background": "light"
          }
        }
      ]
    },
    {
      "cell_type": "code",
      "metadata": {
        "id": "fq74X_UQcAGU",
        "outputId": "00b13e69-a1ce-4ca9-8262-c6891a2aa2df",
        "colab": {
          "base_uri": "https://localhost:8080/"
        }
      },
      "source": [
        "# Multi step forecast\n",
        "prediction = []\n",
        "\n",
        "x = X_test[0]\n",
        "print(x.shape)\n",
        "\n",
        "while len(prediction) < len(y_test):\n",
        "  p = model.predict(x.reshape(1, -1, 1))[0, 0]\n",
        "  prediction.append(p)\n",
        "\n",
        "  x = np.roll(x, -1)\n",
        "  x[-1] = p"
      ],
      "execution_count": 24,
      "outputs": [
        {
          "output_type": "stream",
          "text": [
            "(10, 1)\n"
          ],
          "name": "stdout"
        }
      ]
    },
    {
      "cell_type": "code",
      "metadata": {
        "id": "691omnXjl0qD",
        "outputId": "78925a4b-e1e6-4b32-ea0e-f17daf3a5ba4",
        "colab": {
          "base_uri": "https://localhost:8080/",
          "height": 283
        }
      },
      "source": [
        "# Model is not making the prediction in time series. Only copying the previous value.\n",
        "plt.plot(y_test, label='Target forecast')\n",
        "plt.plot(prediction, label='prediction forecast')\n",
        "plt.legend()"
      ],
      "execution_count": 25,
      "outputs": [
        {
          "output_type": "execute_result",
          "data": {
            "text/plain": [
              "<matplotlib.legend.Legend at 0x7f68da933f60>"
            ]
          },
          "metadata": {
            "tags": []
          },
          "execution_count": 25
        },
        {
          "output_type": "display_data",
          "data": {
            "image/png": "[encoded data removed]",
            "text/plain": [
              "<Figure size 432x288 with 1 Axes>"
            ]
          },
          "metadata": {
            "tags": [],
            "needs_background": "light"
          }
        }
      ]
    }
  ]
}
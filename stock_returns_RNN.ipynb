{
  "nbformat": 4,
  "nbformat_minor": 0,
  "metadata": {
    "colab": {
      "name": "stock_returns_RNN.ipynb",
      "provenance": [],
      "collapsed_sections": [],
      "authorship_tag": "ABX9TyMmzse+VGBxVj0ZcT4E4CNR"
    },
    "kernelspec": {
      "display_name": "Python 3",
      "name": "python3"
    }
  },
  "cells": [
    {
      "cell_type": "code",
      "metadata": {
        "id": "3aWucOytLzrV"
      },
      "source": [
        "import numpy as np\n",
        "import matplotlib.pyplot as plt\n",
        "import pandas as pd"
      ],
      "execution_count": 1,
      "outputs": []
    },
    {
      "cell_type": "code",
      "metadata": {
        "id": "4QBh86gwU9Vs"
      },
      "source": [
        "from sklearn.preprocessing import StandardScaler\n",
        "from tensorflow.keras.layers import Input, LSTM, Dense\n",
        "from tensorflow.keras.models import Model\n",
        "from tensorflow.keras.utils import plot_model"
      ],
      "execution_count": 2,
      "outputs": []
    },
    {
      "cell_type": "code",
      "metadata": {
        "id": "Bwz8Rh_wCQDH",
        "outputId": "78e58b5f-d4ba-48a2-b92e-8a688239a5d1",
        "colab": {
          "base_uri": "https://localhost:8080/"
        }
      },
      "source": [
        "!wget https://raw.githubusercontent.com/lazyprogrammer/machine_learning_examples/master/tf2.0/sbux.csv"
      ],
      "execution_count": 3,
      "outputs": [
        {
          "output_type": "stream",
          "text": [
            "--2020-11-15 21:42:56--  https://raw.githubusercontent.com/lazyprogrammer/machine_learning_examples/master/tf2.0/sbux.csv\n",
            "Resolving raw.githubusercontent.com (raw.githubusercontent.com)... 151.101.0.133, 151.101.64.133, 151.101.128.133, ...\n",
            "Connecting to raw.githubusercontent.com (raw.githubusercontent.com)|151.101.0.133|:443... connected.\n",
            "HTTP request sent, awaiting response... 200 OK\n",
            "Length: 61896 (60K) [text/plain]\n",
            "Saving to: ‘sbux.csv.6’\n",
            "\n",
            "sbux.csv.6          100%[===================>]  60.45K  --.-KB/s    in 0.004s  \n",
            "\n",
            "2020-11-15 21:42:57 (16.1 MB/s) - ‘sbux.csv.6’ saved [61896/61896]\n",
            "\n"
          ],
          "name": "stdout"
        }
      ]
    },
    {
      "cell_type": "code",
      "metadata": {
        "id": "hghjCbRnJ_V3",
        "outputId": "3b7e217d-d6fe-42fc-a353-064f8a77c2fb",
        "colab": {
          "base_uri": "https://localhost:8080/"
        }
      },
      "source": [
        "df = pd.read_csv('sbux.csv')\n",
        "df.info()"
      ],
      "execution_count": 4,
      "outputs": [
        {
          "output_type": "stream",
          "text": [
            "<class 'pandas.core.frame.DataFrame'>\n",
            "RangeIndex: 1259 entries, 0 to 1258\n",
            "Data columns (total 7 columns):\n",
            " #   Column  Non-Null Count  Dtype  \n",
            "---  ------  --------------  -----  \n",
            " 0   date    1259 non-null   object \n",
            " 1   open    1259 non-null   float64\n",
            " 2   high    1259 non-null   float64\n",
            " 3   low     1259 non-null   float64\n",
            " 4   close   1259 non-null   float64\n",
            " 5   volume  1259 non-null   int64  \n",
            " 6   Name    1259 non-null   object \n",
            "dtypes: float64(4), int64(1), object(2)\n",
            "memory usage: 69.0+ KB\n"
          ],
          "name": "stdout"
        }
      ]
    },
    {
      "cell_type": "code",
      "metadata": {
        "id": "Du38qlg2ZxeQ",
        "outputId": "f2282d93-7d88-4446-bca7-90de5dbc3c95",
        "colab": {
          "base_uri": "https://localhost:8080/"
        }
      },
      "source": [
        "type(df)"
      ],
      "execution_count": 5,
      "outputs": [
        {
          "output_type": "execute_result",
          "data": {
            "text/plain": [
              "pandas.core.frame.DataFrame"
            ]
          },
          "metadata": {
            "tags": []
          },
          "execution_count": 5
        }
      ]
    },
    {
      "cell_type": "code",
      "metadata": {
        "id": "e9DG6tRu2WG1",
        "outputId": "a57a1a15-ac78-4574-bd8f-5c32811894af",
        "colab": {
          "base_uri": "https://localhost:8080/"
        }
      },
      "source": [
        "print(df.head(),'\\n')\n",
        "print(df.tail())"
      ],
      "execution_count": 6,
      "outputs": [
        {
          "output_type": "stream",
          "text": [
            "         date    open    high     low   close   volume  Name\n",
            "0  2013-02-08  27.920  28.325  27.920  28.185  7146296  SBUX\n",
            "1  2013-02-11  28.260  28.260  27.930  28.070  5457354  SBUX\n",
            "2  2013-02-12  28.000  28.275  27.975  28.130  8665592  SBUX\n",
            "3  2013-02-13  28.230  28.230  27.750  27.915  7022056  SBUX\n",
            "4  2013-02-14  27.765  27.905  27.675  27.775  8899188  SBUX \n",
            "\n",
            "            date    open   high    low  close    volume  Name\n",
            "1254  2018-02-01  56.280  56.42  55.89  56.00  14690146  SBUX\n",
            "1255  2018-02-02  55.900  56.32  55.70  55.77  15358909  SBUX\n",
            "1256  2018-02-05  55.530  56.26  54.57  54.69  16059955  SBUX\n",
            "1257  2018-02-06  53.685  56.06  53.56  55.61  17415065  SBUX\n",
            "1258  2018-02-07  55.080  55.43  54.44  54.46  13927022  SBUX\n"
          ],
          "name": "stdout"
        }
      ]
    },
    {
      "cell_type": "code",
      "metadata": {
        "id": "lVoGVFjPRHqA",
        "outputId": "d5b51b7d-33f4-4ca4-cfdb-bf385a817eb5",
        "colab": {
          "base_uri": "https://localhost:8080/"
        }
      },
      "source": [
        "df.shape"
      ],
      "execution_count": 7,
      "outputs": [
        {
          "output_type": "execute_result",
          "data": {
            "text/plain": [
              "(1259, 7)"
            ]
          },
          "metadata": {
            "tags": []
          },
          "execution_count": 7
        }
      ]
    },
    {
      "cell_type": "code",
      "metadata": {
        "id": "lpZgScCrRxDr",
        "outputId": "5dd46e52-bf37-468f-ab87-2164c771e5e9",
        "colab": {
          "base_uri": "https://localhost:8080/"
        }
      },
      "source": [
        "# Convert into numpy array\n",
        "Data=df.to_numpy()\n",
        "print(Data.shape)"
      ],
      "execution_count": 8,
      "outputs": [
        {
          "output_type": "stream",
          "text": [
            "(1259, 7)\n"
          ],
          "name": "stdout"
        }
      ]
    },
    {
      "cell_type": "code",
      "metadata": {
        "id": "Ji9fgEDfZ5M-",
        "outputId": "3dcc9a85-a1ad-4d10-a9b9-b1a2d1ba1ab5",
        "colab": {
          "base_uri": "https://localhost:8080/"
        }
      },
      "source": [
        "type(Data)"
      ],
      "execution_count": 9,
      "outputs": [
        {
          "output_type": "execute_result",
          "data": {
            "text/plain": [
              "numpy.ndarray"
            ]
          },
          "metadata": {
            "tags": []
          },
          "execution_count": 9
        }
      ]
    },
    {
      "cell_type": "code",
      "metadata": {
        "id": "jXOZR0w_TeN1",
        "outputId": "1ca88eac-00c8-4ff2-e5a6-962d29be9c57",
        "colab": {
          "base_uri": "https://localhost:8080/"
        }
      },
      "source": [
        "# To predict column 4 (closing price). Specifying column gives a vector of size (1259,)\n",
        "Closing_price = Data[:, 4].reshape(-1, 1)\n",
        "Closing_price.shape"
      ],
      "execution_count": 10,
      "outputs": [
        {
          "output_type": "execute_result",
          "data": {
            "text/plain": [
              "(1259, 1)"
            ]
          },
          "metadata": {
            "tags": []
          },
          "execution_count": 10
        }
      ]
    },
    {
      "cell_type": "code",
      "metadata": {
        "id": "VO9yOOA7ZITV",
        "outputId": "f30e456c-a738-48b7-8b80-3723fde620ba",
        "colab": {
          "base_uri": "https://localhost:8080/"
        }
      },
      "source": [
        "# Print to visualize\n",
        "Closing_price"
      ],
      "execution_count": 11,
      "outputs": [
        {
          "output_type": "execute_result",
          "data": {
            "text/plain": [
              "array([[28.185],\n",
              "       [28.07],\n",
              "       [28.13],\n",
              "       ...,\n",
              "       [54.69],\n",
              "       [55.61],\n",
              "       [54.46]], dtype=object)"
            ]
          },
          "metadata": {
            "tags": []
          },
          "execution_count": 11
        }
      ]
    },
    {
      "cell_type": "code",
      "metadata": {
        "id": "wqRr0wloUCnA"
      },
      "source": [
        "# Data standardization\n",
        "scalar = StandardScaler()\n",
        "Closing_price = scalar.fit_transform(Closing_price)"
      ],
      "execution_count": 12,
      "outputs": []
    },
    {
      "cell_type": "code",
      "metadata": {
        "id": "9GG9CjDaZVN-",
        "outputId": "7fa1dc63-7b42-406a-b152-6453faa10650",
        "colab": {
          "base_uri": "https://localhost:8080/"
        }
      },
      "source": [
        "# Print to visualize\n",
        "Closing_price"
      ],
      "execution_count": 13,
      "outputs": [
        {
          "output_type": "execute_result",
          "data": {
            "text/plain": [
              "array([[-1.94144714],\n",
              "       [-1.95251788],\n",
              "       [-1.94674184],\n",
              "       ...,\n",
              "       [ 0.61011874],\n",
              "       [ 0.6986847 ],\n",
              "       [ 0.58797726]])"
            ]
          },
          "metadata": {
            "tags": []
          },
          "execution_count": 13
        }
      ]
    },
    {
      "cell_type": "code",
      "metadata": {
        "id": "KpUIL9j0ZicU",
        "outputId": "ce9a3640-3328-4491-c7ff-a349e7059eed",
        "colab": {
          "base_uri": "https://localhost:8080/"
        }
      },
      "source": [
        "# Train, test split. Again specifying a column: train, test = Closing_price[:index, 0], Closing_price[index:, 0] would have given a vector of size\n",
        "# (843,) & (416,)\n",
        "index = int(0.67*len(Closing_price))\n",
        "train, test = Closing_price[:index], Closing_price[index:]\n",
        "print(train.shape)\n",
        "print(test.shape)"
      ],
      "execution_count": 14,
      "outputs": [
        {
          "output_type": "stream",
          "text": [
            "(843, 1)\n",
            "(416, 1)\n"
          ],
          "name": "stdout"
        }
      ]
    },
    {
      "cell_type": "code",
      "metadata": {
        "id": "_EoamcKjNRxz"
      },
      "source": [
        "# Create a new dataset\n",
        "def create_dataset(dataset, T):\n",
        "  X, Y = [], []\n",
        "  for t in range(len(dataset) - T):\n",
        "    x = dataset[t:(t+T)]\n",
        "    y = dataset[t+T, 0]\n",
        "    X.append(x)\n",
        "    Y.append(y)\n",
        "  return np.array(X), np.array(Y)"
      ],
      "execution_count": 15,
      "outputs": []
    },
    {
      "cell_type": "code",
      "metadata": {
        "id": "srOKqIQeO85b",
        "outputId": "d59938b3-fa47-431c-98e6-b13f4fe407d9",
        "colab": {
          "base_uri": "https://localhost:8080/"
        }
      },
      "source": [
        "# Remember input data X have to be NxTxD\n",
        "# Remember targets have to be a vector\n",
        "T = 10\n",
        "X_train, y_train = create_dataset(train, T)\n",
        "X_test, y_test = create_dataset(test, T)\n",
        "print(X_train.shape, y_train.shape)\n",
        "print(X_test.shape, y_test.shape)"
      ],
      "execution_count": 16,
      "outputs": [
        {
          "output_type": "stream",
          "text": [
            "(833, 10, 1) (833,)\n",
            "(406, 10, 1) (406,)\n"
          ],
          "name": "stdout"
        }
      ]
    },
    {
      "cell_type": "code",
      "metadata": {
        "id": "HXsuwtmwazWQ"
      },
      "source": [
        "M = 20\n",
        "K = 1\n",
        "visible = Input(shape=(T, 1))\n",
        "hidden = LSTM(M)(visible)\n",
        "output = Dense(K)(hidden)\n",
        "\n",
        "model = Model(inputs=visible, outputs=output)"
      ],
      "execution_count": 17,
      "outputs": []
    },
    {
      "cell_type": "code",
      "metadata": {
        "id": "BbDbM8mJdSeS",
        "outputId": "5e8de570-df6f-4a70-dd18-10c13f7836ca",
        "colab": {
          "base_uri": "https://localhost:8080/"
        }
      },
      "source": [
        "model.summary()"
      ],
      "execution_count": 18,
      "outputs": [
        {
          "output_type": "stream",
          "text": [
            "Model: \"functional_1\"\n",
            "_________________________________________________________________\n",
            "Layer (type)                 Output Shape              Param #   \n",
            "=================================================================\n",
            "input_1 (InputLayer)         [(None, 10, 1)]           0         \n",
            "_________________________________________________________________\n",
            "lstm (LSTM)                  (None, 20)                1760      \n",
            "_________________________________________________________________\n",
            "dense (Dense)                (None, 1)                 21        \n",
            "=================================================================\n",
            "Total params: 1,781\n",
            "Trainable params: 1,781\n",
            "Non-trainable params: 0\n",
            "_________________________________________________________________\n"
          ],
          "name": "stdout"
        }
      ]
    },
    {
      "cell_type": "code",
      "metadata": {
        "id": "7YuaA1Mjd1Hi",
        "outputId": "81fe98d5-9d35-4aca-f866-26bbd9801f2f",
        "colab": {
          "base_uri": "https://localhost:8080/",
          "height": 272
        }
      },
      "source": [
        "# plot graph\n",
        "plot_model(model, to_file='recurrent_neural_network.png')"
      ],
      "execution_count": 19,
      "outputs": [
        {
          "output_type": "execute_result",
          "data": {
            "image/png": "[encoded data removed]",
            "text/plain": [
              "<IPython.core.display.Image object>"
            ]
          },
          "metadata": {
            "tags": []
          },
          "execution_count": 19
        }
      ]
    },
    {
      "cell_type": "code",
      "metadata": {
        "id": "1jhuQzxUd4-y"
      },
      "source": [
        "model.compile(\n",
        "    loss = 'mean_squared_error',\n",
        "    optimizer = 'adam'\n",
        ")"
      ],
      "execution_count": 20,
      "outputs": []
    },
    {
      "cell_type": "code",
      "metadata": {
        "id": "cXzGZEVVnMJZ",
        "outputId": "ec8c784e-289f-4c0f-b5b0-00e71a6be818",
        "colab": {
          "base_uri": "https://localhost:8080/"
        }
      },
      "source": [
        "r = model.fit(X_train, y_train, validation_data=(X_test, y_test), epochs = 10)           # default batch size = 32. \n",
        "                                                                                         # 833/32 = ~27"
      ],
      "execution_count": 21,
      "outputs": [
        {
          "output_type": "stream",
          "text": [
            "Epoch 1/10\n",
            "27/27 [==============================] - 1s 20ms/step - loss: 0.4415 - val_loss: 0.2478\n",
            "Epoch 2/10\n",
            "27/27 [==============================] - 0s 5ms/step - loss: 0.0979 - val_loss: 0.0554\n",
            "Epoch 3/10\n",
            "27/27 [==============================] - 0s 5ms/step - loss: 0.0367 - val_loss: 0.0298\n",
            "Epoch 4/10\n",
            "27/27 [==============================] - 0s 5ms/step - loss: 0.0261 - val_loss: 0.0293\n",
            "Epoch 5/10\n",
            "27/27 [==============================] - 0s 5ms/step - loss: 0.0219 - val_loss: 0.0273\n",
            "Epoch 6/10\n",
            "27/27 [==============================] - 0s 5ms/step - loss: 0.0183 - val_loss: 0.0245\n",
            "Epoch 7/10\n",
            "27/27 [==============================] - 0s 5ms/step - loss: 0.0157 - val_loss: 0.0220\n",
            "Epoch 8/10\n",
            "27/27 [==============================] - 0s 5ms/step - loss: 0.0144 - val_loss: 0.0208\n",
            "Epoch 9/10\n",
            "27/27 [==============================] - 0s 5ms/step - loss: 0.0128 - val_loss: 0.0190\n",
            "Epoch 10/10\n",
            "27/27 [==============================] - 0s 5ms/step - loss: 0.0114 - val_loss: 0.0175\n"
          ],
          "name": "stdout"
        }
      ]
    },
    {
      "cell_type": "code",
      "metadata": {
        "id": "Bkw0O4danar0",
        "outputId": "012821eb-2538-4c14-ff25-64a57ee96639",
        "colab": {
          "base_uri": "https://localhost:8080/"
        }
      },
      "source": [
        "r.history.keys()"
      ],
      "execution_count": 22,
      "outputs": [
        {
          "output_type": "execute_result",
          "data": {
            "text/plain": [
              "dict_keys(['loss', 'val_loss'])"
            ]
          },
          "metadata": {
            "tags": []
          },
          "execution_count": 22
        }
      ]
    },
    {
      "cell_type": "code",
      "metadata": {
        "id": "OflsqIEHnc1_",
        "outputId": "fdf3fd1a-0be5-4824-f245-c6d02aba4a5a",
        "colab": {
          "base_uri": "https://localhost:8080/",
          "height": 282
        }
      },
      "source": [
        "plt.plot(r.history['loss'], label='Training cost')\n",
        "plt.plot(r.history['val_loss'], label='Test cost')\n",
        "plt.legend()"
      ],
      "execution_count": 23,
      "outputs": [
        {
          "output_type": "execute_result",
          "data": {
            "text/plain": [
              "<matplotlib.legend.Legend at 0x7f27319279b0>"
            ]
          },
          "metadata": {
            "tags": []
          },
          "execution_count": 23
        },
        {
          "output_type": "display_data",
          "data": {
            "image/png": "[encoded data removed]",
            "text/plain": [
              "<Figure size 432x288 with 1 Axes>"
            ]
          },
          "metadata": {
            "tags": [],
            "needs_background": "light"
          }
        }
      ]
    },
    {
      "cell_type": "code",
      "metadata": {
        "id": "fq74X_UQcAGU",
        "outputId": "78ea136a-3c43-4427-bb4a-fbaefacb1df1",
        "colab": {
          "base_uri": "https://localhost:8080/"
        }
      },
      "source": [
        "# Multi step forecast\n",
        "prediction = []\n",
        "\n",
        "x = X_test[0]\n",
        "print(x.shape)\n",
        "# print(x)\n",
        "# [[0.67365519]\n",
        "#  [0.69098331]\n",
        "#  [0.6698045 ]\n",
        "#  [0.67654321]\n",
        "#  [0.71793817]\n",
        "#  [0.6986847 ]\n",
        "#  [0.74874372]\n",
        "#  [0.60915607]\n",
        "#  [0.5138514 ]\n",
        "#  [0.62552152]]\n",
        "\n",
        "# x = np.roll(x, -1)\n",
        "# print(x)\n",
        "# [[0.69098331]\n",
        "#  [0.6698045 ]\n",
        "#  [0.67654321]\n",
        "#  [0.71793817]\n",
        "#  [0.6986847 ]\n",
        "#  [0.74874372]\n",
        "#  [0.60915607]\n",
        "#  [0.5138514 ]\n",
        "#  [0.62552152]\n",
        "#  [0.67365519]]\n",
        "\n",
        "# x[-1] = 0.0\n",
        "# print(x)\n",
        "# [[0.69098331]\n",
        "#  [0.6698045 ]\n",
        "#  [0.67654321]\n",
        "#  [0.71793817]\n",
        "#  [0.6986847 ]\n",
        "#  [0.74874372]\n",
        "#  [0.60915607]\n",
        "#  [0.5138514 ]\n",
        "#  [0.62552152]\n",
        "#  [0.        ]]\n",
        "\n",
        "while len(prediction) < len(y_test):\n",
        "  p = model.predict(x.reshape(1, -1, 1))[0, 0]\n",
        "  prediction.append(p)\n",
        "\n",
        "  x = np.roll(x, -1)\n",
        "  x[-1] = p"
      ],
      "execution_count": 24,
      "outputs": [
        {
          "output_type": "stream",
          "text": [
            "(10, 1)\n"
          ],
          "name": "stdout"
        }
      ]
    },
    {
      "cell_type": "code",
      "metadata": {
        "id": "691omnXjl0qD",
        "outputId": "3dbcbbc1-d1ca-4864-8b4a-5ffcadc883a5",
        "colab": {
          "base_uri": "https://localhost:8080/",
          "height": 283
        }
      },
      "source": [
        "# Model is not making the prediction in time series. Only copying the previous value.\n",
        "plt.plot(y_test, label='Target forecast')\n",
        "plt.plot(prediction, label='prediction forecast')\n",
        "plt.legend()"
      ],
      "execution_count": 25,
      "outputs": [
        {
          "output_type": "execute_result",
          "data": {
            "text/plain": [
              "<matplotlib.legend.Legend at 0x7f2730ccec88>"
            ]
          },
          "metadata": {
            "tags": []
          },
          "execution_count": 25
        },
        {
          "output_type": "display_data",
          "data": {
            "image/png": "[encoded data removed]",
            "text/plain": [
              "<Figure size 432x288 with 1 Axes>"
            ]
          },
          "metadata": {
            "tags": [],
            "needs_background": "light"
          }
        }
      ]
    },
    {
      "cell_type": "markdown",
      "metadata": {
        "id": "rL9zDmAJXg69"
      },
      "source": [
        "**To forecast based on whether the price goes up or down (return is positive or negative)**"
      ]
    },
    {
      "cell_type": "code",
      "metadata": {
        "id": "gnSYiwL3clHf",
        "outputId": "329c9ac4-d05b-4b06-a809-906873a8468d",
        "colab": {
          "base_uri": "https://localhost:8080/"
        }
      },
      "source": [
        "# Printing first 5 rows and all columns for visualization\n",
        "print(Data[:5])"
      ],
      "execution_count": 26,
      "outputs": [
        {
          "output_type": "stream",
          "text": [
            "[['2013-02-08' 27.92 28.325 27.92 28.185 7146296 'SBUX']\n",
            " ['2013-02-11' 28.26 28.26 27.93 28.07 5457354 'SBUX']\n",
            " ['2013-02-12' 28.0 28.275 27.975 28.13 8665592 'SBUX']\n",
            " ['2013-02-13' 28.23 28.23 27.75 27.915 7022056 'SBUX']\n",
            " ['2013-02-14' 27.765 27.905 27.675 27.775 8899188 'SBUX']]\n"
          ],
          "name": "stdout"
        }
      ]
    },
    {
      "cell_type": "code",
      "metadata": {
        "id": "owX_ShMbeO34",
        "outputId": "aced7bd4-e731-45ec-8fef-64299dd98bb3",
        "colab": {
          "base_uri": "https://localhost:8080/"
        }
      },
      "source": [
        "# We need to delete the column 0 & column 6 as its not required. 0=row, 1=column\n",
        "Data = np.delete(Data, [0, 6], 1)\n",
        "print(Data[:5])"
      ],
      "execution_count": 27,
      "outputs": [
        {
          "output_type": "stream",
          "text": [
            "[[27.92 28.325 27.92 28.185 7146296]\n",
            " [28.26 28.26 27.93 28.07 5457354]\n",
            " [28.0 28.275 27.975 28.13 8665592]\n",
            " [28.23 28.23 27.75 27.915 7022056]\n",
            " [27.765 27.905 27.675 27.775 8899188]]\n"
          ],
          "name": "stdout"
        }
      ]
    },
    {
      "cell_type": "code",
      "metadata": {
        "id": "26TiMSX5fCTw",
        "outputId": "044ee273-f628-45b0-e206-2123e11633c8",
        "colab": {
          "base_uri": "https://localhost:8080/"
        }
      },
      "source": [
        "# Calculate return\n",
        "# Return is (close price - previous close price) / (previous close price)\n",
        "# We need to first calculate previous close price\n",
        "# First we insert a column of 0's. It will be the 5th column. 0=row, 1=column\n",
        "\n",
        "New_data = np.insert(Data, 5, 0.0, 1)\n",
        "print(New_data[:5])"
      ],
      "execution_count": 28,
      "outputs": [
        {
          "output_type": "stream",
          "text": [
            "[[27.92 28.325 27.92 28.185 7146296 0.0]\n",
            " [28.26 28.26 27.93 28.07 5457354 0.0]\n",
            " [28.0 28.275 27.975 28.13 8665592 0.0]\n",
            " [28.23 28.23 27.75 27.915 7022056 0.0]\n",
            " [27.765 27.905 27.675 27.775 8899188 0.0]]\n"
          ],
          "name": "stdout"
        }
      ]
    },
    {
      "cell_type": "code",
      "metadata": {
        "id": "ZOgy-aoHz8PT",
        "outputId": "7822f71a-9f25-49e2-9993-974642e5e76d",
        "colab": {
          "base_uri": "https://localhost:8080/"
        }
      },
      "source": [
        "# Now lets add previous closing price in place of the column of 0's. The code below selects column 3 (closing price), rolls it 1 poistion & then adds in\n",
        "# place of the 5th column\n",
        "\n",
        "New_data[:, 5] = np.roll(New_data[:, 3], 1)\n",
        "print(New_data[:5])"
      ],
      "execution_count": 29,
      "outputs": [
        {
          "output_type": "stream",
          "text": [
            "[[27.92 28.325 27.92 28.185 7146296 54.46]\n",
            " [28.26 28.26 27.93 28.07 5457354 28.185]\n",
            " [28.0 28.275 27.975 28.13 8665592 28.07]\n",
            " [28.23 28.23 27.75 27.915 7022056 28.13]\n",
            " [27.765 27.905 27.675 27.775 8899188 27.915]]\n"
          ],
          "name": "stdout"
        }
      ]
    },
    {
      "cell_type": "code",
      "metadata": {
        "id": "70hu8qsY1s_Q",
        "outputId": "ed1d476a-9e39-4462-a38c-b6afa0399f51",
        "colab": {
          "base_uri": "https://localhost:8080/"
        }
      },
      "source": [
        "# To calculate return which we will use for as binary classification\n",
        "\n",
        "New_data[:, 5] = (New_data[:, 3] - New_data[:, 5]) / New_data[:, 5]\n",
        "print(New_data[:5], '\\n')\n",
        "print(New_data.shape)"
      ],
      "execution_count": 30,
      "outputs": [
        {
          "output_type": "stream",
          "text": [
            "[[27.92 28.325 27.92 28.185 7146296 -0.48246419390378265]\n",
            " [28.26 28.26 27.93 28.07 5457354 -0.004080184495298862]\n",
            " [28.0 28.275 27.975 28.13 8665592 0.002137513359458451]\n",
            " [28.23 28.23 27.75 27.915 7022056 -0.007643085673658011]\n",
            " [27.765 27.905 27.675 27.775 8899188 -0.0050152247895396945]] \n",
            "\n",
            "(1259, 6)\n"
          ],
          "name": "stdout"
        }
      ]
    },
    {
      "cell_type": "code",
      "metadata": {
        "id": "aWbS-LTcX_c_",
        "outputId": "3d79cda4-1ff7-4b5e-b9b0-d0d9d3a3a214",
        "colab": {
          "base_uri": "https://localhost:8080/"
        }
      },
      "source": [
        "# Data standardization on all columns\n",
        "scalar = StandardScaler()\n",
        "X = scalar.fit_transform(New_data)\n",
        "print(X[:5], '\\n')\n",
        "print(X.shape)"
      ],
      "execution_count": 31,
      "outputs": [
        {
          "output_type": "stream",
          "text": [
            "[[ -1.96671476  -1.95059955  -1.94532508  -1.94144714  -0.47579856\n",
            "  -26.26411502]\n",
            " [ -1.93397518  -1.95681707  -1.94435421  -1.95251788  -0.86136052\n",
            "   -0.23379797]\n",
            " [ -1.95901133  -1.95538225  -1.93998527  -1.94674184  -0.12896443\n",
            "    0.10452572]\n",
            " [ -1.93686396  -1.95968669  -1.96182996  -1.96743932  -0.50416083\n",
            "   -0.42766617]\n",
            " [ -1.98164016  -1.99077429  -1.96911152  -1.98091675  -0.07563771\n",
            "   -0.28467634]] \n",
            "\n",
            "(1259, 6)\n"
          ],
          "name": "stdout"
        }
      ]
    },
    {
      "cell_type": "code",
      "metadata": {
        "id": "W0vM0qhxYjIN",
        "outputId": "fb867080-1bcb-4872-f489-869fcd9083e3",
        "colab": {
          "base_uri": "https://localhost:8080/"
        }
      },
      "source": [
        "# Test, train split\n",
        "\n",
        "index = int(0.67*len(X))\n",
        "train, test = X[:index], X[index:]\n",
        "print(train.shape)\n",
        "print(test.shape)"
      ],
      "execution_count": 32,
      "outputs": [
        {
          "output_type": "stream",
          "text": [
            "(843, 6)\n",
            "(416, 6)\n"
          ],
          "name": "stdout"
        }
      ]
    },
    {
      "cell_type": "code",
      "metadata": {
        "id": "tpr9-qS5gnCT"
      },
      "source": [
        "# Create a new dataset\n",
        "def create_dataset(dataset, T):\n",
        "  X, Y = [], []\n",
        "  for t in range(len(dataset) - T):\n",
        "    x = dataset[t:(t+T), :5]\n",
        "    y = dataset[t+T, 5] > 0\n",
        "    X.append(x)\n",
        "    Y.append(y)\n",
        "  return np.array(X), np.array(Y)"
      ],
      "execution_count": 33,
      "outputs": []
    },
    {
      "cell_type": "code",
      "metadata": {
        "id": "SiehusgTchH9",
        "outputId": "e34329e0-62bb-4c97-f148-5a41068acc3c",
        "colab": {
          "base_uri": "https://localhost:8080/"
        }
      },
      "source": [
        "# Remember input data X have to be NxTxD\n",
        "# Remember targets have to be a vector\n",
        "T = 10\n",
        "X_train, y_train = create_dataset(train, T)\n",
        "X_test, y_test = create_dataset(test, T)\n",
        "print(X_train.shape, y_train.shape)\n",
        "print(X_test.shape, y_test.shape)"
      ],
      "execution_count": 34,
      "outputs": [
        {
          "output_type": "stream",
          "text": [
            "(833, 10, 5) (833,)\n",
            "(406, 10, 5) (406,)\n"
          ],
          "name": "stdout"
        }
      ]
    },
    {
      "cell_type": "code",
      "metadata": {
        "id": "9_PKbxnxstyl"
      },
      "source": [
        "M = 20\n",
        "K = 1\n",
        "visible = Input(shape=(T, 5))\n",
        "hidden = LSTM(M)(visible)\n",
        "output = Dense(K, activation='sigmoid')(hidden)\n",
        "\n",
        "model = Model(inputs=visible, outputs=output)"
      ],
      "execution_count": 35,
      "outputs": []
    },
    {
      "cell_type": "code",
      "metadata": {
        "id": "f6p80SrAtcae",
        "outputId": "8829f9fb-a0ba-4d81-ec50-d93d130668c3",
        "colab": {
          "base_uri": "https://localhost:8080/"
        }
      },
      "source": [
        "model.summary()"
      ],
      "execution_count": 36,
      "outputs": [
        {
          "output_type": "stream",
          "text": [
            "Model: \"functional_3\"\n",
            "_________________________________________________________________\n",
            "Layer (type)                 Output Shape              Param #   \n",
            "=================================================================\n",
            "input_2 (InputLayer)         [(None, 10, 5)]           0         \n",
            "_________________________________________________________________\n",
            "lstm_1 (LSTM)                (None, 20)                2080      \n",
            "_________________________________________________________________\n",
            "dense_1 (Dense)              (None, 1)                 21        \n",
            "=================================================================\n",
            "Total params: 2,101\n",
            "Trainable params: 2,101\n",
            "Non-trainable params: 0\n",
            "_________________________________________________________________\n"
          ],
          "name": "stdout"
        }
      ]
    },
    {
      "cell_type": "code",
      "metadata": {
        "id": "rxs0REeJtuT8"
      },
      "source": [
        "model.compile(\n",
        "    loss = 'binary_crossentropy',\n",
        "    optimizer = 'adam',\n",
        "    metrics = ['accuracy']\n",
        ")"
      ],
      "execution_count": 37,
      "outputs": []
    },
    {
      "cell_type": "code",
      "metadata": {
        "id": "sbhEVIDwuDiv",
        "outputId": "9315d81b-89cb-412d-8e6d-57d6985a57d1",
        "colab": {
          "base_uri": "https://localhost:8080/"
        }
      },
      "source": [
        "r = model.fit(X_train, y_train, validation_data=(X_test, y_test), epochs = 50)           # default batch size = 32. \n",
        "                                                                                         # 833/32 = ~27"
      ],
      "execution_count": 38,
      "outputs": [
        {
          "output_type": "stream",
          "text": [
            "Epoch 1/50\n",
            "27/27 [==============================] - 1s 25ms/step - loss: 0.7033 - accuracy: 0.4862 - val_loss: 0.6951 - val_accuracy: 0.4828\n",
            "Epoch 2/50\n",
            "27/27 [==============================] - 0s 5ms/step - loss: 0.6950 - accuracy: 0.5102 - val_loss: 0.6969 - val_accuracy: 0.4828\n",
            "Epoch 3/50\n",
            "27/27 [==============================] - 0s 5ms/step - loss: 0.6939 - accuracy: 0.5162 - val_loss: 0.6986 - val_accuracy: 0.4828\n",
            "Epoch 4/50\n",
            "27/27 [==============================] - 0s 5ms/step - loss: 0.6957 - accuracy: 0.5222 - val_loss: 0.6946 - val_accuracy: 0.4828\n",
            "Epoch 5/50\n",
            "27/27 [==============================] - 0s 6ms/step - loss: 0.6934 - accuracy: 0.5234 - val_loss: 0.6945 - val_accuracy: 0.4828\n",
            "Epoch 6/50\n",
            "27/27 [==============================] - 0s 5ms/step - loss: 0.6933 - accuracy: 0.5054 - val_loss: 0.6919 - val_accuracy: 0.5567\n",
            "Epoch 7/50\n",
            "27/27 [==============================] - 0s 6ms/step - loss: 0.6929 - accuracy: 0.5186 - val_loss: 0.6922 - val_accuracy: 0.5369\n",
            "Epoch 8/50\n",
            "27/27 [==============================] - 0s 5ms/step - loss: 0.6928 - accuracy: 0.5138 - val_loss: 0.6906 - val_accuracy: 0.5591\n",
            "Epoch 9/50\n",
            "27/27 [==============================] - 0s 5ms/step - loss: 0.6927 - accuracy: 0.5198 - val_loss: 0.6900 - val_accuracy: 0.5468\n",
            "Epoch 10/50\n",
            "27/27 [==============================] - 0s 6ms/step - loss: 0.6921 - accuracy: 0.5222 - val_loss: 0.6910 - val_accuracy: 0.5320\n",
            "Epoch 11/50\n",
            "27/27 [==============================] - 0s 6ms/step - loss: 0.6913 - accuracy: 0.5270 - val_loss: 0.6908 - val_accuracy: 0.5419\n",
            "Epoch 12/50\n",
            "27/27 [==============================] - 0s 6ms/step - loss: 0.6918 - accuracy: 0.5222 - val_loss: 0.6904 - val_accuracy: 0.5517\n",
            "Epoch 13/50\n",
            "27/27 [==============================] - 0s 6ms/step - loss: 0.6914 - accuracy: 0.5366 - val_loss: 0.6923 - val_accuracy: 0.4951\n",
            "Epoch 14/50\n",
            "27/27 [==============================] - 0s 5ms/step - loss: 0.6908 - accuracy: 0.5342 - val_loss: 0.6915 - val_accuracy: 0.5443\n",
            "Epoch 15/50\n",
            "27/27 [==============================] - 0s 6ms/step - loss: 0.6903 - accuracy: 0.5366 - val_loss: 0.6911 - val_accuracy: 0.5271\n",
            "Epoch 16/50\n",
            "27/27 [==============================] - 0s 6ms/step - loss: 0.6904 - accuracy: 0.5318 - val_loss: 0.6914 - val_accuracy: 0.5222\n",
            "Epoch 17/50\n",
            "27/27 [==============================] - 0s 4ms/step - loss: 0.6911 - accuracy: 0.5342 - val_loss: 0.6921 - val_accuracy: 0.5049\n",
            "Epoch 18/50\n",
            "27/27 [==============================] - 0s 6ms/step - loss: 0.6900 - accuracy: 0.5330 - val_loss: 0.6938 - val_accuracy: 0.5000\n",
            "Epoch 19/50\n",
            "27/27 [==============================] - 0s 5ms/step - loss: 0.6899 - accuracy: 0.5354 - val_loss: 0.6953 - val_accuracy: 0.4975\n",
            "Epoch 20/50\n",
            "27/27 [==============================] - 0s 6ms/step - loss: 0.6896 - accuracy: 0.5390 - val_loss: 0.6937 - val_accuracy: 0.5025\n",
            "Epoch 21/50\n",
            "27/27 [==============================] - 0s 5ms/step - loss: 0.6897 - accuracy: 0.5450 - val_loss: 0.6958 - val_accuracy: 0.4852\n",
            "Epoch 22/50\n",
            "27/27 [==============================] - 0s 6ms/step - loss: 0.6904 - accuracy: 0.5354 - val_loss: 0.6964 - val_accuracy: 0.4828\n",
            "Epoch 23/50\n",
            "27/27 [==============================] - 0s 5ms/step - loss: 0.6905 - accuracy: 0.5270 - val_loss: 0.6935 - val_accuracy: 0.4852\n",
            "Epoch 24/50\n",
            "27/27 [==============================] - 0s 5ms/step - loss: 0.6896 - accuracy: 0.5354 - val_loss: 0.6986 - val_accuracy: 0.4975\n",
            "Epoch 25/50\n",
            "27/27 [==============================] - 0s 5ms/step - loss: 0.6899 - accuracy: 0.5438 - val_loss: 0.6960 - val_accuracy: 0.5123\n",
            "Epoch 26/50\n",
            "27/27 [==============================] - 0s 5ms/step - loss: 0.6895 - accuracy: 0.5378 - val_loss: 0.6930 - val_accuracy: 0.5172\n",
            "Epoch 27/50\n",
            "27/27 [==============================] - 0s 5ms/step - loss: 0.6885 - accuracy: 0.5522 - val_loss: 0.6903 - val_accuracy: 0.5099\n",
            "Epoch 28/50\n",
            "27/27 [==============================] - 0s 6ms/step - loss: 0.6893 - accuracy: 0.5402 - val_loss: 0.6900 - val_accuracy: 0.5172\n",
            "Epoch 29/50\n",
            "27/27 [==============================] - 0s 6ms/step - loss: 0.6888 - accuracy: 0.5402 - val_loss: 0.6896 - val_accuracy: 0.5246\n",
            "Epoch 30/50\n",
            "27/27 [==============================] - 0s 5ms/step - loss: 0.6891 - accuracy: 0.5354 - val_loss: 0.6912 - val_accuracy: 0.5246\n",
            "Epoch 31/50\n",
            "27/27 [==============================] - 0s 5ms/step - loss: 0.6886 - accuracy: 0.5462 - val_loss: 0.6926 - val_accuracy: 0.5172\n",
            "Epoch 32/50\n",
            "27/27 [==============================] - 0s 6ms/step - loss: 0.6880 - accuracy: 0.5582 - val_loss: 0.6922 - val_accuracy: 0.5222\n",
            "Epoch 33/50\n",
            "27/27 [==============================] - 0s 6ms/step - loss: 0.6889 - accuracy: 0.5318 - val_loss: 0.6926 - val_accuracy: 0.5246\n",
            "Epoch 34/50\n",
            "27/27 [==============================] - 0s 5ms/step - loss: 0.6875 - accuracy: 0.5438 - val_loss: 0.6923 - val_accuracy: 0.5222\n",
            "Epoch 35/50\n",
            "27/27 [==============================] - 0s 6ms/step - loss: 0.6876 - accuracy: 0.5450 - val_loss: 0.6933 - val_accuracy: 0.5197\n",
            "Epoch 36/50\n",
            "27/27 [==============================] - 0s 5ms/step - loss: 0.6875 - accuracy: 0.5378 - val_loss: 0.6939 - val_accuracy: 0.5123\n",
            "Epoch 37/50\n",
            "27/27 [==============================] - 0s 6ms/step - loss: 0.6873 - accuracy: 0.5318 - val_loss: 0.6933 - val_accuracy: 0.5246\n",
            "Epoch 38/50\n",
            "27/27 [==============================] - 0s 5ms/step - loss: 0.6866 - accuracy: 0.5738 - val_loss: 0.6931 - val_accuracy: 0.5246\n",
            "Epoch 39/50\n",
            "27/27 [==============================] - 0s 5ms/step - loss: 0.6868 - accuracy: 0.5330 - val_loss: 0.6930 - val_accuracy: 0.5197\n",
            "Epoch 40/50\n",
            "27/27 [==============================] - 0s 5ms/step - loss: 0.6881 - accuracy: 0.5366 - val_loss: 0.6930 - val_accuracy: 0.5271\n",
            "Epoch 41/50\n",
            "27/27 [==============================] - 0s 6ms/step - loss: 0.6869 - accuracy: 0.5366 - val_loss: 0.6945 - val_accuracy: 0.5172\n",
            "Epoch 42/50\n",
            "27/27 [==============================] - 0s 5ms/step - loss: 0.6867 - accuracy: 0.5390 - val_loss: 0.6949 - val_accuracy: 0.5123\n",
            "Epoch 43/50\n",
            "27/27 [==============================] - 0s 5ms/step - loss: 0.6859 - accuracy: 0.5450 - val_loss: 0.6961 - val_accuracy: 0.5074\n",
            "Epoch 44/50\n",
            "27/27 [==============================] - 0s 5ms/step - loss: 0.6859 - accuracy: 0.5462 - val_loss: 0.6981 - val_accuracy: 0.4975\n",
            "Epoch 45/50\n",
            "27/27 [==============================] - 0s 5ms/step - loss: 0.6866 - accuracy: 0.5402 - val_loss: 0.7001 - val_accuracy: 0.5025\n",
            "Epoch 46/50\n",
            "27/27 [==============================] - 0s 5ms/step - loss: 0.6851 - accuracy: 0.5438 - val_loss: 0.6974 - val_accuracy: 0.4951\n",
            "Epoch 47/50\n",
            "27/27 [==============================] - 0s 5ms/step - loss: 0.6844 - accuracy: 0.5630 - val_loss: 0.6967 - val_accuracy: 0.5123\n",
            "Epoch 48/50\n",
            "27/27 [==============================] - 0s 6ms/step - loss: 0.6853 - accuracy: 0.5690 - val_loss: 0.6953 - val_accuracy: 0.5246\n",
            "Epoch 49/50\n",
            "27/27 [==============================] - 0s 5ms/step - loss: 0.6854 - accuracy: 0.5594 - val_loss: 0.6963 - val_accuracy: 0.5148\n",
            "Epoch 50/50\n",
            "27/27 [==============================] - 0s 5ms/step - loss: 0.6842 - accuracy: 0.5726 - val_loss: 0.6963 - val_accuracy: 0.5172\n"
          ],
          "name": "stdout"
        }
      ]
    },
    {
      "cell_type": "code",
      "metadata": {
        "id": "KUbz630Q0_1k",
        "outputId": "9f9553a8-94e4-43b3-f1cc-a2756a6360c6",
        "colab": {
          "base_uri": "https://localhost:8080/"
        }
      },
      "source": [
        "r.history.keys()"
      ],
      "execution_count": 39,
      "outputs": [
        {
          "output_type": "execute_result",
          "data": {
            "text/plain": [
              "dict_keys(['loss', 'accuracy', 'val_loss', 'val_accuracy'])"
            ]
          },
          "metadata": {
            "tags": []
          },
          "execution_count": 39
        }
      ]
    },
    {
      "cell_type": "code",
      "metadata": {
        "id": "PDsv05yw1GIJ",
        "outputId": "cf0e46b7-263c-4ed8-c145-9e4ed11eca79",
        "colab": {
          "base_uri": "https://localhost:8080/",
          "height": 513
        }
      },
      "source": [
        "# Clearly shows we cannot predict if the return will increase or decrease\n",
        "plt.plot(r.history['loss'], label='Training cost')\n",
        "plt.plot(r.history['val_loss'], label='Test cost')\n",
        "plt.legend()\n",
        "plt.show()\n",
        "\n",
        "plt.plot(r.history['accuracy'], label='Training accuracy')\n",
        "plt.plot(r.history['val_accuracy'], label='Test accuracy')\n",
        "plt.legend()\n",
        "plt.show()"
      ],
      "execution_count": 40,
      "outputs": [
        {
          "output_type": "display_data",
          "data": {
            "image/png": "[encoded data removed]",
            "text/plain": [
              "<Figure size 432x288 with 1 Axes>"
            ]
          },
          "metadata": {
            "tags": [],
            "needs_background": "light"
          }
        },
        {
          "output_type": "display_data",
          "data": {
            "image/png": "[encoded data removed]",
            "text/plain": [
              "<Figure size 432x288 with 1 Axes>"
            ]
          },
          "metadata": {
            "tags": [],
            "needs_background": "light"
          }
        }
      ]
    }
  ]
}
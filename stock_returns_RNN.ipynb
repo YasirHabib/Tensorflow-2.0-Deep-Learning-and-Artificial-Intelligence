{
  "nbformat": 4,
  "nbformat_minor": 0,
  "metadata": {
    "colab": {
      "name": "stock_returns_RNN.ipynb",
      "provenance": [],
      "collapsed_sections": [],
      "authorship_tag": "ABX9TyNv3l8Nj184R4VoHTWMIK0a"
    },
    "kernelspec": {
      "name": "python3",
      "display_name": "Python 3"
    }
  },
  "cells": [
    {
      "cell_type": "code",
      "metadata": {
        "id": "3aWucOytLzrV"
      },
      "source": [
        "import numpy as np\n",
        "import matplotlib.pyplot as plt\n",
        "import pandas as pd"
      ],
      "execution_count": 1,
      "outputs": []
    },
    {
      "cell_type": "code",
      "metadata": {
        "id": "4QBh86gwU9Vs"
      },
      "source": [
        "from sklearn.preprocessing import StandardScaler"
      ],
      "execution_count": 2,
      "outputs": []
    },
    {
      "cell_type": "code",
      "metadata": {
        "id": "Bwz8Rh_wCQDH",
        "outputId": "7b18b718-a754-4daf-86e7-2750d9b21a32",
        "colab": {
          "base_uri": "https://localhost:8080/"
        }
      },
      "source": [
        "!wget https://raw.githubusercontent.com/lazyprogrammer/machine_learning_examples/master/tf2.0/sbux.csv"
      ],
      "execution_count": 3,
      "outputs": [
        {
          "output_type": "stream",
          "text": [
            "--2020-11-12 06:25:50--  https://raw.githubusercontent.com/lazyprogrammer/machine_learning_examples/master/tf2.0/sbux.csv\n",
            "Resolving raw.githubusercontent.com (raw.githubusercontent.com)... 151.101.0.133, 151.101.64.133, 151.101.128.133, ...\n",
            "Connecting to raw.githubusercontent.com (raw.githubusercontent.com)|151.101.0.133|:443... connected.\n",
            "HTTP request sent, awaiting response... 200 OK\n",
            "Length: 61896 (60K) [text/plain]\n",
            "Saving to: ‘sbux.csv’\n",
            "\n",
            "sbux.csv            100%[===================>]  60.45K  --.-KB/s    in 0.01s   \n",
            "\n",
            "2020-11-12 06:25:51 (4.85 MB/s) - ‘sbux.csv’ saved [61896/61896]\n",
            "\n"
          ],
          "name": "stdout"
        }
      ]
    },
    {
      "cell_type": "code",
      "metadata": {
        "id": "hghjCbRnJ_V3",
        "outputId": "8f8fa5ea-8195-474b-d874-e9f2093f929b",
        "colab": {
          "base_uri": "https://localhost:8080/"
        }
      },
      "source": [
        "df = pd.read_csv('sbux.csv')\n",
        "df.info()"
      ],
      "execution_count": 4,
      "outputs": [
        {
          "output_type": "stream",
          "text": [
            "<class 'pandas.core.frame.DataFrame'>\n",
            "RangeIndex: 1259 entries, 0 to 1258\n",
            "Data columns (total 7 columns):\n",
            " #   Column  Non-Null Count  Dtype  \n",
            "---  ------  --------------  -----  \n",
            " 0   date    1259 non-null   object \n",
            " 1   open    1259 non-null   float64\n",
            " 2   high    1259 non-null   float64\n",
            " 3   low     1259 non-null   float64\n",
            " 4   close   1259 non-null   float64\n",
            " 5   volume  1259 non-null   int64  \n",
            " 6   Name    1259 non-null   object \n",
            "dtypes: float64(4), int64(1), object(2)\n",
            "memory usage: 69.0+ KB\n"
          ],
          "name": "stdout"
        }
      ]
    },
    {
      "cell_type": "code",
      "metadata": {
        "id": "Du38qlg2ZxeQ",
        "outputId": "b2944bbe-ef9a-4d90-d40a-2315f58d8bfb",
        "colab": {
          "base_uri": "https://localhost:8080/"
        }
      },
      "source": [
        "type(df)"
      ],
      "execution_count": 5,
      "outputs": [
        {
          "output_type": "execute_result",
          "data": {
            "text/plain": [
              "pandas.core.frame.DataFrame"
            ]
          },
          "metadata": {
            "tags": []
          },
          "execution_count": 5
        }
      ]
    },
    {
      "cell_type": "code",
      "metadata": {
        "id": "e9DG6tRu2WG1",
        "outputId": "6b9ce204-ed7f-4f15-dd97-4b41fb604220",
        "colab": {
          "base_uri": "https://localhost:8080/"
        }
      },
      "source": [
        "print(df.head(),'\\n')\n",
        "print(df.tail())"
      ],
      "execution_count": 6,
      "outputs": [
        {
          "output_type": "stream",
          "text": [
            "         date    open    high     low   close   volume  Name\n",
            "0  2013-02-08  27.920  28.325  27.920  28.185  7146296  SBUX\n",
            "1  2013-02-11  28.260  28.260  27.930  28.070  5457354  SBUX\n",
            "2  2013-02-12  28.000  28.275  27.975  28.130  8665592  SBUX\n",
            "3  2013-02-13  28.230  28.230  27.750  27.915  7022056  SBUX\n",
            "4  2013-02-14  27.765  27.905  27.675  27.775  8899188  SBUX \n",
            "\n",
            "            date    open   high    low  close    volume  Name\n",
            "1254  2018-02-01  56.280  56.42  55.89  56.00  14690146  SBUX\n",
            "1255  2018-02-02  55.900  56.32  55.70  55.77  15358909  SBUX\n",
            "1256  2018-02-05  55.530  56.26  54.57  54.69  16059955  SBUX\n",
            "1257  2018-02-06  53.685  56.06  53.56  55.61  17415065  SBUX\n",
            "1258  2018-02-07  55.080  55.43  54.44  54.46  13927022  SBUX\n"
          ],
          "name": "stdout"
        }
      ]
    },
    {
      "cell_type": "code",
      "metadata": {
        "id": "lVoGVFjPRHqA",
        "outputId": "36346aee-7c1d-46b2-bb2a-621de458bbbd",
        "colab": {
          "base_uri": "https://localhost:8080/"
        }
      },
      "source": [
        "df.shape"
      ],
      "execution_count": 7,
      "outputs": [
        {
          "output_type": "execute_result",
          "data": {
            "text/plain": [
              "(1259, 7)"
            ]
          },
          "metadata": {
            "tags": []
          },
          "execution_count": 7
        }
      ]
    },
    {
      "cell_type": "code",
      "metadata": {
        "id": "lpZgScCrRxDr",
        "outputId": "32095998-6f35-49bc-c773-16a0fe9b290f",
        "colab": {
          "base_uri": "https://localhost:8080/"
        }
      },
      "source": [
        "# Convert into numpy array\n",
        "Data=df.to_numpy()\n",
        "print(Data.shape)"
      ],
      "execution_count": 8,
      "outputs": [
        {
          "output_type": "stream",
          "text": [
            "(1259, 7)\n"
          ],
          "name": "stdout"
        }
      ]
    },
    {
      "cell_type": "code",
      "metadata": {
        "id": "Ji9fgEDfZ5M-",
        "outputId": "31df7c21-931e-44a5-8ce1-13de669c32c7",
        "colab": {
          "base_uri": "https://localhost:8080/"
        }
      },
      "source": [
        "type(Data)"
      ],
      "execution_count": 9,
      "outputs": [
        {
          "output_type": "execute_result",
          "data": {
            "text/plain": [
              "numpy.ndarray"
            ]
          },
          "metadata": {
            "tags": []
          },
          "execution_count": 9
        }
      ]
    },
    {
      "cell_type": "code",
      "metadata": {
        "id": "jXOZR0w_TeN1",
        "outputId": "079d3742-e840-4481-80ce-a3e4fd1f5fc4",
        "colab": {
          "base_uri": "https://localhost:8080/"
        }
      },
      "source": [
        "# To predict column 4 (closing price)\n",
        "Closing_price = Data[:, 4].reshape(-1, 1)\n",
        "Closing_price.shape"
      ],
      "execution_count": 10,
      "outputs": [
        {
          "output_type": "execute_result",
          "data": {
            "text/plain": [
              "(1259, 1)"
            ]
          },
          "metadata": {
            "tags": []
          },
          "execution_count": 10
        }
      ]
    },
    {
      "cell_type": "code",
      "metadata": {
        "id": "VO9yOOA7ZITV",
        "outputId": "03f4ddd1-0c7a-45f4-cd84-0b77f05a6ca8",
        "colab": {
          "base_uri": "https://localhost:8080/"
        }
      },
      "source": [
        "# Print to visualize\n",
        "Closing_price"
      ],
      "execution_count": 11,
      "outputs": [
        {
          "output_type": "execute_result",
          "data": {
            "text/plain": [
              "array([[28.185],\n",
              "       [28.07],\n",
              "       [28.13],\n",
              "       ...,\n",
              "       [54.69],\n",
              "       [55.61],\n",
              "       [54.46]], dtype=object)"
            ]
          },
          "metadata": {
            "tags": []
          },
          "execution_count": 11
        }
      ]
    },
    {
      "cell_type": "code",
      "metadata": {
        "id": "wqRr0wloUCnA"
      },
      "source": [
        "# Data standardization\n",
        "scalar = StandardScaler()\n",
        "Closing_price = scalar.fit_transform(Closing_price)"
      ],
      "execution_count": 12,
      "outputs": []
    },
    {
      "cell_type": "code",
      "metadata": {
        "id": "9GG9CjDaZVN-",
        "outputId": "3014fa03-69a8-4074-c496-40576d4a7f81",
        "colab": {
          "base_uri": "https://localhost:8080/"
        }
      },
      "source": [
        "# Print to visualize\n",
        "Closing_price"
      ],
      "execution_count": 15,
      "outputs": [
        {
          "output_type": "execute_result",
          "data": {
            "text/plain": [
              "array([[-1.94144714],\n",
              "       [-1.95251788],\n",
              "       [-1.94674184],\n",
              "       ...,\n",
              "       [ 0.61011874],\n",
              "       [ 0.6986847 ],\n",
              "       [ 0.58797726]])"
            ]
          },
          "metadata": {
            "tags": []
          },
          "execution_count": 15
        }
      ]
    },
    {
      "cell_type": "code",
      "metadata": {
        "id": "KpUIL9j0ZicU",
        "outputId": "a5e26fed-7372-4e78-c034-9557bc3cca15",
        "colab": {
          "base_uri": "https://localhost:8080/"
        }
      },
      "source": [
        "# Train, test split\n",
        "index = int(0.67*len(Closing_price))\n",
        "train_data, test_data = Closing_price[:index], Closing_price[index:]\n",
        "print(train_data.shape)\n",
        "print(test_data.shape)"
      ],
      "execution_count": 26,
      "outputs": [
        {
          "output_type": "stream",
          "text": [
            "(843, 1)\n",
            "(416, 1)\n"
          ],
          "name": "stdout"
        }
      ]
    }
  ]
}
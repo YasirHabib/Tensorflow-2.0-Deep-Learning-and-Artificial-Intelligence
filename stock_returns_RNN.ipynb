{
  "nbformat": 4,
  "nbformat_minor": 0,
  "metadata": {
    "colab": {
      "name": "stock_returns_RNN.ipynb",
      "provenance": [],
      "collapsed_sections": [],
      "authorship_tag": "ABX9TyNWlzUKml93/YHqJI66xtQK"
    },
    "kernelspec": {
      "display_name": "Python 3",
      "name": "python3"
    }
  },
  "cells": [
    {
      "cell_type": "code",
      "metadata": {
        "id": "3aWucOytLzrV"
      },
      "source": [
        "import numpy as np\n",
        "import matplotlib.pyplot as plt\n",
        "import pandas as pd"
      ],
      "execution_count": 1,
      "outputs": []
    },
    {
      "cell_type": "code",
      "metadata": {
        "id": "4QBh86gwU9Vs"
      },
      "source": [
        "from sklearn.preprocessing import StandardScaler\n",
        "from tensorflow.keras.layers import Input, LSTM, Dense\n",
        "from tensorflow.keras.models import Model\n",
        "from tensorflow.keras.utils import plot_model"
      ],
      "execution_count": 2,
      "outputs": []
    },
    {
      "cell_type": "code",
      "metadata": {
        "id": "Bwz8Rh_wCQDH",
        "outputId": "b79f7ce4-3f1c-418d-f036-0f60779d6b83",
        "colab": {
          "base_uri": "https://localhost:8080/"
        }
      },
      "source": [
        "!wget https://raw.githubusercontent.com/lazyprogrammer/machine_learning_examples/master/tf2.0/sbux.csv"
      ],
      "execution_count": 3,
      "outputs": [
        {
          "output_type": "stream",
          "text": [
            "--2020-11-13 08:18:29--  https://raw.githubusercontent.com/lazyprogrammer/machine_learning_examples/master/tf2.0/sbux.csv\n",
            "Resolving raw.githubusercontent.com (raw.githubusercontent.com)... 151.101.0.133, 151.101.64.133, 151.101.128.133, ...\n",
            "Connecting to raw.githubusercontent.com (raw.githubusercontent.com)|151.101.0.133|:443... connected.\n",
            "HTTP request sent, awaiting response... 200 OK\n",
            "Length: 61896 (60K) [text/plain]\n",
            "Saving to: ‘sbux.csv.1’\n",
            "\n",
            "\rsbux.csv.1            0%[                    ]       0  --.-KB/s               \rsbux.csv.1          100%[===================>]  60.45K  --.-KB/s    in 0.01s   \n",
            "\n",
            "2020-11-13 08:18:29 (4.48 MB/s) - ‘sbux.csv.1’ saved [61896/61896]\n",
            "\n"
          ],
          "name": "stdout"
        }
      ]
    },
    {
      "cell_type": "code",
      "metadata": {
        "id": "hghjCbRnJ_V3",
        "outputId": "bcb3aa31-b94f-43d1-8c26-4d041789aca9",
        "colab": {
          "base_uri": "https://localhost:8080/"
        }
      },
      "source": [
        "df = pd.read_csv('sbux.csv')\n",
        "df.info()"
      ],
      "execution_count": 4,
      "outputs": [
        {
          "output_type": "stream",
          "text": [
            "<class 'pandas.core.frame.DataFrame'>\n",
            "RangeIndex: 1259 entries, 0 to 1258\n",
            "Data columns (total 7 columns):\n",
            " #   Column  Non-Null Count  Dtype  \n",
            "---  ------  --------------  -----  \n",
            " 0   date    1259 non-null   object \n",
            " 1   open    1259 non-null   float64\n",
            " 2   high    1259 non-null   float64\n",
            " 3   low     1259 non-null   float64\n",
            " 4   close   1259 non-null   float64\n",
            " 5   volume  1259 non-null   int64  \n",
            " 6   Name    1259 non-null   object \n",
            "dtypes: float64(4), int64(1), object(2)\n",
            "memory usage: 69.0+ KB\n"
          ],
          "name": "stdout"
        }
      ]
    },
    {
      "cell_type": "code",
      "metadata": {
        "id": "Du38qlg2ZxeQ",
        "outputId": "55769043-d6f4-408b-cca6-3ddcebc2e1cd",
        "colab": {
          "base_uri": "https://localhost:8080/"
        }
      },
      "source": [
        "type(df)"
      ],
      "execution_count": 5,
      "outputs": [
        {
          "output_type": "execute_result",
          "data": {
            "text/plain": [
              "pandas.core.frame.DataFrame"
            ]
          },
          "metadata": {
            "tags": []
          },
          "execution_count": 5
        }
      ]
    },
    {
      "cell_type": "code",
      "metadata": {
        "id": "e9DG6tRu2WG1",
        "outputId": "8d246b9c-eadd-4ecd-8408-1494db5895d0",
        "colab": {
          "base_uri": "https://localhost:8080/"
        }
      },
      "source": [
        "print(df.head(),'\\n')\n",
        "print(df.tail())"
      ],
      "execution_count": 6,
      "outputs": [
        {
          "output_type": "stream",
          "text": [
            "         date    open    high     low   close   volume  Name\n",
            "0  2013-02-08  27.920  28.325  27.920  28.185  7146296  SBUX\n",
            "1  2013-02-11  28.260  28.260  27.930  28.070  5457354  SBUX\n",
            "2  2013-02-12  28.000  28.275  27.975  28.130  8665592  SBUX\n",
            "3  2013-02-13  28.230  28.230  27.750  27.915  7022056  SBUX\n",
            "4  2013-02-14  27.765  27.905  27.675  27.775  8899188  SBUX \n",
            "\n",
            "            date    open   high    low  close    volume  Name\n",
            "1254  2018-02-01  56.280  56.42  55.89  56.00  14690146  SBUX\n",
            "1255  2018-02-02  55.900  56.32  55.70  55.77  15358909  SBUX\n",
            "1256  2018-02-05  55.530  56.26  54.57  54.69  16059955  SBUX\n",
            "1257  2018-02-06  53.685  56.06  53.56  55.61  17415065  SBUX\n",
            "1258  2018-02-07  55.080  55.43  54.44  54.46  13927022  SBUX\n"
          ],
          "name": "stdout"
        }
      ]
    },
    {
      "cell_type": "code",
      "metadata": {
        "id": "lVoGVFjPRHqA",
        "outputId": "320d21aa-5152-4add-bd8f-266b652a1c0d",
        "colab": {
          "base_uri": "https://localhost:8080/"
        }
      },
      "source": [
        "df.shape"
      ],
      "execution_count": 7,
      "outputs": [
        {
          "output_type": "execute_result",
          "data": {
            "text/plain": [
              "(1259, 7)"
            ]
          },
          "metadata": {
            "tags": []
          },
          "execution_count": 7
        }
      ]
    },
    {
      "cell_type": "code",
      "metadata": {
        "id": "lpZgScCrRxDr",
        "outputId": "7989d81b-2e44-4005-ad50-28697cc20e5d",
        "colab": {
          "base_uri": "https://localhost:8080/"
        }
      },
      "source": [
        "# Convert into numpy array\n",
        "Data=df.to_numpy()\n",
        "print(Data.shape)"
      ],
      "execution_count": 8,
      "outputs": [
        {
          "output_type": "stream",
          "text": [
            "(1259, 7)\n"
          ],
          "name": "stdout"
        }
      ]
    },
    {
      "cell_type": "code",
      "metadata": {
        "id": "Ji9fgEDfZ5M-",
        "outputId": "337c9ff3-65e3-4873-be87-ea308192f20e",
        "colab": {
          "base_uri": "https://localhost:8080/"
        }
      },
      "source": [
        "type(Data)"
      ],
      "execution_count": 9,
      "outputs": [
        {
          "output_type": "execute_result",
          "data": {
            "text/plain": [
              "numpy.ndarray"
            ]
          },
          "metadata": {
            "tags": []
          },
          "execution_count": 9
        }
      ]
    },
    {
      "cell_type": "code",
      "metadata": {
        "id": "jXOZR0w_TeN1",
        "outputId": "626ddf12-05c5-4846-ac89-1edd1ed0cfd5",
        "colab": {
          "base_uri": "https://localhost:8080/"
        }
      },
      "source": [
        "# To predict column 4 (closing price). Specifying column gives a vector of size (1259,)\n",
        "Closing_price = Data[:, 4].reshape(-1, 1)\n",
        "Closing_price.shape"
      ],
      "execution_count": 10,
      "outputs": [
        {
          "output_type": "execute_result",
          "data": {
            "text/plain": [
              "(1259, 1)"
            ]
          },
          "metadata": {
            "tags": []
          },
          "execution_count": 10
        }
      ]
    },
    {
      "cell_type": "code",
      "metadata": {
        "id": "VO9yOOA7ZITV",
        "outputId": "d33f9e6d-8e22-487e-d56e-4d498d3a1a07",
        "colab": {
          "base_uri": "https://localhost:8080/"
        }
      },
      "source": [
        "# Print to visualize\n",
        "Closing_price"
      ],
      "execution_count": 11,
      "outputs": [
        {
          "output_type": "execute_result",
          "data": {
            "text/plain": [
              "array([[28.185],\n",
              "       [28.07],\n",
              "       [28.13],\n",
              "       ...,\n",
              "       [54.69],\n",
              "       [55.61],\n",
              "       [54.46]], dtype=object)"
            ]
          },
          "metadata": {
            "tags": []
          },
          "execution_count": 11
        }
      ]
    },
    {
      "cell_type": "code",
      "metadata": {
        "id": "wqRr0wloUCnA"
      },
      "source": [
        "# Data standardization\n",
        "scalar = StandardScaler()\n",
        "Closing_price = scalar.fit_transform(Closing_price)"
      ],
      "execution_count": 12,
      "outputs": []
    },
    {
      "cell_type": "code",
      "metadata": {
        "id": "9GG9CjDaZVN-",
        "outputId": "2405fb31-e148-4975-edcb-e41d872f8b32",
        "colab": {
          "base_uri": "https://localhost:8080/"
        }
      },
      "source": [
        "# Print to visualize\n",
        "Closing_price"
      ],
      "execution_count": 13,
      "outputs": [
        {
          "output_type": "execute_result",
          "data": {
            "text/plain": [
              "array([[-1.94144714],\n",
              "       [-1.95251788],\n",
              "       [-1.94674184],\n",
              "       ...,\n",
              "       [ 0.61011874],\n",
              "       [ 0.6986847 ],\n",
              "       [ 0.58797726]])"
            ]
          },
          "metadata": {
            "tags": []
          },
          "execution_count": 13
        }
      ]
    },
    {
      "cell_type": "code",
      "metadata": {
        "id": "KpUIL9j0ZicU",
        "outputId": "8a93e26e-5850-4a19-aa9b-01076fa76545",
        "colab": {
          "base_uri": "https://localhost:8080/"
        }
      },
      "source": [
        "# Train, test split. Again specifying a column: train, test = Closing_price[:index, 0], Closing_price[index:, 0] would have given a vector of size\n",
        "# (843,) & (416,)\n",
        "index = int(0.67*len(Closing_price))\n",
        "train, test = Closing_price[:index], Closing_price[index:]\n",
        "print(train.shape)\n",
        "print(test.shape)"
      ],
      "execution_count": 14,
      "outputs": [
        {
          "output_type": "stream",
          "text": [
            "(843, 1)\n",
            "(416, 1)\n"
          ],
          "name": "stdout"
        }
      ]
    },
    {
      "cell_type": "code",
      "metadata": {
        "id": "_EoamcKjNRxz"
      },
      "source": [
        "# Create a new dataset\n",
        "def create_dataset(dataset, T):\n",
        "  X, Y = [], []\n",
        "  for t in range(len(dataset) - T):\n",
        "    x = dataset[t:(t+T)]\n",
        "    y = dataset[t+T, 0]\n",
        "    X.append(x)\n",
        "    Y.append(y)\n",
        "  return np.array(X), np.array(Y)"
      ],
      "execution_count": 15,
      "outputs": []
    },
    {
      "cell_type": "code",
      "metadata": {
        "id": "srOKqIQeO85b",
        "outputId": "617a3bbc-4b7d-498a-d140-85131c418310",
        "colab": {
          "base_uri": "https://localhost:8080/"
        }
      },
      "source": [
        "# Remember input data X have to be NxTxD\n",
        "# Remember targets have to be a vector\n",
        "T = 10\n",
        "X_train, y_train = create_dataset(train, T)\n",
        "X_test, y_test = create_dataset(test, T)\n",
        "print(X_train.shape, y_train.shape)\n",
        "print(X_test.shape, y_test.shape)"
      ],
      "execution_count": 16,
      "outputs": [
        {
          "output_type": "stream",
          "text": [
            "(833, 10, 1) (833,)\n",
            "(406, 10, 1) (406,)\n"
          ],
          "name": "stdout"
        }
      ]
    },
    {
      "cell_type": "code",
      "metadata": {
        "id": "HXsuwtmwazWQ"
      },
      "source": [
        "M = 20\n",
        "K = 1\n",
        "visible = Input(shape=(T, 1))\n",
        "hidden = LSTM(M)(visible)\n",
        "output = Dense(K)(hidden)\n",
        "\n",
        "model = Model(inputs=visible, outputs=output)"
      ],
      "execution_count": 17,
      "outputs": []
    },
    {
      "cell_type": "code",
      "metadata": {
        "id": "BbDbM8mJdSeS",
        "outputId": "302a0c5f-26df-43da-9184-6f948df19ebd",
        "colab": {
          "base_uri": "https://localhost:8080/"
        }
      },
      "source": [
        "model.summary()"
      ],
      "execution_count": 18,
      "outputs": [
        {
          "output_type": "stream",
          "text": [
            "Model: \"functional_1\"\n",
            "_________________________________________________________________\n",
            "Layer (type)                 Output Shape              Param #   \n",
            "=================================================================\n",
            "input_1 (InputLayer)         [(None, 10, 1)]           0         \n",
            "_________________________________________________________________\n",
            "lstm (LSTM)                  (None, 20)                1760      \n",
            "_________________________________________________________________\n",
            "dense (Dense)                (None, 1)                 21        \n",
            "=================================================================\n",
            "Total params: 1,781\n",
            "Trainable params: 1,781\n",
            "Non-trainable params: 0\n",
            "_________________________________________________________________\n"
          ],
          "name": "stdout"
        }
      ]
    },
    {
      "cell_type": "code",
      "metadata": {
        "id": "7YuaA1Mjd1Hi",
        "outputId": "eca6a7b2-3774-4ee3-dc34-c1e490b708a0",
        "colab": {
          "base_uri": "https://localhost:8080/",
          "height": 272
        }
      },
      "source": [
        "# plot graph\n",
        "plot_model(model, to_file='recurrent_neural_network.png')"
      ],
      "execution_count": 19,
      "outputs": [
        {
          "output_type": "execute_result",
          "data": {
            "image/png": "[encoded data removed]",
            "text/plain": [
              "<IPython.core.display.Image object>"
            ]
          },
          "metadata": {
            "tags": []
          },
          "execution_count": 19
        }
      ]
    },
    {
      "cell_type": "code",
      "metadata": {
        "id": "1jhuQzxUd4-y"
      },
      "source": [
        "model.compile(\n",
        "    loss = 'mean_squared_error',\n",
        "    optimizer = 'adam'\n",
        ")"
      ],
      "execution_count": 20,
      "outputs": []
    },
    {
      "cell_type": "code",
      "metadata": {
        "id": "cXzGZEVVnMJZ",
        "outputId": "ad07978c-aa2c-414d-acb5-a92eefc56c1c",
        "colab": {
          "base_uri": "https://localhost:8080/"
        }
      },
      "source": [
        "r = model.fit(X_train, y_train, validation_data=(X_test, y_test), epochs = 30)           # default batch size = 32. \n",
        "                                                                                         # 833/32 = ~27"
      ],
      "execution_count": 21,
      "outputs": [
        {
          "output_type": "stream",
          "text": [
            "Epoch 1/30\n",
            "27/27 [==============================] - 1s 22ms/step - loss: 0.2376 - val_loss: 0.1399\n",
            "Epoch 2/30\n",
            "27/27 [==============================] - 0s 7ms/step - loss: 0.0468 - val_loss: 0.0255\n",
            "Epoch 3/30\n",
            "27/27 [==============================] - 0s 6ms/step - loss: 0.0186 - val_loss: 0.0219\n",
            "Epoch 4/30\n",
            "27/27 [==============================] - 0s 6ms/step - loss: 0.0159 - val_loss: 0.0206\n",
            "Epoch 5/30\n",
            "27/27 [==============================] - 0s 7ms/step - loss: 0.0145 - val_loss: 0.0192\n",
            "Epoch 6/30\n",
            "27/27 [==============================] - 0s 7ms/step - loss: 0.0136 - val_loss: 0.0191\n",
            "Epoch 7/30\n",
            "27/27 [==============================] - 0s 7ms/step - loss: 0.0126 - val_loss: 0.0178\n",
            "Epoch 8/30\n",
            "27/27 [==============================] - 0s 7ms/step - loss: 0.0120 - val_loss: 0.0170\n",
            "Epoch 9/30\n",
            "27/27 [==============================] - 0s 7ms/step - loss: 0.0114 - val_loss: 0.0164\n",
            "Epoch 10/30\n",
            "27/27 [==============================] - 0s 6ms/step - loss: 0.0108 - val_loss: 0.0158\n",
            "Epoch 11/30\n",
            "27/27 [==============================] - 0s 6ms/step - loss: 0.0103 - val_loss: 0.0147\n",
            "Epoch 12/30\n",
            "27/27 [==============================] - 0s 7ms/step - loss: 0.0098 - val_loss: 0.0143\n",
            "Epoch 13/30\n",
            "27/27 [==============================] - 0s 7ms/step - loss: 0.0096 - val_loss: 0.0136\n",
            "Epoch 14/30\n",
            "27/27 [==============================] - 0s 6ms/step - loss: 0.0092 - val_loss: 0.0133\n",
            "Epoch 15/30\n",
            "27/27 [==============================] - 0s 6ms/step - loss: 0.0090 - val_loss: 0.0136\n",
            "Epoch 16/30\n",
            "27/27 [==============================] - 0s 6ms/step - loss: 0.0088 - val_loss: 0.0124\n",
            "Epoch 17/30\n",
            "27/27 [==============================] - 0s 6ms/step - loss: 0.0087 - val_loss: 0.0132\n",
            "Epoch 18/30\n",
            "27/27 [==============================] - 0s 6ms/step - loss: 0.0084 - val_loss: 0.0121\n",
            "Epoch 19/30\n",
            "27/27 [==============================] - 0s 6ms/step - loss: 0.0084 - val_loss: 0.0118\n",
            "Epoch 20/30\n",
            "27/27 [==============================] - 0s 6ms/step - loss: 0.0084 - val_loss: 0.0130\n",
            "Epoch 21/30\n",
            "27/27 [==============================] - 0s 6ms/step - loss: 0.0087 - val_loss: 0.0119\n",
            "Epoch 22/30\n",
            "27/27 [==============================] - 0s 7ms/step - loss: 0.0084 - val_loss: 0.0113\n",
            "Epoch 23/30\n",
            "27/27 [==============================] - 0s 6ms/step - loss: 0.0081 - val_loss: 0.0114\n",
            "Epoch 24/30\n",
            "27/27 [==============================] - 0s 7ms/step - loss: 0.0080 - val_loss: 0.0113\n",
            "Epoch 25/30\n",
            "27/27 [==============================] - 0s 7ms/step - loss: 0.0079 - val_loss: 0.0111\n",
            "Epoch 26/30\n",
            "27/27 [==============================] - 0s 7ms/step - loss: 0.0082 - val_loss: 0.0118\n",
            "Epoch 27/30\n",
            "27/27 [==============================] - 0s 6ms/step - loss: 0.0079 - val_loss: 0.0106\n",
            "Epoch 28/30\n",
            "27/27 [==============================] - 0s 6ms/step - loss: 0.0077 - val_loss: 0.0104\n",
            "Epoch 29/30\n",
            "27/27 [==============================] - 0s 6ms/step - loss: 0.0081 - val_loss: 0.0103\n",
            "Epoch 30/30\n",
            "27/27 [==============================] - 0s 7ms/step - loss: 0.0077 - val_loss: 0.0107\n"
          ],
          "name": "stdout"
        }
      ]
    },
    {
      "cell_type": "code",
      "metadata": {
        "id": "Bkw0O4danar0",
        "outputId": "42334ab9-90d4-4358-d122-998a15c7d5b8",
        "colab": {
          "base_uri": "https://localhost:8080/"
        }
      },
      "source": [
        "r.history.keys()"
      ],
      "execution_count": 22,
      "outputs": [
        {
          "output_type": "execute_result",
          "data": {
            "text/plain": [
              "dict_keys(['loss', 'val_loss'])"
            ]
          },
          "metadata": {
            "tags": []
          },
          "execution_count": 22
        }
      ]
    },
    {
      "cell_type": "code",
      "metadata": {
        "id": "OflsqIEHnc1_",
        "outputId": "174f2d6c-e277-4050-d6df-2eded2027e08",
        "colab": {
          "base_uri": "https://localhost:8080/",
          "height": 265
        }
      },
      "source": [
        "plt.plot(r.history['loss'], label='Training cost')\n",
        "plt.plot(r.history['val_loss'], label='Test cost')\n",
        "plt.legend()\n",
        "plt.show()"
      ],
      "execution_count": 23,
      "outputs": [
        {
          "output_type": "display_data",
          "data": {
            "image/png": "[encoded data removed]",
            "text/plain": [
              "<Figure size 432x288 with 1 Axes>"
            ]
          },
          "metadata": {
            "tags": [],
            "needs_background": "light"
          }
        }
      ]
    }
  ]
}
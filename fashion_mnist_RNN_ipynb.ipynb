{
  "nbformat": 4,
  "nbformat_minor": 0,
  "metadata": {
    "colab": {
      "name": "fashion_mnist_RNN.ipynb.ipynb",
      "provenance": [],
      "collapsed_sections": [],
      "authorship_tag": "ABX9TyM3tTSMZU/NFLGS6IZxWkMC"
    },
    "kernelspec": {
      "name": "python3",
      "display_name": "Python 3"
    }
  },
  "cells": [
    {
      "cell_type": "code",
      "metadata": {
        "id": "8h8yaIGi5OS0",
        "outputId": "71de8b77-20f9-4da7-b2f8-525b3cc821bd",
        "colab": {
          "base_uri": "https://localhost:8080/"
        }
      },
      "source": [
        "# pip install tensorflow==2.0.0-beta1\n",
        "try:\n",
        "  %tensorflow_version 2.x  # Colab only.\n",
        "except Exception:\n",
        "  pass\n",
        "\n",
        "import tensorflow as tf\n",
        "print(tf.__version__)"
      ],
      "execution_count": 1,
      "outputs": [
        {
          "output_type": "stream",
          "text": [
            "`%tensorflow_version` only switches the major version: 1.x or 2.x.\n",
            "You set: `2.x  # Colab only.`. This will be interpreted as: `2.x`.\n",
            "\n",
            "\n",
            "TensorFlow 2.x selected.\n",
            "2.3.0\n"
          ],
          "name": "stdout"
        }
      ]
    },
    {
      "cell_type": "code",
      "metadata": {
        "id": "X7Jf9dPG4ZL5"
      },
      "source": [
        "import numpy as np\n",
        "import matplotlib.pyplot as plt"
      ],
      "execution_count": 2,
      "outputs": []
    },
    {
      "cell_type": "code",
      "metadata": {
        "id": "s0YUC6Sd502k"
      },
      "source": [
        "from tensorflow.keras.datasets.fashion_mnist import load_data\n",
        "from tensorflow.keras.layers import Input, SimpleRNN, GRU, LSTM, Dense\n",
        "from tensorflow.keras.models import Model\n",
        "from tensorflow.keras.utils import plot_model"
      ],
      "execution_count": 3,
      "outputs": []
    },
    {
      "cell_type": "code",
      "metadata": {
        "id": "lKxyn6sJ6_fm",
        "outputId": "2f86bfd9-2331-4bc7-f10c-0da64086f6bb",
        "colab": {
          "base_uri": "https://localhost:8080/"
        }
      },
      "source": [
        "dataset = load_data()"
      ],
      "execution_count": 4,
      "outputs": [
        {
          "output_type": "stream",
          "text": [
            "Downloading data from https://storage.googleapis.com/tensorflow/tf-keras-datasets/train-labels-idx1-ubyte.gz\n",
            "32768/29515 [=================================] - 0s 0us/step\n",
            "Downloading data from https://storage.googleapis.com/tensorflow/tf-keras-datasets/train-images-idx3-ubyte.gz\n",
            "26427392/26421880 [==============================] - 0s 0us/step\n",
            "Downloading data from https://storage.googleapis.com/tensorflow/tf-keras-datasets/t10k-labels-idx1-ubyte.gz\n",
            "8192/5148 [===============================================] - 0s 0us/step\n",
            "Downloading data from https://storage.googleapis.com/tensorflow/tf-keras-datasets/t10k-images-idx3-ubyte.gz\n",
            "4423680/4422102 [==============================] - 0s 0us/step\n"
          ],
          "name": "stdout"
        }
      ]
    },
    {
      "cell_type": "code",
      "metadata": {
        "id": "FkayeDnt7ElB",
        "outputId": "25ea5287-6220-4a27-eea5-1dd67be04d4b",
        "colab": {
          "base_uri": "https://localhost:8080/"
        }
      },
      "source": [
        "type(dataset)"
      ],
      "execution_count": 54,
      "outputs": [
        {
          "output_type": "execute_result",
          "data": {
            "text/plain": [
              "tuple"
            ]
          },
          "metadata": {
            "tags": []
          },
          "execution_count": 54
        }
      ]
    },
    {
      "cell_type": "code",
      "metadata": {
        "id": "t2_lpSxu7U2z",
        "outputId": "c552b014-6990-4ff8-abe5-e14b5d24d6a2",
        "colab": {
          "base_uri": "https://localhost:8080/"
        }
      },
      "source": [
        "(X_train, y_train), (X_test , y_test) = dataset\n",
        "\n",
        "print(X_train.shape, y_train.shape)\n",
        "print(X_test.shape, y_test.shape)"
      ],
      "execution_count": 55,
      "outputs": [
        {
          "output_type": "stream",
          "text": [
            "(60000, 28, 28) (60000,)\n",
            "(10000, 28, 28) (10000,)\n"
          ],
          "name": "stdout"
        }
      ]
    },
    {
      "cell_type": "code",
      "metadata": {
        "id": "ru2krqsgGloS"
      },
      "source": [
        "X_train, X_test = X_train / 255.0, X_test / 255.0"
      ],
      "execution_count": 56,
      "outputs": []
    },
    {
      "cell_type": "code",
      "metadata": {
        "id": "4HFhWsB6-lXc"
      },
      "source": [
        "# (X, y), (_ , _) = dataset\n",
        "# print(X.shape, y.shape)\n",
        "# (60000, 28, 28) (60000,)\n",
        "\n",
        "# N = len(X)\n",
        "# print(N)\n",
        "# 60000\n",
        "\n",
        "# X_train, y_train = X[:-N//2], y[:-N//2]\n",
        "# print(X_train.shape, y_train.shape)\n",
        "# (30000, 28, 28) (30000,)\n",
        "\n",
        "# X_test, y_test = X[-N//2:], y[-N//2:]\n",
        "# print(X_test.shape, y_test.shape)\n",
        "# (30000, 28, 28) (30000,)"
      ],
      "execution_count": 57,
      "outputs": []
    },
    {
      "cell_type": "code",
      "metadata": {
        "id": "3lyJfxY3bKlr"
      },
      "source": [
        "M = 128  # Hyperparameter. Hidden state of size M\n",
        "K = 10  # Fashion mnist has 10 output classes"
      ],
      "execution_count": 58,
      "outputs": []
    },
    {
      "cell_type": "code",
      "metadata": {
        "id": "osvX6Vocateo"
      },
      "source": [
        "visible = Input(shape=(28, 28))\n",
        "hidden = LSTM(M)(visible)\n",
        "output = Dense(K, activation='softmax')(hidden)\n",
        "\n",
        "model = Model(inputs=visible, outputs=output)"
      ],
      "execution_count": 59,
      "outputs": []
    },
    {
      "cell_type": "code",
      "metadata": {
        "id": "QmvQd5HSb89q",
        "outputId": "f5dbcea3-d388-4788-e56c-52aab308db41",
        "colab": {
          "base_uri": "https://localhost:8080/"
        }
      },
      "source": [
        "model.summary()"
      ],
      "execution_count": 60,
      "outputs": [
        {
          "output_type": "stream",
          "text": [
            "Model: \"functional_9\"\n",
            "_________________________________________________________________\n",
            "Layer (type)                 Output Shape              Param #   \n",
            "=================================================================\n",
            "input_5 (InputLayer)         [(None, 28, 28)]          0         \n",
            "_________________________________________________________________\n",
            "lstm_4 (LSTM)                (None, 128)               80384     \n",
            "_________________________________________________________________\n",
            "dense_4 (Dense)              (None, 10)                1290      \n",
            "=================================================================\n",
            "Total params: 81,674\n",
            "Trainable params: 81,674\n",
            "Non-trainable params: 0\n",
            "_________________________________________________________________\n"
          ],
          "name": "stdout"
        }
      ]
    },
    {
      "cell_type": "code",
      "metadata": {
        "id": "NqK3YVwrhgPO",
        "outputId": "3efa236f-79e8-4c8e-befa-41709bd49c82",
        "colab": {
          "base_uri": "https://localhost:8080/",
          "height": 272
        }
      },
      "source": [
        "# plot graph\n",
        "plot_model(model, to_file='recurrent_neural_network.png')"
      ],
      "execution_count": 61,
      "outputs": [
        {
          "output_type": "execute_result",
          "data": {
            "image/png": "[encoded data removed]",
            "text/plain": [
              "<IPython.core.display.Image object>"
            ]
          },
          "metadata": {
            "tags": []
          },
          "execution_count": 61
        }
      ]
    },
    {
      "cell_type": "code",
      "metadata": {
        "id": "5W7hKICZQ4JC"
      },
      "source": [
        "model.compile(\n",
        "    loss = 'sparse_categorical_crossentropy',\n",
        "    optimizer = 'adam',\n",
        "    metrics = ['accuracy']\n",
        ")"
      ],
      "execution_count": 62,
      "outputs": []
    },
    {
      "cell_type": "code",
      "metadata": {
        "id": "Y6y1CyUkS7WW",
        "outputId": "20fc4559-f1a6-4c63-a526-8c351f810314",
        "colab": {
          "base_uri": "https://localhost:8080/"
        }
      },
      "source": [
        "r = model.fit(X_train, y_train, validation_data=(X_test, y_test), epochs = 10)      # default batch size = 32. \n",
        "                                                                                    # 60000/32 = 1875"
      ],
      "execution_count": 63,
      "outputs": [
        {
          "output_type": "stream",
          "text": [
            "Epoch 1/10\n",
            "1875/1875 [==============================] - 46s 24ms/step - loss: 0.5750 - accuracy: 0.7875 - val_loss: 0.4547 - val_accuracy: 0.8340\n",
            "Epoch 2/10\n",
            "1875/1875 [==============================] - 45s 24ms/step - loss: 0.4007 - accuracy: 0.8530 - val_loss: 0.3944 - val_accuracy: 0.8529\n",
            "Epoch 3/10\n",
            "1875/1875 [==============================] - 45s 24ms/step - loss: 0.3555 - accuracy: 0.8691 - val_loss: 0.3555 - val_accuracy: 0.8690\n",
            "Epoch 4/10\n",
            "1875/1875 [==============================] - 46s 24ms/step - loss: 0.3267 - accuracy: 0.8795 - val_loss: 0.3464 - val_accuracy: 0.8718\n",
            "Epoch 5/10\n",
            "1875/1875 [==============================] - 46s 24ms/step - loss: 0.3045 - accuracy: 0.8856 - val_loss: 0.3306 - val_accuracy: 0.8789\n",
            "Epoch 6/10\n",
            "1875/1875 [==============================] - 46s 25ms/step - loss: 0.2872 - accuracy: 0.8921 - val_loss: 0.3374 - val_accuracy: 0.8790\n",
            "Epoch 7/10\n",
            "1875/1875 [==============================] - 46s 25ms/step - loss: 0.2711 - accuracy: 0.8998 - val_loss: 0.3132 - val_accuracy: 0.8871\n",
            "Epoch 8/10\n",
            "1875/1875 [==============================] - 46s 25ms/step - loss: 0.2572 - accuracy: 0.9026 - val_loss: 0.3035 - val_accuracy: 0.8885\n",
            "Epoch 9/10\n",
            "1875/1875 [==============================] - 46s 25ms/step - loss: 0.2460 - accuracy: 0.9079 - val_loss: 0.3036 - val_accuracy: 0.8903\n",
            "Epoch 10/10\n",
            "1875/1875 [==============================] - 46s 24ms/step - loss: 0.2355 - accuracy: 0.9111 - val_loss: 0.2912 - val_accuracy: 0.8930\n"
          ],
          "name": "stdout"
        }
      ]
    },
    {
      "cell_type": "code",
      "metadata": {
        "id": "eGPMisP55gxx",
        "outputId": "af4c43d0-5cd3-4a4e-de0b-772ec5a3b7bc",
        "colab": {
          "base_uri": "https://localhost:8080/"
        }
      },
      "source": [
        "r.history.keys()"
      ],
      "execution_count": 64,
      "outputs": [
        {
          "output_type": "execute_result",
          "data": {
            "text/plain": [
              "dict_keys(['loss', 'accuracy', 'val_loss', 'val_accuracy'])"
            ]
          },
          "metadata": {
            "tags": []
          },
          "execution_count": 64
        }
      ]
    },
    {
      "cell_type": "code",
      "metadata": {
        "id": "MuSlJIvZ7Nld",
        "outputId": "d0c7acff-49dc-4cd2-8f46-5923bd3e24f8",
        "colab": {
          "base_uri": "https://localhost:8080/",
          "height": 513
        }
      },
      "source": [
        "plt.plot(r.history['loss'], label='Training cost')\n",
        "plt.plot(r.history['val_loss'], label='Test cost')\n",
        "plt.legend()\n",
        "plt.show()\n",
        "\n",
        "plt.plot(r.history['accuracy'], label='Training accuracy')\n",
        "plt.plot(r.history['val_accuracy'], label='Test accuracy')\n",
        "plt.legend()\n",
        "plt.show()"
      ],
      "execution_count": 65,
      "outputs": [
        {
          "output_type": "display_data",
          "data": {
            "image/png": "[encoded data removed]",
            "text/plain": [
              "<Figure size 432x288 with 1 Axes>"
            ]
          },
          "metadata": {
            "tags": [],
            "needs_background": "light"
          }
        },
        {
          "output_type": "display_data",
          "data": {
            "image/png": "[encoded data removed]",
            "text/plain": [
              "<Figure size 432x288 with 1 Axes>"
            ]
          },
          "metadata": {
            "tags": [],
            "needs_background": "light"
          }
        }
      ]
    },
    {
      "cell_type": "code",
      "metadata": {
        "id": "7pUL0rV0FUyN",
        "outputId": "2fe2258c-5709-4630-9b72-141ef038d8b8",
        "colab": {
          "base_uri": "https://localhost:8080/"
        }
      },
      "source": [
        "# Evaluation.\n",
        "scores = model.evaluate(X_test, y_test, verbose=0)\n",
        "print('Test loss:', scores[0])\n",
        "print('Test accuracy:', scores[1])"
      ],
      "execution_count": 66,
      "outputs": [
        {
          "output_type": "stream",
          "text": [
            "Test loss: 0.291218101978302\n",
            "Test accuracy: 0.8930000066757202\n"
          ],
          "name": "stdout"
        }
      ]
    }
  ]
}
{
  "nbformat": 4,
  "nbformat_minor": 0,
  "metadata": {
    "colab": {
      "name": "mnist_classification_ann.ipynb",
      "provenance": [],
      "collapsed_sections": []
    },
    "kernelspec": {
      "name": "python3",
      "display_name": "Python 3"
    },
    "accelerator": "GPU"
  },
  "cells": [
    {
      "cell_type": "code",
      "metadata": {
        "id": "HQVClk_qM8bs",
        "colab_type": "code",
        "colab": {
          "base_uri": "https://localhost:8080/",
          "height": 119
        },
        "outputId": "ae019b72-382c-42d0-d12e-b5cfa67d7e6a"
      },
      "source": [
        "# pip install tensorflow==2.0.0-beta1\n",
        "try:\n",
        "  %tensorflow_version 2.x  # Colab only.\n",
        "except Exception:\n",
        "  pass\n",
        "\n",
        "import tensorflow as tf\n",
        "print(tf.__version__)"
      ],
      "execution_count": 1,
      "outputs": [
        {
          "output_type": "stream",
          "text": [
            "`%tensorflow_version` only switches the major version: `1.x` or `2.x`.\n",
            "You set: `2.x  # Colab only.`. This will be interpreted as: `2.x`.\n",
            "\n",
            "\n",
            "TensorFlow 2.x selected.\n",
            "2.1.0-rc1\n"
          ],
          "name": "stdout"
        }
      ]
    },
    {
      "cell_type": "code",
      "metadata": {
        "id": "zWFbZXcTNRV7",
        "colab_type": "code",
        "colab": {}
      },
      "source": [
        "import numpy as np\n",
        "import matplotlib.pyplot as plt\n",
        "from tensorflow.keras.datasets.mnist import load_data\n",
        "from tensorflow.keras.models import Sequential\n",
        "from tensorflow.keras.layers import Dense, Dropout"
      ],
      "execution_count": 0,
      "outputs": []
    },
    {
      "cell_type": "code",
      "metadata": {
        "id": "dg4-v5quPppZ",
        "colab_type": "code",
        "colab": {
          "base_uri": "https://localhost:8080/",
          "height": 34
        },
        "outputId": "8a114289-6ab7-487c-884c-0ae6a0c9aa0a"
      },
      "source": [
        "dataset = load_data()\n",
        "type(dataset)"
      ],
      "execution_count": 3,
      "outputs": [
        {
          "output_type": "execute_result",
          "data": {
            "text/plain": [
              "tuple"
            ]
          },
          "metadata": {
            "tags": []
          },
          "execution_count": 3
        }
      ]
    },
    {
      "cell_type": "code",
      "metadata": {
        "id": "xPENBSvUQCT1",
        "colab_type": "code",
        "colab": {}
      },
      "source": [
        "(X_train, y_train), (X_test, y_test) = dataset\n",
        "# X_train.shape       (60000, 28, 28)\n",
        "# y_train.shape       (60000,)\n",
        "# X_test.shape        (10000, 28, 28)\n",
        "# y_test.shape        (10000,)"
      ],
      "execution_count": 0,
      "outputs": []
    },
    {
      "cell_type": "code",
      "metadata": {
        "id": "XMdajnZpS76i",
        "colab_type": "code",
        "colab": {}
      },
      "source": [
        "X_train = X_train/255\n",
        "X_test = X_test/255"
      ],
      "execution_count": 0,
      "outputs": []
    },
    {
      "cell_type": "code",
      "metadata": {
        "id": "hoFUkat3SftU",
        "colab_type": "code",
        "colab": {}
      },
      "source": [
        "N, _, _ = X_train.shape\n",
        "Xtrain = X_train.reshape(N, -1)\n",
        "# Xtrain.shape     (60000, 784)\n",
        "N, D = Xtrain.shape\n",
        "K = len(set(y_train))\n",
        "# print(K)         10"
      ],
      "execution_count": 0,
      "outputs": []
    },
    {
      "cell_type": "code",
      "metadata": {
        "id": "4gPGhySsWX9D",
        "colab_type": "code",
        "colab": {}
      },
      "source": [
        "N, _, _ = X_test.shape\n",
        "Xtest = X_test.reshape(N, -1)\n",
        "# Xtest.shape      (10000, 784)"
      ],
      "execution_count": 0,
      "outputs": []
    },
    {
      "cell_type": "code",
      "metadata": {
        "id": "1lv2UxDeSFCr",
        "colab_type": "code",
        "colab": {}
      },
      "source": [
        "model = Sequential()\n",
        "model.add(Dense(128, input_dim=D, activation='relu'))\n",
        "model.add(Dropout(0.2))\n",
        "model.add(Dense(K, activation='softmax'))"
      ],
      "execution_count": 0,
      "outputs": []
    },
    {
      "cell_type": "code",
      "metadata": {
        "id": "grurMiC_Y7-x",
        "colab_type": "code",
        "colab": {}
      },
      "source": [
        "model.compile(\n",
        "    loss = 'sparse_categorical_crossentropy',\n",
        "    optimizer = 'adam',\n",
        "    metrics = ['accuracy']\n",
        ")"
      ],
      "execution_count": 0,
      "outputs": []
    },
    {
      "cell_type": "code",
      "metadata": {
        "id": "kWJYSNONZTCD",
        "colab_type": "code",
        "colab": {
          "base_uri": "https://localhost:8080/",
          "height": 394
        },
        "outputId": "a8b613b3-c823-4f90-845b-268fb88f6fc0"
      },
      "source": [
        "r = model.fit(Xtrain, y_train, validation_data=(Xtest, y_test), epochs=10)"
      ],
      "execution_count": 10,
      "outputs": [
        {
          "output_type": "stream",
          "text": [
            "Train on 60000 samples, validate on 10000 samples\n",
            "Epoch 1/10\n",
            "60000/60000 [==============================] - 5s 88us/sample - loss: 0.2950 - accuracy: 0.9141 - val_loss: 0.1408 - val_accuracy: 0.9589\n",
            "Epoch 2/10\n",
            "60000/60000 [==============================] - 5s 80us/sample - loss: 0.1420 - accuracy: 0.9576 - val_loss: 0.0973 - val_accuracy: 0.9714\n",
            "Epoch 3/10\n",
            "60000/60000 [==============================] - 5s 80us/sample - loss: 0.1064 - accuracy: 0.9681 - val_loss: 0.0918 - val_accuracy: 0.9727\n",
            "Epoch 4/10\n",
            "60000/60000 [==============================] - 5s 78us/sample - loss: 0.0887 - accuracy: 0.9732 - val_loss: 0.0810 - val_accuracy: 0.9753\n",
            "Epoch 5/10\n",
            "60000/60000 [==============================] - 5s 76us/sample - loss: 0.0757 - accuracy: 0.9762 - val_loss: 0.0746 - val_accuracy: 0.9776\n",
            "Epoch 6/10\n",
            "60000/60000 [==============================] - 5s 77us/sample - loss: 0.0654 - accuracy: 0.9790 - val_loss: 0.0772 - val_accuracy: 0.9766\n",
            "Epoch 7/10\n",
            "60000/60000 [==============================] - 5s 77us/sample - loss: 0.0588 - accuracy: 0.9809 - val_loss: 0.0838 - val_accuracy: 0.9756\n",
            "Epoch 8/10\n",
            "60000/60000 [==============================] - 5s 76us/sample - loss: 0.0541 - accuracy: 0.9824 - val_loss: 0.0685 - val_accuracy: 0.9787\n",
            "Epoch 9/10\n",
            "60000/60000 [==============================] - 5s 78us/sample - loss: 0.0482 - accuracy: 0.9839 - val_loss: 0.0677 - val_accuracy: 0.9802\n",
            "Epoch 10/10\n",
            "60000/60000 [==============================] - 5s 78us/sample - loss: 0.0443 - accuracy: 0.9849 - val_loss: 0.0738 - val_accuracy: 0.9781\n"
          ],
          "name": "stdout"
        }
      ]
    },
    {
      "cell_type": "code",
      "metadata": {
        "id": "kZkpDIxSZnke",
        "colab_type": "code",
        "colab": {
          "base_uri": "https://localhost:8080/",
          "height": 298
        },
        "outputId": "256e32dc-2a91-4b94-9d05-c2df8dd59652"
      },
      "source": [
        "plt.plot(r.history['loss'], label='Training Loss')\n",
        "plt.plot(r.history['val_loss'], label='Test Loss')\n",
        "plt.legend()\n",
        "plt.title('Training & Test Loss')"
      ],
      "execution_count": 11,
      "outputs": [
        {
          "output_type": "execute_result",
          "data": {
            "text/plain": [
              "Text(0.5, 1.0, 'Training & Test Loss')"
            ]
          },
          "metadata": {
            "tags": []
          },
          "execution_count": 11
        },
        {
          "output_type": "display_data",
          "data": {
            "image/png": "[encoded data removed]",
            "text/plain": [
              "<Figure size 432x288 with 1 Axes>"
            ]
          },
          "metadata": {
            "tags": []
          }
        }
      ]
    },
    {
      "cell_type": "code",
      "metadata": {
        "id": "MwFvXSK6anPa",
        "colab_type": "code",
        "colab": {
          "base_uri": "https://localhost:8080/",
          "height": 298
        },
        "outputId": "2d808741-0ae5-4383-93a3-a0f2f9ec6c1c"
      },
      "source": [
        "plt.plot(r.history['accuracy'], label='Training Accuracy')\n",
        "plt.plot(r.history['val_accuracy'], label='Test Accuracy')\n",
        "plt.legend()\n",
        "plt.title('Training & Test Accuracy')"
      ],
      "execution_count": 12,
      "outputs": [
        {
          "output_type": "execute_result",
          "data": {
            "text/plain": [
              "Text(0.5, 1.0, 'Training & Test Accuracy')"
            ]
          },
          "metadata": {
            "tags": []
          },
          "execution_count": 12
        },
        {
          "output_type": "display_data",
          "data": {
            "image/png": "[encoded data removed]",
            "text/plain": [
              "<Figure size 432x288 with 1 Axes>"
            ]
          },
          "metadata": {
            "tags": []
          }
        }
      ]
    },
    {
      "cell_type": "code",
      "metadata": {
        "id": "-MLYM6DsbLHc",
        "colab_type": "code",
        "colab": {}
      },
      "source": [
        "pred = model.predict(Xtest)\n",
        "# pred.shape         (10000, 10)"
      ],
      "execution_count": 0,
      "outputs": []
    },
    {
      "cell_type": "code",
      "metadata": {
        "id": "v7w51wGjbraI",
        "colab_type": "code",
        "colab": {}
      },
      "source": [
        "pred = np.argmax(pred, axis=1)\n",
        "# pred.shape         (10000,)"
      ],
      "execution_count": 0,
      "outputs": []
    },
    {
      "cell_type": "code",
      "metadata": {
        "id": "OYoC3jvRfply",
        "colab_type": "code",
        "colab": {
          "base_uri": "https://localhost:8080/",
          "height": 68
        },
        "outputId": "05c9c4a9-5703-433b-a819-c6832d9b51b0"
      },
      "source": [
        "print(\"Manual accuracy:\", np.mean(pred == y_test))\n",
        "print(\"Evaluate output:\", model.evaluate(Xtest, y_test))"
      ],
      "execution_count": 17,
      "outputs": [
        {
          "output_type": "stream",
          "text": [
            "Manual accuracy: 0.9781\n",
            "10000/10000 [==============================] - 1s 57us/sample - loss: 0.0738 - accuracy: 0.9781\n",
            "Evaluate output: [0.07375603048641934, 0.9781]\n"
          ],
          "name": "stdout"
        }
      ]
    }
  ]
}
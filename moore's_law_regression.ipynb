{
  "nbformat": 4,
  "nbformat_minor": 0,
  "metadata": {
    "colab": {
      "name": "moore's_law_regression.ipynb",
      "provenance": [],
      "collapsed_sections": []
    },
    "kernelspec": {
      "name": "python3",
      "display_name": "Python 3"
    },
    "accelerator": "GPU"
  },
  "cells": [
    {
      "cell_type": "code",
      "metadata": {
        "id": "fHR_BY2rTzGo",
        "colab_type": "code",
        "outputId": "49f76fb3-f16b-47f4-a22f-943349cea471",
        "colab": {
          "base_uri": "https://localhost:8080/",
          "height": 51
        }
      },
      "source": [
        "try:\n",
        "  %tensorflow_version 2.x\n",
        "except Exception:\n",
        "  pass\n",
        "\n",
        "import tensorflow as tf\n",
        "print(tf.__version__)"
      ],
      "execution_count": 2,
      "outputs": [
        {
          "output_type": "stream",
          "text": [
            "TensorFlow 2.x selected.\n",
            "2.1.0-rc1\n"
          ],
          "name": "stdout"
        }
      ]
    },
    {
      "cell_type": "code",
      "metadata": {
        "id": "4sG8nBzeWc1J",
        "colab_type": "code",
        "colab": {}
      },
      "source": [
        "import pandas as pd\n",
        "import numpy as np\n",
        "import matplotlib.pyplot as plt"
      ],
      "execution_count": 0,
      "outputs": []
    },
    {
      "cell_type": "code",
      "metadata": {
        "id": "DkB79gLS_GBF",
        "colab_type": "code",
        "colab": {}
      },
      "source": [
        "from tensorflow.keras.models import Sequential\n",
        "from tensorflow.keras.layers import Dense"
      ],
      "execution_count": 0,
      "outputs": []
    },
    {
      "cell_type": "code",
      "metadata": {
        "id": "87XSvfAdWwdu",
        "colab_type": "code",
        "outputId": "4740d3e5-8c50-4ca0-f6ec-cd831f73aa72",
        "colab": {
          "base_uri": "https://localhost:8080/",
          "height": 204
        }
      },
      "source": [
        "!wget https://raw.githubusercontent.com/lazyprogrammer/machine_learning_examples/master/tf2.0/moore.csv"
      ],
      "execution_count": 5,
      "outputs": [
        {
          "output_type": "stream",
          "text": [
            "--2019-12-29 19:34:57--  https://raw.githubusercontent.com/lazyprogrammer/machine_learning_examples/master/tf2.0/moore.csv\n",
            "Resolving raw.githubusercontent.com (raw.githubusercontent.com)... 151.101.0.133, 151.101.64.133, 151.101.128.133, ...\n",
            "Connecting to raw.githubusercontent.com (raw.githubusercontent.com)|151.101.0.133|:443... connected.\n",
            "HTTP request sent, awaiting response... 200 OK\n",
            "Length: 2302 (2.2K) [text/plain]\n",
            "Saving to: ‘moore.csv’\n",
            "\n",
            "\rmoore.csv             0%[                    ]       0  --.-KB/s               \rmoore.csv           100%[===================>]   2.25K  --.-KB/s    in 0s      \n",
            "\n",
            "2019-12-29 19:34:57 (59.0 MB/s) - ‘moore.csv’ saved [2302/2302]\n",
            "\n"
          ],
          "name": "stdout"
        }
      ]
    },
    {
      "cell_type": "code",
      "metadata": {
        "id": "DSZYHOnpYEvS",
        "colab_type": "code",
        "outputId": "1432dd96-e53a-420f-e61b-1bcad9add511",
        "colab": {
          "base_uri": "https://localhost:8080/",
          "height": 34
        }
      },
      "source": [
        "!ls"
      ],
      "execution_count": 27,
      "outputs": [
        {
          "output_type": "stream",
          "text": [
            "moore.csv  sample_data\n"
          ],
          "name": "stdout"
        }
      ]
    },
    {
      "cell_type": "code",
      "metadata": {
        "id": "W2c9hL2DejP2",
        "colab_type": "code",
        "outputId": "3e39c257-f8e4-45f5-e0b9-c72417e46782",
        "colab": {
          "base_uri": "https://localhost:8080/",
          "height": 187
        }
      },
      "source": [
        "# To confirm there is no header\n",
        "!head moore.csv"
      ],
      "execution_count": 7,
      "outputs": [
        {
          "output_type": "stream",
          "text": [
            "1971,2300\n",
            "1972,3500\n",
            "1973,2500\n",
            "1973,2500\n",
            "1974,4100\n",
            "1974,4500\n",
            "1974,8000\n",
            "1975,3510\n",
            "1976,5000\n",
            "1976,8500\n"
          ],
          "name": "stdout"
        }
      ]
    },
    {
      "cell_type": "code",
      "metadata": {
        "id": "Xk8Vnc7LZjSC",
        "colab_type": "code",
        "outputId": "9603117f-6ac9-42ca-f074-98eaf1587acf",
        "colab": {
          "base_uri": "https://localhost:8080/",
          "height": 204
        }
      },
      "source": [
        "df_data = pd.read_csv('moore.csv', header=None)\n",
        "df_data.head()"
      ],
      "execution_count": 8,
      "outputs": [
        {
          "output_type": "execute_result",
          "data": {
            "text/html": [
              "<div>\n",
              "<style scoped>\n",
              "    .dataframe tbody tr th:only-of-type {\n",
              "        vertical-align: middle;\n",
              "    }\n",
              "\n",
              "    .dataframe tbody tr th {\n",
              "        vertical-align: top;\n",
              "    }\n",
              "\n",
              "    .dataframe thead th {\n",
              "        text-align: right;\n",
              "    }\n",
              "</style>\n",
              "<table border=\"1\" class=\"dataframe\">\n",
              "  <thead>\n",
              "    <tr style=\"text-align: right;\">\n",
              "      <th></th>\n",
              "      <th>0</th>\n",
              "      <th>1</th>\n",
              "    </tr>\n",
              "  </thead>\n",
              "  <tbody>\n",
              "    <tr>\n",
              "      <th>0</th>\n",
              "      <td>1971</td>\n",
              "      <td>2300</td>\n",
              "    </tr>\n",
              "    <tr>\n",
              "      <th>1</th>\n",
              "      <td>1972</td>\n",
              "      <td>3500</td>\n",
              "    </tr>\n",
              "    <tr>\n",
              "      <th>2</th>\n",
              "      <td>1973</td>\n",
              "      <td>2500</td>\n",
              "    </tr>\n",
              "    <tr>\n",
              "      <th>3</th>\n",
              "      <td>1973</td>\n",
              "      <td>2500</td>\n",
              "    </tr>\n",
              "    <tr>\n",
              "      <th>4</th>\n",
              "      <td>1974</td>\n",
              "      <td>4100</td>\n",
              "    </tr>\n",
              "  </tbody>\n",
              "</table>\n",
              "</div>"
            ],
            "text/plain": [
              "      0     1\n",
              "0  1971  2300\n",
              "1  1972  3500\n",
              "2  1973  2500\n",
              "3  1973  2500\n",
              "4  1974  4100"
            ]
          },
          "metadata": {
            "tags": []
          },
          "execution_count": 8
        }
      ]
    },
    {
      "cell_type": "code",
      "metadata": {
        "id": "5fqQvn6nfA7z",
        "colab_type": "code",
        "colab": {}
      },
      "source": [
        "# columns = ['Year', 'No of transistors']\n",
        "# df_data.columns = columns\n",
        "# df_data.head()\n",
        "\n",
        "# \tYear\tNo of transistors\n",
        "# 0\t1971\t2300\n",
        "# 1\t1972\t3500\n",
        "# 2\t1973\t2500\n",
        "# 3\t1973\t2500\n",
        "# 4\t1974\t4100"
      ],
      "execution_count": 0,
      "outputs": []
    },
    {
      "cell_type": "code",
      "metadata": {
        "id": "iLdYygR1ceeD",
        "colab_type": "code",
        "colab": {}
      },
      "source": [
        "X = df_data[0]\n",
        "Y = df_data[1]\n",
        "# X.shape           (162,)\n",
        "# Y.shape           (162,)\n",
        "\n",
        "X = df_data[0].values\n",
        "Y = df_data[1].values\n",
        "# X.shape           (162,)\n",
        "# Y.shape           (162,)\n",
        "\n",
        "X = X.reshape(-1,1)\n",
        "# X.shape           (162, 1)"
      ],
      "execution_count": 0,
      "outputs": []
    },
    {
      "cell_type": "code",
      "metadata": {
        "id": "FMvqWNjC-wBX",
        "colab_type": "code",
        "outputId": "604db693-e6e1-4fc2-918c-6c64c4056036",
        "colab": {
          "base_uri": "https://localhost:8080/",
          "height": 293
        }
      },
      "source": [
        "plt.scatter(X, Y)"
      ],
      "execution_count": 11,
      "outputs": [
        {
          "output_type": "execute_result",
          "data": {
            "text/plain": [
              "<matplotlib.collections.PathCollection at 0x7f214650ce48>"
            ]
          },
          "metadata": {
            "tags": []
          },
          "execution_count": 11
        },
        {
          "output_type": "display_data",
          "data": {
            "image/png": "[encoded data removed]",
            "text/plain": [
              "<Figure size 432x288 with 1 Axes>"
            ]
          },
          "metadata": {
            "tags": []
          }
        }
      ]
    },
    {
      "cell_type": "code",
      "metadata": {
        "id": "9I81mkFH_16Z",
        "colab_type": "code",
        "outputId": "12ddb3a5-3917-41f8-bac4-cbfcbe66adc2",
        "colab": {
          "base_uri": "https://localhost:8080/",
          "height": 282
        }
      },
      "source": [
        "Y = np.log(Y)\n",
        "plt.scatter(X, Y)"
      ],
      "execution_count": 12,
      "outputs": [
        {
          "output_type": "execute_result",
          "data": {
            "text/plain": [
              "<matplotlib.collections.PathCollection at 0x7f2143fdc630>"
            ]
          },
          "metadata": {
            "tags": []
          },
          "execution_count": 12
        },
        {
          "output_type": "display_data",
          "data": {
            "image/png": "[encoded data removed]",
            "text/plain": [
              "<Figure size 432x288 with 1 Axes>"
            ]
          },
          "metadata": {
            "tags": []
          }
        }
      ]
    },
    {
      "cell_type": "code",
      "metadata": {
        "id": "K9Wc72kwDlFd",
        "colab_type": "code",
        "colab": {}
      },
      "source": [
        "# Let's also center the X data so the values are not too large\n",
        "# We could scale it too but then we'd have to reverse the transformation later\n",
        "X = X - X.mean()"
      ],
      "execution_count": 0,
      "outputs": []
    },
    {
      "cell_type": "code",
      "metadata": {
        "id": "tcE7wMDC-6Gt",
        "colab_type": "code",
        "colab": {}
      },
      "source": [
        "model = Sequential()\n",
        "model.add(Dense(1, input_dim=1))"
      ],
      "execution_count": 0,
      "outputs": []
    },
    {
      "cell_type": "code",
      "metadata": {
        "id": "RGxYVz-sBSHH",
        "colab_type": "code",
        "colab": {}
      },
      "source": [
        "model.compile(\n",
        "    loss = 'mean_squared_error',\n",
        "    optimizer = tf.keras.optimizers.SGD(0.001, 0.9)\n",
        ")"
      ],
      "execution_count": 0,
      "outputs": []
    },
    {
      "cell_type": "code",
      "metadata": {
        "id": "UxbdIvefBqPw",
        "colab_type": "code",
        "outputId": "47d2e854-45ff-42f5-c3fc-bd3ab6397f96",
        "colab": {
          "base_uri": "https://localhost:8080/",
          "height": 187
        }
      },
      "source": [
        "model.summary()"
      ],
      "execution_count": 16,
      "outputs": [
        {
          "output_type": "stream",
          "text": [
            "Model: \"sequential\"\n",
            "_________________________________________________________________\n",
            "Layer (type)                 Output Shape              Param #   \n",
            "=================================================================\n",
            "dense (Dense)                (None, 1)                 2         \n",
            "=================================================================\n",
            "Total params: 2\n",
            "Trainable params: 2\n",
            "Non-trainable params: 0\n",
            "_________________________________________________________________\n"
          ],
          "name": "stdout"
        }
      ]
    },
    {
      "cell_type": "code",
      "metadata": {
        "id": "-BcfVItPCE8d",
        "colab_type": "code",
        "outputId": "e7af29da-0919-4dab-e0a5-80a273797a26",
        "colab": {
          "base_uri": "https://localhost:8080/",
          "height": 1000
        }
      },
      "source": [
        "r = model.fit(X, Y, epochs=100)"
      ],
      "execution_count": 17,
      "outputs": [
        {
          "output_type": "stream",
          "text": [
            "Train on 162 samples\n",
            "Epoch 1/100\n",
            "162/162 [==============================] - 2s 12ms/sample - loss: 315.1211\n",
            "Epoch 2/100\n",
            "162/162 [==============================] - 0s 123us/sample - loss: 302.4781\n",
            "Epoch 3/100\n",
            "162/162 [==============================] - 0s 118us/sample - loss: 264.7701\n",
            "Epoch 4/100\n",
            "162/162 [==============================] - 0s 110us/sample - loss: 247.6246\n",
            "Epoch 5/100\n",
            "162/162 [==============================] - 0s 107us/sample - loss: 158.6362\n",
            "Epoch 6/100\n",
            "162/162 [==============================] - 0s 106us/sample - loss: 158.1998\n",
            "Epoch 7/100\n",
            "162/162 [==============================] - 0s 106us/sample - loss: 130.4495\n",
            "Epoch 8/100\n",
            "162/162 [==============================] - 0s 94us/sample - loss: 97.2389\n",
            "Epoch 9/100\n",
            "162/162 [==============================] - 0s 111us/sample - loss: 96.0380\n",
            "Epoch 10/100\n",
            "162/162 [==============================] - 0s 114us/sample - loss: 45.5872\n",
            "Epoch 11/100\n",
            "162/162 [==============================] - 0s 95us/sample - loss: 43.9336\n",
            "Epoch 12/100\n",
            "162/162 [==============================] - 0s 98us/sample - loss: 30.7986\n",
            "Epoch 13/100\n",
            "162/162 [==============================] - 0s 130us/sample - loss: 17.3081\n",
            "Epoch 14/100\n",
            "162/162 [==============================] - 0s 98us/sample - loss: 16.2397\n",
            "Epoch 15/100\n",
            "162/162 [==============================] - 0s 103us/sample - loss: 10.4198\n",
            "Epoch 16/100\n",
            "162/162 [==============================] - 0s 103us/sample - loss: 5.9660\n",
            "Epoch 17/100\n",
            "162/162 [==============================] - 0s 133us/sample - loss: 5.2328\n",
            "Epoch 18/100\n",
            "162/162 [==============================] - 0s 101us/sample - loss: 3.4465\n",
            "Epoch 19/100\n",
            "162/162 [==============================] - 0s 106us/sample - loss: 3.2419\n",
            "Epoch 20/100\n",
            "162/162 [==============================] - 0s 92us/sample - loss: 2.4104\n",
            "Epoch 21/100\n",
            "162/162 [==============================] - 0s 132us/sample - loss: 1.7288\n",
            "Epoch 22/100\n",
            "162/162 [==============================] - 0s 108us/sample - loss: 1.5907\n",
            "Epoch 23/100\n",
            "162/162 [==============================] - 0s 89us/sample - loss: 1.3485\n",
            "Epoch 24/100\n",
            "162/162 [==============================] - 0s 86us/sample - loss: 1.3394\n",
            "Epoch 25/100\n",
            "162/162 [==============================] - 0s 102us/sample - loss: 1.1370\n",
            "Epoch 26/100\n",
            "162/162 [==============================] - 0s 88us/sample - loss: 1.1388\n",
            "Epoch 27/100\n",
            "162/162 [==============================] - 0s 101us/sample - loss: 1.1392\n",
            "Epoch 28/100\n",
            "162/162 [==============================] - 0s 101us/sample - loss: 1.2367\n",
            "Epoch 29/100\n",
            "162/162 [==============================] - 0s 97us/sample - loss: 1.3919\n",
            "Epoch 30/100\n",
            "162/162 [==============================] - 0s 107us/sample - loss: 1.3386\n",
            "Epoch 31/100\n",
            "162/162 [==============================] - 0s 104us/sample - loss: 1.1001\n",
            "Epoch 32/100\n",
            "162/162 [==============================] - 0s 167us/sample - loss: 0.9919\n",
            "Epoch 33/100\n",
            "162/162 [==============================] - 0s 122us/sample - loss: 1.0090\n",
            "Epoch 34/100\n",
            "162/162 [==============================] - 0s 101us/sample - loss: 0.8890\n",
            "Epoch 35/100\n",
            "162/162 [==============================] - 0s 100us/sample - loss: 0.8857\n",
            "Epoch 36/100\n",
            "162/162 [==============================] - 0s 97us/sample - loss: 0.8844\n",
            "Epoch 37/100\n",
            "162/162 [==============================] - 0s 102us/sample - loss: 0.8974\n",
            "Epoch 38/100\n",
            "162/162 [==============================] - 0s 118us/sample - loss: 0.8963\n",
            "Epoch 39/100\n",
            "162/162 [==============================] - 0s 130us/sample - loss: 1.0206\n",
            "Epoch 40/100\n",
            "162/162 [==============================] - 0s 137us/sample - loss: 1.0368\n",
            "Epoch 41/100\n",
            "162/162 [==============================] - 0s 134us/sample - loss: 0.9872\n",
            "Epoch 42/100\n",
            "162/162 [==============================] - 0s 124us/sample - loss: 0.9422\n",
            "Epoch 43/100\n",
            "162/162 [==============================] - 0s 97us/sample - loss: 1.1377\n",
            "Epoch 44/100\n",
            "162/162 [==============================] - 0s 133us/sample - loss: 1.0805\n",
            "Epoch 45/100\n",
            "162/162 [==============================] - 0s 109us/sample - loss: 0.9901\n",
            "Epoch 46/100\n",
            "162/162 [==============================] - 0s 94us/sample - loss: 0.8873\n",
            "Epoch 47/100\n",
            "162/162 [==============================] - 0s 118us/sample - loss: 0.8858\n",
            "Epoch 48/100\n",
            "162/162 [==============================] - 0s 98us/sample - loss: 0.9053\n",
            "Epoch 49/100\n",
            "162/162 [==============================] - 0s 101us/sample - loss: 0.8821\n",
            "Epoch 50/100\n",
            "162/162 [==============================] - 0s 111us/sample - loss: 1.3311\n",
            "Epoch 51/100\n",
            "162/162 [==============================] - 0s 120us/sample - loss: 1.2464\n",
            "Epoch 52/100\n",
            "162/162 [==============================] - 0s 157us/sample - loss: 1.3302\n",
            "Epoch 53/100\n",
            "162/162 [==============================] - 0s 113us/sample - loss: 1.3746\n",
            "Epoch 54/100\n",
            "162/162 [==============================] - 0s 131us/sample - loss: 1.0931\n",
            "Epoch 55/100\n",
            "162/162 [==============================] - 0s 111us/sample - loss: 0.9768\n",
            "Epoch 56/100\n",
            "162/162 [==============================] - 0s 128us/sample - loss: 0.9038\n",
            "Epoch 57/100\n",
            "162/162 [==============================] - 0s 112us/sample - loss: 1.0335\n",
            "Epoch 58/100\n",
            "162/162 [==============================] - 0s 99us/sample - loss: 1.0279\n",
            "Epoch 59/100\n",
            "162/162 [==============================] - 0s 99us/sample - loss: 1.1633\n",
            "Epoch 60/100\n",
            "162/162 [==============================] - 0s 93us/sample - loss: 1.0168\n",
            "Epoch 61/100\n",
            "162/162 [==============================] - 0s 89us/sample - loss: 0.9907\n",
            "Epoch 62/100\n",
            "162/162 [==============================] - 0s 98us/sample - loss: 1.3612\n",
            "Epoch 63/100\n",
            "162/162 [==============================] - 0s 91us/sample - loss: 1.2142\n",
            "Epoch 64/100\n",
            "162/162 [==============================] - 0s 85us/sample - loss: 1.2774\n",
            "Epoch 65/100\n",
            "162/162 [==============================] - 0s 102us/sample - loss: 1.0999\n",
            "Epoch 66/100\n",
            "162/162 [==============================] - 0s 95us/sample - loss: 0.9489\n",
            "Epoch 67/100\n",
            "162/162 [==============================] - 0s 102us/sample - loss: 1.0685\n",
            "Epoch 68/100\n",
            "162/162 [==============================] - 0s 87us/sample - loss: 1.1341\n",
            "Epoch 69/100\n",
            "162/162 [==============================] - 0s 90us/sample - loss: 1.1245\n",
            "Epoch 70/100\n",
            "162/162 [==============================] - 0s 96us/sample - loss: 0.9783\n",
            "Epoch 71/100\n",
            "162/162 [==============================] - 0s 91us/sample - loss: 0.8896\n",
            "Epoch 72/100\n",
            "162/162 [==============================] - 0s 95us/sample - loss: 0.8918\n",
            "Epoch 73/100\n",
            "162/162 [==============================] - 0s 144us/sample - loss: 1.0000\n",
            "Epoch 74/100\n",
            "162/162 [==============================] - 0s 126us/sample - loss: 1.0170\n",
            "Epoch 75/100\n",
            "162/162 [==============================] - 0s 93us/sample - loss: 0.9621\n",
            "Epoch 76/100\n",
            "162/162 [==============================] - 0s 151us/sample - loss: 1.1257\n",
            "Epoch 77/100\n",
            "162/162 [==============================] - 0s 117us/sample - loss: 0.9215\n",
            "Epoch 78/100\n",
            "162/162 [==============================] - 0s 135us/sample - loss: 0.9113\n",
            "Epoch 79/100\n",
            "162/162 [==============================] - 0s 125us/sample - loss: 0.9188\n",
            "Epoch 80/100\n",
            "162/162 [==============================] - 0s 111us/sample - loss: 1.0767\n",
            "Epoch 81/100\n",
            "162/162 [==============================] - 0s 105us/sample - loss: 1.1914\n",
            "Epoch 82/100\n",
            "162/162 [==============================] - 0s 99us/sample - loss: 1.2753\n",
            "Epoch 83/100\n",
            "162/162 [==============================] - 0s 100us/sample - loss: 1.1279\n",
            "Epoch 84/100\n",
            "162/162 [==============================] - 0s 117us/sample - loss: 1.0273\n",
            "Epoch 85/100\n",
            "162/162 [==============================] - 0s 154us/sample - loss: 0.8752\n",
            "Epoch 86/100\n",
            "162/162 [==============================] - 0s 80us/sample - loss: 1.1413\n",
            "Epoch 87/100\n",
            "162/162 [==============================] - 0s 100us/sample - loss: 0.9781\n",
            "Epoch 88/100\n",
            "162/162 [==============================] - 0s 101us/sample - loss: 0.9174\n",
            "Epoch 89/100\n",
            "162/162 [==============================] - 0s 140us/sample - loss: 0.8905\n",
            "Epoch 90/100\n",
            "162/162 [==============================] - 0s 121us/sample - loss: 0.8977\n",
            "Epoch 91/100\n",
            "162/162 [==============================] - 0s 123us/sample - loss: 1.2793\n",
            "Epoch 92/100\n",
            "162/162 [==============================] - 0s 105us/sample - loss: 1.2002\n",
            "Epoch 93/100\n",
            "162/162 [==============================] - 0s 91us/sample - loss: 1.0793\n",
            "Epoch 94/100\n",
            "162/162 [==============================] - 0s 100us/sample - loss: 0.9448\n",
            "Epoch 95/100\n",
            "162/162 [==============================] - 0s 118us/sample - loss: 1.0349\n",
            "Epoch 96/100\n",
            "162/162 [==============================] - 0s 100us/sample - loss: 1.1564\n",
            "Epoch 97/100\n",
            "162/162 [==============================] - 0s 104us/sample - loss: 1.1108\n",
            "Epoch 98/100\n",
            "162/162 [==============================] - 0s 132us/sample - loss: 1.2008\n",
            "Epoch 99/100\n",
            "162/162 [==============================] - 0s 148us/sample - loss: 0.9062\n",
            "Epoch 100/100\n",
            "162/162 [==============================] - 0s 117us/sample - loss: 0.9507\n"
          ],
          "name": "stdout"
        }
      ]
    },
    {
      "cell_type": "code",
      "metadata": {
        "id": "NVcAs-erCROA",
        "colab_type": "code",
        "outputId": "63ec36d1-e619-4747-ab75-24c0d3802d40",
        "colab": {
          "base_uri": "https://localhost:8080/",
          "height": 298
        }
      },
      "source": [
        "plt.plot(r.history['loss'], label = 'Training Loss')\n",
        "plt.legend()\n",
        "plt.title('Training Loss')"
      ],
      "execution_count": 18,
      "outputs": [
        {
          "output_type": "execute_result",
          "data": {
            "text/plain": [
              "Text(0.5, 1.0, 'Training Loss')"
            ]
          },
          "metadata": {
            "tags": []
          },
          "execution_count": 18
        },
        {
          "output_type": "display_data",
          "data": {
            "image/png": "[encoded data removed]",
            "text/plain": [
              "<Figure size 432x288 with 1 Axes>"
            ]
          },
          "metadata": {
            "tags": []
          }
        }
      ]
    },
    {
      "cell_type": "code",
      "metadata": {
        "id": "-kfWzfGgIjb1",
        "colab_type": "code",
        "outputId": "6595469f-1c2e-408b-9148-f8104a37080c",
        "colab": {
          "base_uri": "https://localhost:8080/",
          "height": 34
        }
      },
      "source": [
        "model.layers      # Note: there is only 1 layer, the \"Input\" layer doesn't count"
      ],
      "execution_count": 19,
      "outputs": [
        {
          "output_type": "execute_result",
          "data": {
            "text/plain": [
              "[<tensorflow.python.keras.layers.core.Dense at 0x7f2143fedac8>]"
            ]
          },
          "metadata": {
            "tags": []
          },
          "execution_count": 19
        }
      ]
    },
    {
      "cell_type": "code",
      "metadata": {
        "id": "VL8JoOVMImwx",
        "colab_type": "code",
        "outputId": "1b4fe7d1-ae64-465a-b71e-e5e6ecd5fb01",
        "colab": {
          "base_uri": "https://localhost:8080/",
          "height": 34
        }
      },
      "source": [
        "model.get_weights()"
      ],
      "execution_count": 20,
      "outputs": [
        {
          "output_type": "execute_result",
          "data": {
            "text/plain": [
              "[array([[0.33353472]], dtype=float32), array([17.729988], dtype=float32)]"
            ]
          },
          "metadata": {
            "tags": []
          },
          "execution_count": 20
        }
      ]
    },
    {
      "cell_type": "code",
      "metadata": {
        "id": "5P_OatnYI3kV",
        "colab_type": "code",
        "outputId": "2d6e86dd-f81c-4156-d71e-e4edff538b1c",
        "colab": {
          "base_uri": "https://localhost:8080/",
          "height": 34
        }
      },
      "source": [
        "model.layers[0].get_weights()"
      ],
      "execution_count": 21,
      "outputs": [
        {
          "output_type": "execute_result",
          "data": {
            "text/plain": [
              "[array([[0.33353472]], dtype=float32), array([17.729988], dtype=float32)]"
            ]
          },
          "metadata": {
            "tags": []
          },
          "execution_count": 21
        }
      ]
    },
    {
      "cell_type": "markdown",
      "metadata": {
        "id": "0cRTSoeSK9C6",
        "colab_type": "text"
      },
      "source": [
        "**Prediction**"
      ]
    },
    {
      "cell_type": "code",
      "metadata": {
        "id": "f2IKmEnYJ8RL",
        "colab_type": "code",
        "outputId": "16befa26-45c7-44d5-fe32-afd2031e178e",
        "colab": {
          "base_uri": "https://localhost:8080/",
          "height": 1000
        }
      },
      "source": [
        "# Y.shape            (162,)\n",
        "Yhat = model.predict(X)\n",
        "print(Yhat)\n",
        "# Yhat.shape         (162, 1)"
      ],
      "execution_count": 34,
      "outputs": [
        {
          "output_type": "stream",
          "text": [
            "[[ 7.3245287]\n",
            " [ 7.658063 ]\n",
            " [ 7.991598 ]\n",
            " [ 7.991598 ]\n",
            " [ 8.325132 ]\n",
            " [ 8.325132 ]\n",
            " [ 8.325132 ]\n",
            " [ 8.658668 ]\n",
            " [ 8.992202 ]\n",
            " [ 8.992202 ]\n",
            " [ 8.992202 ]\n",
            " [ 9.659271 ]\n",
            " [ 9.659271 ]\n",
            " [ 9.992806 ]\n",
            " [ 9.992806 ]\n",
            " [ 9.992806 ]\n",
            " [10.659876 ]\n",
            " [10.99341  ]\n",
            " [10.99341  ]\n",
            " [11.326945 ]\n",
            " [11.6604805]\n",
            " [11.6604805]\n",
            " [11.994015 ]\n",
            " [11.994015 ]\n",
            " [11.994015 ]\n",
            " [12.327549 ]\n",
            " [12.327549 ]\n",
            " [12.327549 ]\n",
            " [12.661084 ]\n",
            " [12.661084 ]\n",
            " [12.661084 ]\n",
            " [12.661084 ]\n",
            " [12.994619 ]\n",
            " [12.994619 ]\n",
            " [13.328154 ]\n",
            " [13.328154 ]\n",
            " [13.328154 ]\n",
            " [13.328154 ]\n",
            " [13.661688 ]\n",
            " [13.995223 ]\n",
            " [13.995223 ]\n",
            " [14.328757 ]\n",
            " [14.328757 ]\n",
            " [14.6622925]\n",
            " [14.6622925]\n",
            " [14.995827 ]\n",
            " [14.995827 ]\n",
            " [15.329362 ]\n",
            " [16.6635   ]\n",
            " [15.329362 ]\n",
            " [15.662896 ]\n",
            " [15.996431 ]\n",
            " [15.996431 ]\n",
            " [15.996431 ]\n",
            " [16.329966 ]\n",
            " [16.6635   ]\n",
            " [16.6635   ]\n",
            " [16.997036 ]\n",
            " [16.997036 ]\n",
            " [16.6635   ]\n",
            " [16.6635   ]\n",
            " [16.6635   ]\n",
            " [16.997036 ]\n",
            " [17.33057  ]\n",
            " [17.33057  ]\n",
            " [17.664104 ]\n",
            " [18.331175 ]\n",
            " [18.331175 ]\n",
            " [18.66471  ]\n",
            " [18.998243 ]\n",
            " [18.66471  ]\n",
            " [18.998243 ]\n",
            " [19.331778 ]\n",
            " [19.665314 ]\n",
            " [17.997639 ]\n",
            " [17.997639 ]\n",
            " [17.664104 ]\n",
            " [18.66471  ]\n",
            " [18.66471  ]\n",
            " [18.998243 ]\n",
            " [19.331778 ]\n",
            " [17.997639 ]\n",
            " [19.665314 ]\n",
            " [19.998848 ]\n",
            " [20.665916 ]\n",
            " [20.999453 ]\n",
            " [19.331778 ]\n",
            " [19.331778 ]\n",
            " [19.665314 ]\n",
            " [18.331175 ]\n",
            " [19.331778 ]\n",
            " [19.665314 ]\n",
            " [19.665314 ]\n",
            " [19.331778 ]\n",
            " [19.998848 ]\n",
            " [20.332382 ]\n",
            " [20.999453 ]\n",
            " [21.332987 ]\n",
            " [20.665916 ]\n",
            " [20.332382 ]\n",
            " [20.332382 ]\n",
            " [20.999453 ]\n",
            " [20.999453 ]\n",
            " [20.332382 ]\n",
            " [20.999453 ]\n",
            " [21.666521 ]\n",
            " [18.998243 ]\n",
            " [22.000057 ]\n",
            " [21.332987 ]\n",
            " [22.000057 ]\n",
            " [19.665314 ]\n",
            " [20.332382 ]\n",
            " [21.666521 ]\n",
            " [22.000057 ]\n",
            " [22.000057 ]\n",
            " [20.999453 ]\n",
            " [20.665916 ]\n",
            " [20.332382 ]\n",
            " [21.666521 ]\n",
            " [20.665916 ]\n",
            " [20.999453 ]\n",
            " [21.666521 ]\n",
            " [22.333591 ]\n",
            " [22.667126 ]\n",
            " [22.667126 ]\n",
            " [23.00066  ]\n",
            " [20.999453 ]\n",
            " [22.333591 ]\n",
            " [22.333591 ]\n",
            " [22.000057 ]\n",
            " [21.332987 ]\n",
            " [22.667126 ]\n",
            " [21.666521 ]\n",
            " [22.667126 ]\n",
            " [22.667126 ]\n",
            " [22.667126 ]\n",
            " [20.999453 ]\n",
            " [21.332987 ]\n",
            " [21.666521 ]\n",
            " [22.667126 ]\n",
            " [23.00066  ]\n",
            " [22.333591 ]\n",
            " [23.00066  ]\n",
            " [22.667126 ]\n",
            " [23.00066  ]\n",
            " [22.667126 ]\n",
            " [22.000057 ]\n",
            " [22.667126 ]\n",
            " [22.333591 ]\n",
            " [22.667126 ]\n",
            " [22.333591 ]\n",
            " [22.667126 ]\n",
            " [22.667126 ]\n",
            " [22.000057 ]\n",
            " [22.667126 ]\n",
            " [23.00066  ]\n",
            " [22.667126 ]\n",
            " [22.667126 ]\n",
            " [22.667126 ]\n",
            " [23.00066  ]\n",
            " [23.00066  ]\n",
            " [23.00066  ]]\n"
          ],
          "name": "stdout"
        }
      ]
    },
    {
      "cell_type": "code",
      "metadata": {
        "id": "93vaRgORMJ47",
        "colab_type": "code",
        "colab": {
          "base_uri": "https://localhost:8080/",
          "height": 476
        },
        "outputId": "3a71f0bc-24c1-445d-9dcf-84569cb7bb46"
      },
      "source": [
        "Yhat = Yhat.flatten()\n",
        "print(Yhat)\n",
        "# Yhat.shape            (162,)"
      ],
      "execution_count": 42,
      "outputs": [
        {
          "output_type": "stream",
          "text": [
            "[ 7.3245287  7.658063   7.991598   7.991598   8.325132   8.325132\n",
            "  8.325132   8.658668   8.992202   8.992202   8.992202   9.659271\n",
            "  9.659271   9.992806   9.992806   9.992806  10.659876  10.99341\n",
            " 10.99341   11.326945  11.6604805 11.6604805 11.994015  11.994015\n",
            " 11.994015  12.327549  12.327549  12.327549  12.661084  12.661084\n",
            " 12.661084  12.661084  12.994619  12.994619  13.328154  13.328154\n",
            " 13.328154  13.328154  13.661688  13.995223  13.995223  14.328757\n",
            " 14.328757  14.6622925 14.6622925 14.995827  14.995827  15.329362\n",
            " 16.6635    15.329362  15.662896  15.996431  15.996431  15.996431\n",
            " 16.329966  16.6635    16.6635    16.997036  16.997036  16.6635\n",
            " 16.6635    16.6635    16.997036  17.33057   17.33057   17.664104\n",
            " 18.331175  18.331175  18.66471   18.998243  18.66471   18.998243\n",
            " 19.331778  19.665314  17.997639  17.997639  17.664104  18.66471\n",
            " 18.66471   18.998243  19.331778  17.997639  19.665314  19.998848\n",
            " 20.665916  20.999453  19.331778  19.331778  19.665314  18.331175\n",
            " 19.331778  19.665314  19.665314  19.331778  19.998848  20.332382\n",
            " 20.999453  21.332987  20.665916  20.332382  20.332382  20.999453\n",
            " 20.999453  20.332382  20.999453  21.666521  18.998243  22.000057\n",
            " 21.332987  22.000057  19.665314  20.332382  21.666521  22.000057\n",
            " 22.000057  20.999453  20.665916  20.332382  21.666521  20.665916\n",
            " 20.999453  21.666521  22.333591  22.667126  22.667126  23.00066\n",
            " 20.999453  22.333591  22.333591  22.000057  21.332987  22.667126\n",
            " 21.666521  22.667126  22.667126  22.667126  20.999453  21.332987\n",
            " 21.666521  22.667126  23.00066   22.333591  23.00066   22.667126\n",
            " 23.00066   22.667126  22.000057  22.667126  22.333591  22.667126\n",
            " 22.333591  22.667126  22.667126  22.000057  22.667126  23.00066\n",
            " 22.667126  22.667126  22.667126  23.00066   23.00066   23.00066  ]\n"
          ],
          "name": "stdout"
        }
      ]
    },
    {
      "cell_type": "code",
      "metadata": {
        "id": "2eV176JgMnKi",
        "colab_type": "code",
        "colab": {
          "base_uri": "https://localhost:8080/",
          "height": 282
        },
        "outputId": "0c921f6d-cf0e-4303-c352-6b77b97b041f"
      },
      "source": [
        "plt.scatter(X, Y)\n",
        "plt.plot(X, Yhat)"
      ],
      "execution_count": 41,
      "outputs": [
        {
          "output_type": "execute_result",
          "data": {
            "text/plain": [
              "[<matplotlib.lines.Line2D at 0x7f211e3b0470>]"
            ]
          },
          "metadata": {
            "tags": []
          },
          "execution_count": 41
        },
        {
          "output_type": "display_data",
          "data": {
            "image/png": "[encoded data removed]",
            "text/plain": [
              "<Figure size 432x288 with 1 Axes>"
            ]
          },
          "metadata": {
            "tags": []
          }
        }
      ]
    },
    {
      "cell_type": "code",
      "metadata": {
        "id": "d2pwxBTWM-O8",
        "colab_type": "code",
        "colab": {
          "base_uri": "https://localhost:8080/",
          "height": 34
        },
        "outputId": "b16200ca-54e4-4d0f-f7f6-1372f61fbc97"
      },
      "source": [
        "w, b = model.get_weights()\n",
        "Yhat2 = (X.dot(w) + b).flatten()\n",
        "np.allclose(Yhat, Yhat2)      # can't used == when checking equality of floating numbers"
      ],
      "execution_count": 48,
      "outputs": [
        {
          "output_type": "execute_result",
          "data": {
            "text/plain": [
              "True"
            ]
          },
          "metadata": {
            "tags": []
          },
          "execution_count": 48
        }
      ]
    }
  ]
}
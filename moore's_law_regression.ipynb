{
  "nbformat": 4,
  "nbformat_minor": 0,
  "metadata": {
    "colab": {
      "name": "moore's_law_regression.ipynb",
      "provenance": [],
      "collapsed_sections": []
    },
    "kernelspec": {
      "name": "python3",
      "display_name": "Python 3"
    },
    "accelerator": "GPU"
  },
  "cells": [
    {
      "cell_type": "code",
      "metadata": {
        "id": "fHR_BY2rTzGo",
        "colab_type": "code",
        "colab": {
          "base_uri": "https://localhost:8080/",
          "height": 51
        },
        "outputId": "202da9ee-48f4-4b10-8cbc-de0798ceb937"
      },
      "source": [
        "try:\n",
        "  %tensorflow_version 2.x\n",
        "except Exception:\n",
        "  pass\n",
        "\n",
        "import tensorflow as tf\n",
        "print(tf.__version__)"
      ],
      "execution_count": 1,
      "outputs": [
        {
          "output_type": "stream",
          "text": [
            "TensorFlow 2.x selected.\n",
            "2.1.0-rc1\n"
          ],
          "name": "stdout"
        }
      ]
    },
    {
      "cell_type": "code",
      "metadata": {
        "id": "4sG8nBzeWc1J",
        "colab_type": "code",
        "colab": {}
      },
      "source": [
        "import pandas as pd\n",
        "import numpy as np\n",
        "import matplotlib.pyplot as plt"
      ],
      "execution_count": 0,
      "outputs": []
    },
    {
      "cell_type": "code",
      "metadata": {
        "id": "DkB79gLS_GBF",
        "colab_type": "code",
        "colab": {}
      },
      "source": [
        "from tensorflow.keras.models import Sequential\n",
        "from tensorflow.keras.layers import Dense"
      ],
      "execution_count": 0,
      "outputs": []
    },
    {
      "cell_type": "code",
      "metadata": {
        "id": "87XSvfAdWwdu",
        "colab_type": "code",
        "colab": {
          "base_uri": "https://localhost:8080/",
          "height": 204
        },
        "outputId": "1fb004cc-170e-4a36-a1a4-9c4731d0b624"
      },
      "source": [
        "!wget https://raw.githubusercontent.com/lazyprogrammer/machine_learning_examples/master/tf2.0/moore.csv"
      ],
      "execution_count": 4,
      "outputs": [
        {
          "output_type": "stream",
          "text": [
            "--2019-12-28 19:58:04--  https://raw.githubusercontent.com/lazyprogrammer/machine_learning_examples/master/tf2.0/moore.csv\n",
            "Resolving raw.githubusercontent.com (raw.githubusercontent.com)... 151.101.0.133, 151.101.64.133, 151.101.128.133, ...\n",
            "Connecting to raw.githubusercontent.com (raw.githubusercontent.com)|151.101.0.133|:443... connected.\n",
            "HTTP request sent, awaiting response... 200 OK\n",
            "Length: 2302 (2.2K) [text/plain]\n",
            "Saving to: ‘moore.csv’\n",
            "\n",
            "\rmoore.csv             0%[                    ]       0  --.-KB/s               \rmoore.csv           100%[===================>]   2.25K  --.-KB/s    in 0s      \n",
            "\n",
            "2019-12-28 19:58:04 (28.9 MB/s) - ‘moore.csv’ saved [2302/2302]\n",
            "\n"
          ],
          "name": "stdout"
        }
      ]
    },
    {
      "cell_type": "code",
      "metadata": {
        "id": "DSZYHOnpYEvS",
        "colab_type": "code",
        "colab": {
          "base_uri": "https://localhost:8080/",
          "height": 34
        },
        "outputId": "13354edc-95ca-4dc6-b2d2-22b93981122a"
      },
      "source": [
        "!ls"
      ],
      "execution_count": 5,
      "outputs": [
        {
          "output_type": "stream",
          "text": [
            "moore.csv  sample_data\n"
          ],
          "name": "stdout"
        }
      ]
    },
    {
      "cell_type": "code",
      "metadata": {
        "id": "W2c9hL2DejP2",
        "colab_type": "code",
        "colab": {
          "base_uri": "https://localhost:8080/",
          "height": 187
        },
        "outputId": "e5fe96fa-7320-4373-94c8-192a18eb30b3"
      },
      "source": [
        "# To confirm there is no header\n",
        "!head moore.csv"
      ],
      "execution_count": 6,
      "outputs": [
        {
          "output_type": "stream",
          "text": [
            "1971,2300\n",
            "1972,3500\n",
            "1973,2500\n",
            "1973,2500\n",
            "1974,4100\n",
            "1974,4500\n",
            "1974,8000\n",
            "1975,3510\n",
            "1976,5000\n",
            "1976,8500\n"
          ],
          "name": "stdout"
        }
      ]
    },
    {
      "cell_type": "code",
      "metadata": {
        "id": "Xk8Vnc7LZjSC",
        "colab_type": "code",
        "colab": {
          "base_uri": "https://localhost:8080/",
          "height": 204
        },
        "outputId": "743ed5df-51a5-4ffb-e091-908b81b1e35f"
      },
      "source": [
        "df_data = pd.read_csv('moore.csv', header=None)\n",
        "df_data.head()"
      ],
      "execution_count": 7,
      "outputs": [
        {
          "output_type": "execute_result",
          "data": {
            "text/html": [
              "<div>\n",
              "<style scoped>\n",
              "    .dataframe tbody tr th:only-of-type {\n",
              "        vertical-align: middle;\n",
              "    }\n",
              "\n",
              "    .dataframe tbody tr th {\n",
              "        vertical-align: top;\n",
              "    }\n",
              "\n",
              "    .dataframe thead th {\n",
              "        text-align: right;\n",
              "    }\n",
              "</style>\n",
              "<table border=\"1\" class=\"dataframe\">\n",
              "  <thead>\n",
              "    <tr style=\"text-align: right;\">\n",
              "      <th></th>\n",
              "      <th>0</th>\n",
              "      <th>1</th>\n",
              "    </tr>\n",
              "  </thead>\n",
              "  <tbody>\n",
              "    <tr>\n",
              "      <th>0</th>\n",
              "      <td>1971</td>\n",
              "      <td>2300</td>\n",
              "    </tr>\n",
              "    <tr>\n",
              "      <th>1</th>\n",
              "      <td>1972</td>\n",
              "      <td>3500</td>\n",
              "    </tr>\n",
              "    <tr>\n",
              "      <th>2</th>\n",
              "      <td>1973</td>\n",
              "      <td>2500</td>\n",
              "    </tr>\n",
              "    <tr>\n",
              "      <th>3</th>\n",
              "      <td>1973</td>\n",
              "      <td>2500</td>\n",
              "    </tr>\n",
              "    <tr>\n",
              "      <th>4</th>\n",
              "      <td>1974</td>\n",
              "      <td>4100</td>\n",
              "    </tr>\n",
              "  </tbody>\n",
              "</table>\n",
              "</div>"
            ],
            "text/plain": [
              "      0     1\n",
              "0  1971  2300\n",
              "1  1972  3500\n",
              "2  1973  2500\n",
              "3  1973  2500\n",
              "4  1974  4100"
            ]
          },
          "metadata": {
            "tags": []
          },
          "execution_count": 7
        }
      ]
    },
    {
      "cell_type": "code",
      "metadata": {
        "id": "5fqQvn6nfA7z",
        "colab_type": "code",
        "colab": {}
      },
      "source": [
        "# columns = ['Year', 'No of transistors']\n",
        "# df_data.columns = columns\n",
        "# df_data.head()\n",
        "\n",
        "# \tYear\tNo of transistors\n",
        "# 0\t1971\t2300\n",
        "# 1\t1972\t3500\n",
        "# 2\t1973\t2500\n",
        "# 3\t1973\t2500\n",
        "# 4\t1974\t4100"
      ],
      "execution_count": 0,
      "outputs": []
    },
    {
      "cell_type": "code",
      "metadata": {
        "id": "iLdYygR1ceeD",
        "colab_type": "code",
        "colab": {}
      },
      "source": [
        "X = df_data[0]\n",
        "Y = df_data[1]\n",
        "# X.shape           (162,)\n",
        "# Y.shape           (162,)\n",
        "\n",
        "X = df_data[0].values\n",
        "Y = df_data[1].values\n",
        "# X.shape           (162,)\n",
        "# Y.shape           (162,)\n",
        "\n",
        "X = X.reshape(-1,1)\n",
        "# X.shape           (162, 1)"
      ],
      "execution_count": 0,
      "outputs": []
    },
    {
      "cell_type": "code",
      "metadata": {
        "id": "FMvqWNjC-wBX",
        "colab_type": "code",
        "colab": {
          "base_uri": "https://localhost:8080/",
          "height": 293
        },
        "outputId": "0c326683-baaa-4f8d-a302-1e31786f8701"
      },
      "source": [
        "plt.scatter(X, Y)"
      ],
      "execution_count": 10,
      "outputs": [
        {
          "output_type": "execute_result",
          "data": {
            "text/plain": [
              "<matplotlib.collections.PathCollection at 0x7fc07aed4c50>"
            ]
          },
          "metadata": {
            "tags": []
          },
          "execution_count": 10
        },
        {
          "output_type": "display_data",
          "data": {
            "image/png": "[encoded data removed]",
            "text/plain": [
              "<Figure size 432x288 with 1 Axes>"
            ]
          },
          "metadata": {
            "tags": []
          }
        }
      ]
    },
    {
      "cell_type": "code",
      "metadata": {
        "id": "9I81mkFH_16Z",
        "colab_type": "code",
        "colab": {
          "base_uri": "https://localhost:8080/",
          "height": 282
        },
        "outputId": "3552e754-44fd-4e56-bd6c-d5029753fecb"
      },
      "source": [
        "Y = np.log(Y)\n",
        "plt.scatter(X, Y)"
      ],
      "execution_count": 11,
      "outputs": [
        {
          "output_type": "execute_result",
          "data": {
            "text/plain": [
              "<matplotlib.collections.PathCollection at 0x7fc0789a9438>"
            ]
          },
          "metadata": {
            "tags": []
          },
          "execution_count": 11
        },
        {
          "output_type": "display_data",
          "data": {
            "image/png": "[encoded data removed]",
            "text/plain": [
              "<Figure size 432x288 with 1 Axes>"
            ]
          },
          "metadata": {
            "tags": []
          }
        }
      ]
    },
    {
      "cell_type": "code",
      "metadata": {
        "id": "K9Wc72kwDlFd",
        "colab_type": "code",
        "colab": {}
      },
      "source": [
        "# Let's also center the X data so the values are not too large\n",
        "# We could scale it too but then we'd have to reverse the transformation later\n",
        "X = X - X.mean()"
      ],
      "execution_count": 0,
      "outputs": []
    },
    {
      "cell_type": "code",
      "metadata": {
        "id": "tcE7wMDC-6Gt",
        "colab_type": "code",
        "colab": {}
      },
      "source": [
        "model = Sequential()\n",
        "model.add(Dense(1, input_dim=1))"
      ],
      "execution_count": 0,
      "outputs": []
    },
    {
      "cell_type": "code",
      "metadata": {
        "id": "RGxYVz-sBSHH",
        "colab_type": "code",
        "colab": {}
      },
      "source": [
        "model.compile(\n",
        "    loss = 'mean_squared_error',\n",
        "    optimizer = tf.keras.optimizers.SGD(0.001, 0.9)\n",
        ")"
      ],
      "execution_count": 0,
      "outputs": []
    },
    {
      "cell_type": "code",
      "metadata": {
        "id": "UxbdIvefBqPw",
        "colab_type": "code",
        "colab": {
          "base_uri": "https://localhost:8080/",
          "height": 187
        },
        "outputId": "06afc74b-d79e-4b55-83a7-5e131471261d"
      },
      "source": [
        "model.summary()"
      ],
      "execution_count": 15,
      "outputs": [
        {
          "output_type": "stream",
          "text": [
            "Model: \"sequential\"\n",
            "_________________________________________________________________\n",
            "Layer (type)                 Output Shape              Param #   \n",
            "=================================================================\n",
            "dense (Dense)                (None, 1)                 2         \n",
            "=================================================================\n",
            "Total params: 2\n",
            "Trainable params: 2\n",
            "Non-trainable params: 0\n",
            "_________________________________________________________________\n"
          ],
          "name": "stdout"
        }
      ]
    },
    {
      "cell_type": "code",
      "metadata": {
        "id": "-BcfVItPCE8d",
        "colab_type": "code",
        "colab": {
          "base_uri": "https://localhost:8080/",
          "height": 1000
        },
        "outputId": "c9b9ab36-7511-4de0-f2e3-2c893f03e5f9"
      },
      "source": [
        "r = model.fit(X, Y, epochs=100)"
      ],
      "execution_count": 16,
      "outputs": [
        {
          "output_type": "stream",
          "text": [
            "Train on 162 samples\n",
            "Epoch 1/100\n",
            "162/162 [==============================] - 1s 4ms/sample - loss: 369.2448\n",
            "Epoch 2/100\n",
            "162/162 [==============================] - 0s 132us/sample - loss: 407.1096\n",
            "Epoch 3/100\n",
            "162/162 [==============================] - 0s 158us/sample - loss: 404.8103\n",
            "Epoch 4/100\n",
            "162/162 [==============================] - 0s 133us/sample - loss: 221.8261\n",
            "Epoch 5/100\n",
            "162/162 [==============================] - 0s 217us/sample - loss: 166.2590\n",
            "Epoch 6/100\n",
            "162/162 [==============================] - 0s 158us/sample - loss: 316.0363\n",
            "Epoch 7/100\n",
            "162/162 [==============================] - 0s 141us/sample - loss: 299.0369\n",
            "Epoch 8/100\n",
            "162/162 [==============================] - 0s 139us/sample - loss: 126.6299\n",
            "Epoch 9/100\n",
            "162/162 [==============================] - 0s 141us/sample - loss: 98.5545\n",
            "Epoch 10/100\n",
            "162/162 [==============================] - 0s 133us/sample - loss: 43.2231\n",
            "Epoch 11/100\n",
            "162/162 [==============================] - 0s 147us/sample - loss: 27.2704\n",
            "Epoch 12/100\n",
            "162/162 [==============================] - 0s 145us/sample - loss: 20.8189\n",
            "Epoch 13/100\n",
            "162/162 [==============================] - 0s 141us/sample - loss: 17.1582\n",
            "Epoch 14/100\n",
            "162/162 [==============================] - 0s 150us/sample - loss: 10.7129\n",
            "Epoch 15/100\n",
            "162/162 [==============================] - 0s 153us/sample - loss: 10.1581\n",
            "Epoch 16/100\n",
            "162/162 [==============================] - 0s 146us/sample - loss: 7.5740\n",
            "Epoch 17/100\n",
            "162/162 [==============================] - 0s 152us/sample - loss: 5.9518\n",
            "Epoch 18/100\n",
            "162/162 [==============================] - 0s 159us/sample - loss: 3.7812\n",
            "Epoch 19/100\n",
            "162/162 [==============================] - 0s 141us/sample - loss: 2.7499\n",
            "Epoch 20/100\n",
            "162/162 [==============================] - 0s 134us/sample - loss: 2.2437\n",
            "Epoch 21/100\n",
            "162/162 [==============================] - 0s 125us/sample - loss: 1.8624\n",
            "Epoch 22/100\n",
            "162/162 [==============================] - 0s 187us/sample - loss: 1.6029\n",
            "Epoch 23/100\n",
            "162/162 [==============================] - 0s 128us/sample - loss: 2.1406\n",
            "Epoch 24/100\n",
            "162/162 [==============================] - 0s 159us/sample - loss: 1.4707\n",
            "Epoch 25/100\n",
            "162/162 [==============================] - 0s 162us/sample - loss: 1.1892\n",
            "Epoch 26/100\n",
            "162/162 [==============================] - 0s 128us/sample - loss: 1.1950\n",
            "Epoch 27/100\n",
            "162/162 [==============================] - 0s 146us/sample - loss: 1.0363\n",
            "Epoch 28/100\n",
            "162/162 [==============================] - 0s 173us/sample - loss: 1.0706\n",
            "Epoch 29/100\n",
            "162/162 [==============================] - 0s 115us/sample - loss: 0.9632\n",
            "Epoch 30/100\n",
            "162/162 [==============================] - 0s 138us/sample - loss: 0.9427\n",
            "Epoch 31/100\n",
            "162/162 [==============================] - 0s 129us/sample - loss: 0.9235\n",
            "Epoch 32/100\n",
            "162/162 [==============================] - 0s 119us/sample - loss: 0.9345\n",
            "Epoch 33/100\n",
            "162/162 [==============================] - 0s 134us/sample - loss: 0.9137\n",
            "Epoch 34/100\n",
            "162/162 [==============================] - 0s 107us/sample - loss: 0.9137\n",
            "Epoch 35/100\n",
            "162/162 [==============================] - 0s 163us/sample - loss: 0.8803\n",
            "Epoch 36/100\n",
            "162/162 [==============================] - 0s 127us/sample - loss: 0.8999\n",
            "Epoch 37/100\n",
            "162/162 [==============================] - 0s 121us/sample - loss: 0.8912\n",
            "Epoch 38/100\n",
            "162/162 [==============================] - 0s 137us/sample - loss: 1.1165\n",
            "Epoch 39/100\n",
            "162/162 [==============================] - 0s 131us/sample - loss: 0.9617\n",
            "Epoch 40/100\n",
            "162/162 [==============================] - 0s 123us/sample - loss: 0.9801\n",
            "Epoch 41/100\n",
            "162/162 [==============================] - 0s 113us/sample - loss: 0.9503\n",
            "Epoch 42/100\n",
            "162/162 [==============================] - 0s 111us/sample - loss: 0.9686\n",
            "Epoch 43/100\n",
            "162/162 [==============================] - 0s 114us/sample - loss: 0.8780\n",
            "Epoch 44/100\n",
            "162/162 [==============================] - 0s 150us/sample - loss: 0.9109\n",
            "Epoch 45/100\n",
            "162/162 [==============================] - 0s 160us/sample - loss: 0.8959\n",
            "Epoch 46/100\n",
            "162/162 [==============================] - 0s 177us/sample - loss: 0.9038\n",
            "Epoch 47/100\n",
            "162/162 [==============================] - 0s 113us/sample - loss: 0.9224\n",
            "Epoch 48/100\n",
            "162/162 [==============================] - 0s 171us/sample - loss: 0.8971\n",
            "Epoch 49/100\n",
            "162/162 [==============================] - 0s 107us/sample - loss: 0.8712\n",
            "Epoch 50/100\n",
            "162/162 [==============================] - 0s 139us/sample - loss: 0.8906\n",
            "Epoch 51/100\n",
            "162/162 [==============================] - 0s 144us/sample - loss: 0.8819\n",
            "Epoch 52/100\n",
            "162/162 [==============================] - 0s 148us/sample - loss: 0.9136\n",
            "Epoch 53/100\n",
            "162/162 [==============================] - 0s 147us/sample - loss: 0.9005\n",
            "Epoch 54/100\n",
            "162/162 [==============================] - 0s 146us/sample - loss: 1.0011\n",
            "Epoch 55/100\n",
            "162/162 [==============================] - 0s 138us/sample - loss: 0.9186\n",
            "Epoch 56/100\n",
            "162/162 [==============================] - 0s 144us/sample - loss: 0.8951\n",
            "Epoch 57/100\n",
            "162/162 [==============================] - 0s 144us/sample - loss: 0.9254\n",
            "Epoch 58/100\n",
            "162/162 [==============================] - 0s 157us/sample - loss: 0.9783\n",
            "Epoch 59/100\n",
            "162/162 [==============================] - 0s 138us/sample - loss: 0.8998\n",
            "Epoch 60/100\n",
            "162/162 [==============================] - 0s 126us/sample - loss: 0.9507\n",
            "Epoch 61/100\n",
            "162/162 [==============================] - 0s 133us/sample - loss: 0.9229\n",
            "Epoch 62/100\n",
            "162/162 [==============================] - 0s 141us/sample - loss: 0.9198\n",
            "Epoch 63/100\n",
            "162/162 [==============================] - 0s 190us/sample - loss: 0.9196\n",
            "Epoch 64/100\n",
            "162/162 [==============================] - 0s 184us/sample - loss: 0.9037\n",
            "Epoch 65/100\n",
            "162/162 [==============================] - 0s 123us/sample - loss: 0.8944\n",
            "Epoch 66/100\n",
            "162/162 [==============================] - 0s 122us/sample - loss: 0.8891\n",
            "Epoch 67/100\n",
            "162/162 [==============================] - 0s 144us/sample - loss: 0.8932\n",
            "Epoch 68/100\n",
            "162/162 [==============================] - 0s 122us/sample - loss: 0.8788\n",
            "Epoch 69/100\n",
            "162/162 [==============================] - 0s 134us/sample - loss: 0.8906\n",
            "Epoch 70/100\n",
            "162/162 [==============================] - 0s 141us/sample - loss: 0.8836\n",
            "Epoch 71/100\n",
            "162/162 [==============================] - 0s 141us/sample - loss: 0.9129\n",
            "Epoch 72/100\n",
            "162/162 [==============================] - 0s 145us/sample - loss: 0.9246\n",
            "Epoch 73/100\n",
            "162/162 [==============================] - 0s 155us/sample - loss: 0.9092\n",
            "Epoch 74/100\n",
            "162/162 [==============================] - 0s 136us/sample - loss: 0.9993\n",
            "Epoch 75/100\n",
            "162/162 [==============================] - 0s 129us/sample - loss: 0.9707\n",
            "Epoch 76/100\n",
            "162/162 [==============================] - 0s 144us/sample - loss: 0.9212\n",
            "Epoch 77/100\n",
            "162/162 [==============================] - 0s 166us/sample - loss: 0.9198\n",
            "Epoch 78/100\n",
            "162/162 [==============================] - 0s 127us/sample - loss: 1.0660\n",
            "Epoch 79/100\n",
            "162/162 [==============================] - 0s 145us/sample - loss: 0.8726\n",
            "Epoch 80/100\n",
            "162/162 [==============================] - 0s 139us/sample - loss: 0.8893\n",
            "Epoch 81/100\n",
            "162/162 [==============================] - 0s 154us/sample - loss: 0.9049\n",
            "Epoch 82/100\n",
            "162/162 [==============================] - 0s 121us/sample - loss: 0.9006\n",
            "Epoch 83/100\n",
            "162/162 [==============================] - 0s 124us/sample - loss: 1.1155\n",
            "Epoch 84/100\n",
            "162/162 [==============================] - 0s 134us/sample - loss: 0.9014\n",
            "Epoch 85/100\n",
            "162/162 [==============================] - 0s 128us/sample - loss: 0.9838\n",
            "Epoch 86/100\n",
            "162/162 [==============================] - 0s 179us/sample - loss: 1.0684\n",
            "Epoch 87/100\n",
            "162/162 [==============================] - 0s 148us/sample - loss: 0.9822\n",
            "Epoch 88/100\n",
            "162/162 [==============================] - 0s 159us/sample - loss: 0.9284\n",
            "Epoch 89/100\n",
            "162/162 [==============================] - 0s 160us/sample - loss: 0.9171\n",
            "Epoch 90/100\n",
            "162/162 [==============================] - 0s 117us/sample - loss: 0.8830\n",
            "Epoch 91/100\n",
            "162/162 [==============================] - 0s 127us/sample - loss: 0.9041\n",
            "Epoch 92/100\n",
            "162/162 [==============================] - 0s 158us/sample - loss: 0.9739\n",
            "Epoch 93/100\n",
            "162/162 [==============================] - 0s 126us/sample - loss: 1.7992\n",
            "Epoch 94/100\n",
            "162/162 [==============================] - 0s 144us/sample - loss: 1.2188\n",
            "Epoch 95/100\n",
            "162/162 [==============================] - 0s 145us/sample - loss: 0.9158\n",
            "Epoch 96/100\n",
            "162/162 [==============================] - 0s 115us/sample - loss: 1.0619\n",
            "Epoch 97/100\n",
            "162/162 [==============================] - 0s 115us/sample - loss: 1.0325\n",
            "Epoch 98/100\n",
            "162/162 [==============================] - 0s 115us/sample - loss: 0.9741\n",
            "Epoch 99/100\n",
            "162/162 [==============================] - 0s 133us/sample - loss: 0.9760\n",
            "Epoch 100/100\n",
            "162/162 [==============================] - 0s 133us/sample - loss: 0.9555\n"
          ],
          "name": "stdout"
        }
      ]
    },
    {
      "cell_type": "code",
      "metadata": {
        "id": "NVcAs-erCROA",
        "colab_type": "code",
        "colab": {
          "base_uri": "https://localhost:8080/",
          "height": 298
        },
        "outputId": "14f5ca8f-c86d-4ac0-f4f7-909c8ed5f357"
      },
      "source": [
        "plt.plot(r.history['loss'], label = 'Training Loss')\n",
        "plt.legend()\n",
        "plt.title('Training Loss')"
      ],
      "execution_count": 17,
      "outputs": [
        {
          "output_type": "execute_result",
          "data": {
            "text/plain": [
              "Text(0.5, 1.0, 'Training Loss')"
            ]
          },
          "metadata": {
            "tags": []
          },
          "execution_count": 17
        },
        {
          "output_type": "display_data",
          "data": {
            "image/png": "[encoded data removed]",
            "text/plain": [
              "<Figure size 432x288 with 1 Axes>"
            ]
          },
          "metadata": {
            "tags": []
          }
        }
      ]
    },
    {
      "cell_type": "code",
      "metadata": {
        "id": "-kfWzfGgIjb1",
        "colab_type": "code",
        "colab": {
          "base_uri": "https://localhost:8080/",
          "height": 34
        },
        "outputId": "3f546873-c7a4-4a7d-cfbc-64e38f56305e"
      },
      "source": [
        "model.layers      # Note: there is only 1 layer, the \"Input\" layer doesn't count"
      ],
      "execution_count": 21,
      "outputs": [
        {
          "output_type": "execute_result",
          "data": {
            "text/plain": [
              "[<tensorflow.python.keras.layers.core.Dense at 0x7fc07ae97470>]"
            ]
          },
          "metadata": {
            "tags": []
          },
          "execution_count": 21
        }
      ]
    },
    {
      "cell_type": "code",
      "metadata": {
        "id": "VL8JoOVMImwx",
        "colab_type": "code",
        "colab": {
          "base_uri": "https://localhost:8080/",
          "height": 34
        },
        "outputId": "001aaf28-ca5a-4ba3-fd2e-0e6a9f82cad8"
      },
      "source": [
        "model.get_weights()"
      ],
      "execution_count": 22,
      "outputs": [
        {
          "output_type": "execute_result",
          "data": {
            "text/plain": [
              "[array([[0.32231116]], dtype=float32), array([17.712036], dtype=float32)]"
            ]
          },
          "metadata": {
            "tags": []
          },
          "execution_count": 22
        }
      ]
    },
    {
      "cell_type": "code",
      "metadata": {
        "id": "5P_OatnYI3kV",
        "colab_type": "code",
        "colab": {
          "base_uri": "https://localhost:8080/",
          "height": 34
        },
        "outputId": "fa6ad357-4232-4961-ac5a-9d6ebb9c6e4a"
      },
      "source": [
        "model.layers[0].get_weights()"
      ],
      "execution_count": 23,
      "outputs": [
        {
          "output_type": "execute_result",
          "data": {
            "text/plain": [
              "[array([[0.32231116]], dtype=float32), array([17.712036], dtype=float32)]"
            ]
          },
          "metadata": {
            "tags": []
          },
          "execution_count": 23
        }
      ]
    },
    {
      "cell_type": "code",
      "metadata": {
        "id": "f2IKmEnYJ8RL",
        "colab_type": "code",
        "colab": {
          "base_uri": "https://localhost:8080/",
          "height": 282
        },
        "outputId": "a1ffa2a2-c4fd-4884-8338-77adc98f097e"
      },
      "source": [
        "# Making Predictions\n",
        "Yhat = model.predict(X.flatten())\n",
        "plt.scatter(X, Y)\n",
        "plt.plot(X, Yhat)"
      ],
      "execution_count": 30,
      "outputs": [
        {
          "output_type": "execute_result",
          "data": {
            "text/plain": [
              "[<matplotlib.lines.Line2D at 0x7fc0520cb390>]"
            ]
          },
          "metadata": {
            "tags": []
          },
          "execution_count": 30
        },
        {
          "output_type": "display_data",
          "data": {
            "image/png": "[encoded data removed]",
            "text/plain": [
              "<Figure size 432x288 with 1 Axes>"
            ]
          },
          "metadata": {
            "tags": []
          }
        }
      ]
    }
  ]
}
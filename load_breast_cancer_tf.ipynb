{
  "nbformat": 4,
  "nbformat_minor": 0,
  "metadata": {
    "colab": {
      "name": "load_breast_cancer_tf.ipynb",
      "provenance": [],
      "collapsed_sections": []
    },
    "kernelspec": {
      "name": "python3",
      "display_name": "Python 3"
    },
    "accelerator": "GPU"
  },
  "cells": [
    {
      "cell_type": "code",
      "metadata": {
        "id": "wxl_PGiQKnaF",
        "colab_type": "code",
        "colab": {
          "base_uri": "https://localhost:8080/",
          "height": 119
        },
        "outputId": "11328a92-278d-4500-f25b-6845b9149237"
      },
      "source": [
        "# pip install tensorflow==2.0.0-beta1\n",
        "try:\n",
        "  %tensorflow_version 2.x  # Colab only.\n",
        "except Exception:\n",
        "  pass\n",
        "\n",
        "import tensorflow as tf\n",
        "print(tf.__version__)"
      ],
      "execution_count": 2,
      "outputs": [
        {
          "output_type": "stream",
          "text": [
            "`%tensorflow_version` only switches the major version: `1.x` or `2.x`.\n",
            "You set: `2.x  # Colab only.`. This will be interpreted as: `2.x`.\n",
            "\n",
            "\n",
            "TensorFlow is already loaded. Please restart the runtime to change versions.\n",
            "2.1.0-rc1\n"
          ],
          "name": "stdout"
        }
      ]
    },
    {
      "cell_type": "code",
      "metadata": {
        "id": "BlOMw0osg3SH",
        "colab_type": "code",
        "colab": {}
      },
      "source": [
        "import matplotlib.pyplot as plt\n",
        "from tensorflow.keras.models import Sequential\n",
        "from tensorflow.keras.layers import Dense"
      ],
      "execution_count": 0,
      "outputs": []
    },
    {
      "cell_type": "code",
      "metadata": {
        "id": "e2VDDBVVhRFj",
        "colab_type": "code",
        "colab": {}
      },
      "source": [
        "from sklearn.datasets import load_breast_cancer\n",
        "from sklearn.model_selection import train_test_split\n",
        "from sklearn.preprocessing import StandardScaler"
      ],
      "execution_count": 0,
      "outputs": []
    },
    {
      "cell_type": "code",
      "metadata": {
        "id": "YuPHmTlmhita",
        "colab_type": "code",
        "colab": {
          "base_uri": "https://localhost:8080/",
          "height": 34
        },
        "outputId": "ac020a71-ee9d-4aa1-b422-1ee7574b3c09"
      },
      "source": [
        "dataset = load_breast_cancer()\n",
        "type(dataset)"
      ],
      "execution_count": 5,
      "outputs": [
        {
          "output_type": "execute_result",
          "data": {
            "text/plain": [
              "sklearn.utils.Bunch"
            ]
          },
          "metadata": {
            "tags": []
          },
          "execution_count": 5
        }
      ]
    },
    {
      "cell_type": "code",
      "metadata": {
        "id": "skZjN2w_ilFS",
        "colab_type": "code",
        "colab": {
          "base_uri": "https://localhost:8080/",
          "height": 34
        },
        "outputId": "09b18759-7775-4763-951d-824ebb56ddc2"
      },
      "source": [
        "dataset.keys()"
      ],
      "execution_count": 6,
      "outputs": [
        {
          "output_type": "execute_result",
          "data": {
            "text/plain": [
              "dict_keys(['data', 'target', 'target_names', 'DESCR', 'feature_names', 'filename'])"
            ]
          },
          "metadata": {
            "tags": []
          },
          "execution_count": 6
        }
      ]
    },
    {
      "cell_type": "code",
      "metadata": {
        "id": "UQfDhBtMjFXo",
        "colab_type": "code",
        "colab": {}
      },
      "source": [
        "# dataset.data.shape          (569, 30)\n",
        "# dataset.target.shape        (569,)"
      ],
      "execution_count": 0,
      "outputs": []
    },
    {
      "cell_type": "code",
      "metadata": {
        "id": "yPndX69rkIiA",
        "colab_type": "code",
        "colab": {}
      },
      "source": [
        "# dataset.target_names        array(['malignant', 'benign'], dtype='<U9')\n",
        "# dataset.feature_names       array(['mean radius', 'mean texture', 'mean perimeter', 'mean area',\n",
        "#                                   'mean smoothness', 'mean compactness', 'mean concavity',\n",
        "#                                   'mean concave points', 'mean symmetry', 'mean fractal dimension',\n",
        "#                                   'radius error', 'texture error', 'perimeter error', 'area error',\n",
        "#                                   'smoothness error', 'compactness error', 'concavity error',\n",
        "#                                   'concave points error', 'symmetry error',\n",
        "#                                   'fractal dimension error', 'worst radius', 'worst texture',\n",
        "#                                   'worst perimeter', 'worst area', 'worst smoothness',\n",
        "#                                   'worst compactness', 'worst concavity', 'worst concave points',\n",
        "#                                   'worst symmetry', 'worst fractal dimension'], dtype='<U23')"
      ],
      "execution_count": 0,
      "outputs": []
    },
    {
      "cell_type": "code",
      "metadata": {
        "id": "LswAwe4Jk0Rj",
        "colab_type": "code",
        "colab": {}
      },
      "source": [
        "X_train, X_test, y_train, y_test = train_test_split(dataset.data, dataset.target, test_size=0.33)\n",
        "N, D = X_train.shape\n",
        "# X_train.shape      (381, 30)\n",
        "# y_train.shape      (381,)\n",
        "# X_test.shape       (188, 30)\n",
        "# y_test.shape       (188,)"
      ],
      "execution_count": 0,
      "outputs": []
    },
    {
      "cell_type": "code",
      "metadata": {
        "id": "Cza4YQ-zot98",
        "colab_type": "code",
        "colab": {}
      },
      "source": [
        "# The idea behind StandardScaler is that it will transform your data such that its distribution will have a mean value 0 and standard deviation of 1.\n",
        "# Given the distribution of the data, each value in the dataset will have the mean value subtracted, and then divided by the standard deviation of the \n",
        "# whole dataset (or feature in the multivariate case)\n",
        "scalar = StandardScaler()\n",
        "X_train = scalar.fit_transform(X_train)\n",
        "X_test = scalar.transform(X_test)"
      ],
      "execution_count": 0,
      "outputs": []
    },
    {
      "cell_type": "code",
      "metadata": {
        "id": "3m-Tx1nVq9zM",
        "colab_type": "code",
        "colab": {}
      },
      "source": [
        "model = Sequential()\n",
        "model.add(Dense(1, input_dim=D, activation='sigmoid'))\n",
        "# model = tf.keras.models.Sequential([\n",
        "#                                     tf.keras.layers.Input(shape=(D,)),\n",
        "#                                     tf.keras.layers.Dense(1, activation='sigmoid')\n",
        "# ])"
      ],
      "execution_count": 0,
      "outputs": []
    },
    {
      "cell_type": "code",
      "metadata": {
        "id": "FHuVl1TsyKR1",
        "colab_type": "code",
        "colab": {}
      },
      "source": [
        "model.compile(\n",
        "    loss = 'binary_crossentropy',\n",
        "    optimizer = 'adam',\n",
        "    metrics = ['accuracy']\n",
        ")"
      ],
      "execution_count": 0,
      "outputs": []
    },
    {
      "cell_type": "code",
      "metadata": {
        "id": "OEyD_q4dztpp",
        "colab_type": "code",
        "colab": {
          "base_uri": "https://localhost:8080/",
          "height": 187
        },
        "outputId": "ba8bc45c-0d94-490a-a622-cd8b8701f3cd"
      },
      "source": [
        "model.summary()"
      ],
      "execution_count": 13,
      "outputs": [
        {
          "output_type": "stream",
          "text": [
            "Model: \"sequential\"\n",
            "_________________________________________________________________\n",
            "Layer (type)                 Output Shape              Param #   \n",
            "=================================================================\n",
            "dense (Dense)                (None, 1)                 31        \n",
            "=================================================================\n",
            "Total params: 31\n",
            "Trainable params: 31\n",
            "Non-trainable params: 0\n",
            "_________________________________________________________________\n"
          ],
          "name": "stdout"
        }
      ]
    },
    {
      "cell_type": "code",
      "metadata": {
        "id": "7p2JLi5Sz2Qj",
        "colab_type": "code",
        "colab": {
          "base_uri": "https://localhost:8080/",
          "height": 1000
        },
        "outputId": "43039726-596d-4c9d-dd5d-7b85033274dc"
      },
      "source": [
        "r = model.fit(X_train, y_train, validation_data=(X_test, y_test), epochs=100)"
      ],
      "execution_count": 14,
      "outputs": [
        {
          "output_type": "stream",
          "text": [
            "Train on 381 samples, validate on 188 samples\n",
            "Epoch 1/100\n",
            "381/381 [==============================] - 2s 6ms/sample - loss: 0.8697 - accuracy: 0.2861 - val_loss: 0.8567 - val_accuracy: 0.2926\n",
            "Epoch 2/100\n",
            "381/381 [==============================] - 0s 177us/sample - loss: 0.7839 - accuracy: 0.3990 - val_loss: 0.7676 - val_accuracy: 0.4309\n",
            "Epoch 3/100\n",
            "381/381 [==============================] - 0s 183us/sample - loss: 0.7091 - accuracy: 0.5433 - val_loss: 0.6930 - val_accuracy: 0.5851\n",
            "Epoch 4/100\n",
            "381/381 [==============================] - 0s 180us/sample - loss: 0.6448 - accuracy: 0.6535 - val_loss: 0.6311 - val_accuracy: 0.6862\n",
            "Epoch 5/100\n",
            "381/381 [==============================] - 0s 206us/sample - loss: 0.5916 - accuracy: 0.7244 - val_loss: 0.5794 - val_accuracy: 0.7394\n",
            "Epoch 6/100\n",
            "381/381 [==============================] - 0s 200us/sample - loss: 0.5464 - accuracy: 0.7979 - val_loss: 0.5362 - val_accuracy: 0.7819\n",
            "Epoch 7/100\n",
            "381/381 [==============================] - 0s 177us/sample - loss: 0.5081 - accuracy: 0.8294 - val_loss: 0.4998 - val_accuracy: 0.8032\n",
            "Epoch 8/100\n",
            "381/381 [==============================] - 0s 154us/sample - loss: 0.4764 - accuracy: 0.8583 - val_loss: 0.4682 - val_accuracy: 0.8351\n",
            "Epoch 9/100\n",
            "381/381 [==============================] - 0s 180us/sample - loss: 0.4475 - accuracy: 0.8688 - val_loss: 0.4410 - val_accuracy: 0.8457\n",
            "Epoch 10/100\n",
            "381/381 [==============================] - 0s 196us/sample - loss: 0.4231 - accuracy: 0.8766 - val_loss: 0.4169 - val_accuracy: 0.8670\n",
            "Epoch 11/100\n",
            "381/381 [==============================] - 0s 159us/sample - loss: 0.4011 - accuracy: 0.8898 - val_loss: 0.3958 - val_accuracy: 0.8723\n",
            "Epoch 12/100\n",
            "381/381 [==============================] - 0s 173us/sample - loss: 0.3820 - accuracy: 0.8950 - val_loss: 0.3768 - val_accuracy: 0.8723\n",
            "Epoch 13/100\n",
            "381/381 [==============================] - 0s 168us/sample - loss: 0.3641 - accuracy: 0.9003 - val_loss: 0.3600 - val_accuracy: 0.8883\n",
            "Epoch 14/100\n",
            "381/381 [==============================] - 0s 171us/sample - loss: 0.3483 - accuracy: 0.9055 - val_loss: 0.3449 - val_accuracy: 0.8883\n",
            "Epoch 15/100\n",
            "381/381 [==============================] - 0s 172us/sample - loss: 0.3343 - accuracy: 0.9134 - val_loss: 0.3308 - val_accuracy: 0.8989\n",
            "Epoch 16/100\n",
            "381/381 [==============================] - 0s 184us/sample - loss: 0.3211 - accuracy: 0.9186 - val_loss: 0.3180 - val_accuracy: 0.9043\n",
            "Epoch 17/100\n",
            "381/381 [==============================] - 0s 175us/sample - loss: 0.3090 - accuracy: 0.9265 - val_loss: 0.3064 - val_accuracy: 0.9096\n",
            "Epoch 18/100\n",
            "381/381 [==============================] - 0s 169us/sample - loss: 0.2981 - accuracy: 0.9291 - val_loss: 0.2956 - val_accuracy: 0.9096\n",
            "Epoch 19/100\n",
            "381/381 [==============================] - 0s 164us/sample - loss: 0.2876 - accuracy: 0.9291 - val_loss: 0.2859 - val_accuracy: 0.9043\n",
            "Epoch 20/100\n",
            "381/381 [==============================] - 0s 196us/sample - loss: 0.2783 - accuracy: 0.9344 - val_loss: 0.2768 - val_accuracy: 0.9043\n",
            "Epoch 21/100\n",
            "381/381 [==============================] - 0s 188us/sample - loss: 0.2697 - accuracy: 0.9344 - val_loss: 0.2680 - val_accuracy: 0.9043\n",
            "Epoch 22/100\n",
            "381/381 [==============================] - 0s 166us/sample - loss: 0.2612 - accuracy: 0.9344 - val_loss: 0.2602 - val_accuracy: 0.8989\n",
            "Epoch 23/100\n",
            "381/381 [==============================] - 0s 160us/sample - loss: 0.2535 - accuracy: 0.9344 - val_loss: 0.2528 - val_accuracy: 0.8989\n",
            "Epoch 24/100\n",
            "381/381 [==============================] - 0s 169us/sample - loss: 0.2465 - accuracy: 0.9370 - val_loss: 0.2458 - val_accuracy: 0.8989\n",
            "Epoch 25/100\n",
            "381/381 [==============================] - 0s 191us/sample - loss: 0.2397 - accuracy: 0.9396 - val_loss: 0.2393 - val_accuracy: 0.9096\n",
            "Epoch 26/100\n",
            "381/381 [==============================] - 0s 189us/sample - loss: 0.2333 - accuracy: 0.9423 - val_loss: 0.2333 - val_accuracy: 0.9096\n",
            "Epoch 27/100\n",
            "381/381 [==============================] - 0s 199us/sample - loss: 0.2273 - accuracy: 0.9475 - val_loss: 0.2277 - val_accuracy: 0.9096\n",
            "Epoch 28/100\n",
            "381/381 [==============================] - 0s 166us/sample - loss: 0.2219 - accuracy: 0.9501 - val_loss: 0.2222 - val_accuracy: 0.9202\n",
            "Epoch 29/100\n",
            "381/381 [==============================] - 0s 191us/sample - loss: 0.2165 - accuracy: 0.9501 - val_loss: 0.2171 - val_accuracy: 0.9202\n",
            "Epoch 30/100\n",
            "381/381 [==============================] - 0s 174us/sample - loss: 0.2114 - accuracy: 0.9528 - val_loss: 0.2125 - val_accuracy: 0.9255\n",
            "Epoch 31/100\n",
            "381/381 [==============================] - 0s 181us/sample - loss: 0.2067 - accuracy: 0.9528 - val_loss: 0.2079 - val_accuracy: 0.9255\n",
            "Epoch 32/100\n",
            "381/381 [==============================] - 0s 163us/sample - loss: 0.2023 - accuracy: 0.9528 - val_loss: 0.2036 - val_accuracy: 0.9309\n",
            "Epoch 33/100\n",
            "381/381 [==============================] - 0s 164us/sample - loss: 0.1980 - accuracy: 0.9528 - val_loss: 0.1997 - val_accuracy: 0.9309\n",
            "Epoch 34/100\n",
            "381/381 [==============================] - 0s 192us/sample - loss: 0.1939 - accuracy: 0.9554 - val_loss: 0.1958 - val_accuracy: 0.9362\n",
            "Epoch 35/100\n",
            "381/381 [==============================] - 0s 187us/sample - loss: 0.1901 - accuracy: 0.9554 - val_loss: 0.1923 - val_accuracy: 0.9362\n",
            "Epoch 36/100\n",
            "381/381 [==============================] - 0s 166us/sample - loss: 0.1864 - accuracy: 0.9580 - val_loss: 0.1888 - val_accuracy: 0.9362\n",
            "Epoch 37/100\n",
            "381/381 [==============================] - 0s 153us/sample - loss: 0.1830 - accuracy: 0.9606 - val_loss: 0.1855 - val_accuracy: 0.9415\n",
            "Epoch 38/100\n",
            "381/381 [==============================] - 0s 164us/sample - loss: 0.1796 - accuracy: 0.9633 - val_loss: 0.1825 - val_accuracy: 0.9415\n",
            "Epoch 39/100\n",
            "381/381 [==============================] - 0s 154us/sample - loss: 0.1765 - accuracy: 0.9633 - val_loss: 0.1795 - val_accuracy: 0.9415\n",
            "Epoch 40/100\n",
            "381/381 [==============================] - 0s 169us/sample - loss: 0.1735 - accuracy: 0.9633 - val_loss: 0.1767 - val_accuracy: 0.9415\n",
            "Epoch 41/100\n",
            "381/381 [==============================] - 0s 186us/sample - loss: 0.1705 - accuracy: 0.9633 - val_loss: 0.1741 - val_accuracy: 0.9415\n",
            "Epoch 42/100\n",
            "381/381 [==============================] - 0s 185us/sample - loss: 0.1678 - accuracy: 0.9633 - val_loss: 0.1716 - val_accuracy: 0.9415\n",
            "Epoch 43/100\n",
            "381/381 [==============================] - 0s 174us/sample - loss: 0.1652 - accuracy: 0.9633 - val_loss: 0.1691 - val_accuracy: 0.9415\n",
            "Epoch 44/100\n",
            "381/381 [==============================] - 0s 176us/sample - loss: 0.1626 - accuracy: 0.9659 - val_loss: 0.1667 - val_accuracy: 0.9415\n",
            "Epoch 45/100\n",
            "381/381 [==============================] - 0s 178us/sample - loss: 0.1602 - accuracy: 0.9659 - val_loss: 0.1644 - val_accuracy: 0.9415\n",
            "Epoch 46/100\n",
            "381/381 [==============================] - 0s 177us/sample - loss: 0.1579 - accuracy: 0.9685 - val_loss: 0.1623 - val_accuracy: 0.9468\n",
            "Epoch 47/100\n",
            "381/381 [==============================] - 0s 165us/sample - loss: 0.1555 - accuracy: 0.9685 - val_loss: 0.1602 - val_accuracy: 0.9468\n",
            "Epoch 48/100\n",
            "381/381 [==============================] - 0s 194us/sample - loss: 0.1534 - accuracy: 0.9711 - val_loss: 0.1583 - val_accuracy: 0.9468\n",
            "Epoch 49/100\n",
            "381/381 [==============================] - 0s 199us/sample - loss: 0.1514 - accuracy: 0.9711 - val_loss: 0.1564 - val_accuracy: 0.9468\n",
            "Epoch 50/100\n",
            "381/381 [==============================] - 0s 162us/sample - loss: 0.1494 - accuracy: 0.9711 - val_loss: 0.1546 - val_accuracy: 0.9468\n",
            "Epoch 51/100\n",
            "381/381 [==============================] - 0s 167us/sample - loss: 0.1475 - accuracy: 0.9711 - val_loss: 0.1528 - val_accuracy: 0.9468\n",
            "Epoch 52/100\n",
            "381/381 [==============================] - 0s 156us/sample - loss: 0.1456 - accuracy: 0.9711 - val_loss: 0.1511 - val_accuracy: 0.9468\n",
            "Epoch 53/100\n",
            "381/381 [==============================] - 0s 155us/sample - loss: 0.1438 - accuracy: 0.9711 - val_loss: 0.1495 - val_accuracy: 0.9521\n",
            "Epoch 54/100\n",
            "381/381 [==============================] - 0s 166us/sample - loss: 0.1421 - accuracy: 0.9711 - val_loss: 0.1479 - val_accuracy: 0.9521\n",
            "Epoch 55/100\n",
            "381/381 [==============================] - 0s 164us/sample - loss: 0.1404 - accuracy: 0.9711 - val_loss: 0.1464 - val_accuracy: 0.9521\n",
            "Epoch 56/100\n",
            "381/381 [==============================] - 0s 158us/sample - loss: 0.1389 - accuracy: 0.9711 - val_loss: 0.1450 - val_accuracy: 0.9521\n",
            "Epoch 57/100\n",
            "381/381 [==============================] - 0s 171us/sample - loss: 0.1373 - accuracy: 0.9711 - val_loss: 0.1436 - val_accuracy: 0.9521\n",
            "Epoch 58/100\n",
            "381/381 [==============================] - 0s 178us/sample - loss: 0.1358 - accuracy: 0.9711 - val_loss: 0.1422 - val_accuracy: 0.9521\n",
            "Epoch 59/100\n",
            "381/381 [==============================] - 0s 169us/sample - loss: 0.1344 - accuracy: 0.9764 - val_loss: 0.1409 - val_accuracy: 0.9521\n",
            "Epoch 60/100\n",
            "381/381 [==============================] - 0s 157us/sample - loss: 0.1330 - accuracy: 0.9764 - val_loss: 0.1396 - val_accuracy: 0.9521\n",
            "Epoch 61/100\n",
            "381/381 [==============================] - 0s 156us/sample - loss: 0.1316 - accuracy: 0.9764 - val_loss: 0.1383 - val_accuracy: 0.9521\n",
            "Epoch 62/100\n",
            "381/381 [==============================] - 0s 203us/sample - loss: 0.1303 - accuracy: 0.9764 - val_loss: 0.1371 - val_accuracy: 0.9574\n",
            "Epoch 63/100\n",
            "381/381 [==============================] - 0s 184us/sample - loss: 0.1290 - accuracy: 0.9764 - val_loss: 0.1360 - val_accuracy: 0.9574\n",
            "Epoch 64/100\n",
            "381/381 [==============================] - 0s 185us/sample - loss: 0.1278 - accuracy: 0.9764 - val_loss: 0.1348 - val_accuracy: 0.9574\n",
            "Epoch 65/100\n",
            "381/381 [==============================] - 0s 165us/sample - loss: 0.1266 - accuracy: 0.9764 - val_loss: 0.1337 - val_accuracy: 0.9574\n",
            "Epoch 66/100\n",
            "381/381 [==============================] - 0s 183us/sample - loss: 0.1255 - accuracy: 0.9764 - val_loss: 0.1326 - val_accuracy: 0.9574\n",
            "Epoch 67/100\n",
            "381/381 [==============================] - 0s 165us/sample - loss: 0.1243 - accuracy: 0.9764 - val_loss: 0.1316 - val_accuracy: 0.9574\n",
            "Epoch 68/100\n",
            "381/381 [==============================] - 0s 166us/sample - loss: 0.1232 - accuracy: 0.9764 - val_loss: 0.1306 - val_accuracy: 0.9574\n",
            "Epoch 69/100\n",
            "381/381 [==============================] - 0s 165us/sample - loss: 0.1222 - accuracy: 0.9764 - val_loss: 0.1296 - val_accuracy: 0.9574\n",
            "Epoch 70/100\n",
            "381/381 [==============================] - 0s 185us/sample - loss: 0.1211 - accuracy: 0.9764 - val_loss: 0.1286 - val_accuracy: 0.9574\n",
            "Epoch 71/100\n",
            "381/381 [==============================] - 0s 191us/sample - loss: 0.1201 - accuracy: 0.9764 - val_loss: 0.1278 - val_accuracy: 0.9574\n",
            "Epoch 72/100\n",
            "381/381 [==============================] - 0s 165us/sample - loss: 0.1192 - accuracy: 0.9764 - val_loss: 0.1268 - val_accuracy: 0.9574\n",
            "Epoch 73/100\n",
            "381/381 [==============================] - 0s 171us/sample - loss: 0.1182 - accuracy: 0.9764 - val_loss: 0.1259 - val_accuracy: 0.9574\n",
            "Epoch 74/100\n",
            "381/381 [==============================] - 0s 178us/sample - loss: 0.1173 - accuracy: 0.9764 - val_loss: 0.1251 - val_accuracy: 0.9574\n",
            "Epoch 75/100\n",
            "381/381 [==============================] - 0s 175us/sample - loss: 0.1164 - accuracy: 0.9764 - val_loss: 0.1242 - val_accuracy: 0.9574\n",
            "Epoch 76/100\n",
            "381/381 [==============================] - 0s 171us/sample - loss: 0.1155 - accuracy: 0.9764 - val_loss: 0.1234 - val_accuracy: 0.9628\n",
            "Epoch 77/100\n",
            "381/381 [==============================] - 0s 167us/sample - loss: 0.1146 - accuracy: 0.9764 - val_loss: 0.1226 - val_accuracy: 0.9628\n",
            "Epoch 78/100\n",
            "381/381 [==============================] - 0s 158us/sample - loss: 0.1138 - accuracy: 0.9764 - val_loss: 0.1218 - val_accuracy: 0.9628\n",
            "Epoch 79/100\n",
            "381/381 [==============================] - 0s 203us/sample - loss: 0.1130 - accuracy: 0.9764 - val_loss: 0.1211 - val_accuracy: 0.9628\n",
            "Epoch 80/100\n",
            "381/381 [==============================] - 0s 175us/sample - loss: 0.1122 - accuracy: 0.9764 - val_loss: 0.1203 - val_accuracy: 0.9628\n",
            "Epoch 81/100\n",
            "381/381 [==============================] - 0s 178us/sample - loss: 0.1115 - accuracy: 0.9764 - val_loss: 0.1195 - val_accuracy: 0.9628\n",
            "Epoch 82/100\n",
            "381/381 [==============================] - 0s 159us/sample - loss: 0.1107 - accuracy: 0.9764 - val_loss: 0.1189 - val_accuracy: 0.9628\n",
            "Epoch 83/100\n",
            "381/381 [==============================] - 0s 152us/sample - loss: 0.1099 - accuracy: 0.9764 - val_loss: 0.1182 - val_accuracy: 0.9628\n",
            "Epoch 84/100\n",
            "381/381 [==============================] - 0s 160us/sample - loss: 0.1092 - accuracy: 0.9764 - val_loss: 0.1175 - val_accuracy: 0.9628\n",
            "Epoch 85/100\n",
            "381/381 [==============================] - 0s 163us/sample - loss: 0.1085 - accuracy: 0.9764 - val_loss: 0.1168 - val_accuracy: 0.9628\n",
            "Epoch 86/100\n",
            "381/381 [==============================] - 0s 175us/sample - loss: 0.1078 - accuracy: 0.9764 - val_loss: 0.1162 - val_accuracy: 0.9628\n",
            "Epoch 87/100\n",
            "381/381 [==============================] - 0s 199us/sample - loss: 0.1072 - accuracy: 0.9764 - val_loss: 0.1155 - val_accuracy: 0.9628\n",
            "Epoch 88/100\n",
            "381/381 [==============================] - 0s 177us/sample - loss: 0.1065 - accuracy: 0.9764 - val_loss: 0.1149 - val_accuracy: 0.9628\n",
            "Epoch 89/100\n",
            "381/381 [==============================] - 0s 212us/sample - loss: 0.1059 - accuracy: 0.9764 - val_loss: 0.1143 - val_accuracy: 0.9628\n",
            "Epoch 90/100\n",
            "381/381 [==============================] - 0s 185us/sample - loss: 0.1052 - accuracy: 0.9764 - val_loss: 0.1137 - val_accuracy: 0.9628\n",
            "Epoch 91/100\n",
            "381/381 [==============================] - 0s 165us/sample - loss: 0.1046 - accuracy: 0.9764 - val_loss: 0.1131 - val_accuracy: 0.9628\n",
            "Epoch 92/100\n",
            "381/381 [==============================] - 0s 181us/sample - loss: 0.1040 - accuracy: 0.9764 - val_loss: 0.1125 - val_accuracy: 0.9628\n",
            "Epoch 93/100\n",
            "381/381 [==============================] - 0s 168us/sample - loss: 0.1035 - accuracy: 0.9764 - val_loss: 0.1119 - val_accuracy: 0.9628\n",
            "Epoch 94/100\n",
            "381/381 [==============================] - 0s 199us/sample - loss: 0.1028 - accuracy: 0.9764 - val_loss: 0.1113 - val_accuracy: 0.9628\n",
            "Epoch 95/100\n",
            "381/381 [==============================] - 0s 162us/sample - loss: 0.1023 - accuracy: 0.9764 - val_loss: 0.1108 - val_accuracy: 0.9628\n",
            "Epoch 96/100\n",
            "381/381 [==============================] - 0s 156us/sample - loss: 0.1018 - accuracy: 0.9764 - val_loss: 0.1102 - val_accuracy: 0.9628\n",
            "Epoch 97/100\n",
            "381/381 [==============================] - 0s 168us/sample - loss: 0.1012 - accuracy: 0.9764 - val_loss: 0.1097 - val_accuracy: 0.9628\n",
            "Epoch 98/100\n",
            "381/381 [==============================] - 0s 184us/sample - loss: 0.1007 - accuracy: 0.9764 - val_loss: 0.1092 - val_accuracy: 0.9628\n",
            "Epoch 99/100\n",
            "381/381 [==============================] - 0s 172us/sample - loss: 0.1002 - accuracy: 0.9764 - val_loss: 0.1087 - val_accuracy: 0.9628\n",
            "Epoch 100/100\n",
            "381/381 [==============================] - 0s 162us/sample - loss: 0.0997 - accuracy: 0.9764 - val_loss: 0.1082 - val_accuracy: 0.9628\n"
          ],
          "name": "stdout"
        }
      ]
    },
    {
      "cell_type": "code",
      "metadata": {
        "id": "jpN_iInSKEBC",
        "colab_type": "code",
        "colab": {
          "base_uri": "https://localhost:8080/",
          "height": 298
        },
        "outputId": "a9ac5e3b-c053-459b-d353-44ff07130f0c"
      },
      "source": [
        "plt.plot(r.history['loss'], label='Training Loss')\n",
        "plt.plot(r.history['val_loss'], label='Test Loss')\n",
        "plt.legend()\n",
        "plt.title('Training & Test Loss')"
      ],
      "execution_count": 15,
      "outputs": [
        {
          "output_type": "execute_result",
          "data": {
            "text/plain": [
              "Text(0.5, 1.0, 'Training & Test Loss')"
            ]
          },
          "metadata": {
            "tags": []
          },
          "execution_count": 15
        },
        {
          "output_type": "display_data",
          "data": {
            "image/png": "[encoded data removed]",
            "text/plain": [
              "<Figure size 432x288 with 1 Axes>"
            ]
          },
          "metadata": {
            "tags": []
          }
        }
      ]
    },
    {
      "cell_type": "code",
      "metadata": {
        "id": "NzfJVTASMStJ",
        "colab_type": "code",
        "colab": {
          "base_uri": "https://localhost:8080/",
          "height": 298
        },
        "outputId": "f80b109d-9773-43c8-af2a-30774995dd4b"
      },
      "source": [
        "plt.plot(r.history['accuracy'], label='Training Accuracy')\n",
        "plt.plot(r.history['val_accuracy'], label='Test Accuracy')\n",
        "plt.legend()\n",
        "plt.title('Training & Test Accuracy')"
      ],
      "execution_count": 16,
      "outputs": [
        {
          "output_type": "execute_result",
          "data": {
            "text/plain": [
              "Text(0.5, 1.0, 'Training & Test Accuracy')"
            ]
          },
          "metadata": {
            "tags": []
          },
          "execution_count": 16
        },
        {
          "output_type": "display_data",
          "data": {
            "image/png": "[encoded data removed]",
            "text/plain": [
              "<Figure size 432x288 with 1 Axes>"
            ]
          },
          "metadata": {
            "tags": []
          }
        }
      ]
    }
  ]
}
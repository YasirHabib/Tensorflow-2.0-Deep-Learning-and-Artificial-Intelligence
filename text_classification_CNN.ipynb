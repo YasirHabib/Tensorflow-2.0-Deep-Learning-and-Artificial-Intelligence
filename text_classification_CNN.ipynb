{
  "nbformat": 4,
  "nbformat_minor": 0,
  "metadata": {
    "colab": {
      "name": "text_classification_CNN.ipynb",
      "provenance": [],
      "collapsed_sections": [],
      "authorship_tag": "ABX9TyOg5u0zAXZf/JY5p2dI2ncG"
    },
    "kernelspec": {
      "name": "python3",
      "display_name": "Python 3"
    }
  },
  "cells": [
    {
      "cell_type": "code",
      "metadata": {
        "id": "9ws2oC3BonY9"
      },
      "source": [
        "import numpy as np\n",
        "import matplotlib.pyplot as plt\n",
        "import pandas as pd"
      ],
      "execution_count": 1,
      "outputs": []
    },
    {
      "cell_type": "code",
      "metadata": {
        "id": "OmtgKAHhqkTz"
      },
      "source": [
        "from tensorflow.keras.preprocessing.text import Tokenizer\n",
        "from tensorflow.keras.preprocessing.sequence import pad_sequences\n",
        "\n",
        "from tensorflow.keras.layers import Input, Embedding, Conv1D, MaxPooling1D, GlobalMaxPooling1D, Dense\n",
        "from tensorflow.keras.models import Model"
      ],
      "execution_count": 2,
      "outputs": []
    },
    {
      "cell_type": "code",
      "metadata": {
        "colab": {
          "base_uri": "https://localhost:8080/"
        },
        "id": "1-C1E8D-q7dv",
        "outputId": "a701aa0e-99b7-4d79-9125-fdebf5c2101b"
      },
      "source": [
        "!wget https://lazyprogrammer.me/course_files/spam.csv"
      ],
      "execution_count": 3,
      "outputs": [
        {
          "output_type": "stream",
          "text": [
            "--2020-11-24 06:48:57--  https://lazyprogrammer.me/course_files/spam.csv\n",
            "Resolving lazyprogrammer.me (lazyprogrammer.me)... 172.67.213.166, 104.31.81.48, 104.31.80.48, ...\n",
            "Connecting to lazyprogrammer.me (lazyprogrammer.me)|172.67.213.166|:443... connected.\n",
            "HTTP request sent, awaiting response... 200 OK\n",
            "Length: 503663 (492K) [text/csv]\n",
            "Saving to: ‘spam.csv’\n",
            "\n",
            "\rspam.csv              0%[                    ]       0  --.-KB/s               \rspam.csv            100%[===================>] 491.86K  --.-KB/s    in 0.02s   \n",
            "\n",
            "2020-11-24 06:48:57 (20.1 MB/s) - ‘spam.csv’ saved [503663/503663]\n",
            "\n"
          ],
          "name": "stdout"
        }
      ]
    },
    {
      "cell_type": "code",
      "metadata": {
        "id": "8mbkBP4orhU0"
      },
      "source": [
        "df = pd.read_csv('spam.csv', encoding='ISO-8859-1')\n",
        "df = df.drop(['Unnamed: 2', 'Unnamed: 3', 'Unnamed: 4'], axis=1)"
      ],
      "execution_count": 4,
      "outputs": []
    },
    {
      "cell_type": "code",
      "metadata": {
        "colab": {
          "base_uri": "https://localhost:8080/"
        },
        "id": "YT126euerw1P",
        "outputId": "5bee905b-87df-45d5-9454-27c38908c962"
      },
      "source": [
        "df['v1'] = df['v1'].map({'ham':0, 'spam':1})\n",
        "print(df.head(),'\\n')\n",
        "print(df.tail())"
      ],
      "execution_count": 5,
      "outputs": [
        {
          "output_type": "stream",
          "text": [
            "   v1                                                 v2\n",
            "0   0  Go until jurong point, crazy.. Available only ...\n",
            "1   0                      Ok lar... Joking wif u oni...\n",
            "2   1  Free entry in 2 a wkly comp to win FA Cup fina...\n",
            "3   0  U dun say so early hor... U c already then say...\n",
            "4   0  Nah I don't think he goes to usf, he lives aro... \n",
            "\n",
            "      v1                                                 v2\n",
            "5567   1  This is the 2nd time we have tried 2 contact u...\n",
            "5568   0              Will Ì_ b going to esplanade fr home?\n",
            "5569   0  Pity, * was in mood for that. So...any other s...\n",
            "5570   0  The guy did some bitching but I acted like i'd...\n",
            "5571   0                         Rofl. Its true to its name\n"
          ],
          "name": "stdout"
        }
      ]
    },
    {
      "cell_type": "code",
      "metadata": {
        "id": "6LhTYO1Er0_S"
      },
      "source": [
        "inputs = df['v2']\n",
        "labels = df['v1'].to_numpy()"
      ],
      "execution_count": 6,
      "outputs": []
    },
    {
      "cell_type": "code",
      "metadata": {
        "id": "Lm8VqCjcr25p"
      },
      "source": [
        "# Test, train split\n",
        "\n",
        "index = int(0.67*len(inputs))\n",
        "X_train, y_train, X_test, y_test = inputs.iloc[:index], labels[:index], inputs.iloc[index:], labels[index:]"
      ],
      "execution_count": 7,
      "outputs": []
    },
    {
      "cell_type": "code",
      "metadata": {
        "id": "1rCpB-xn5hI0"
      },
      "source": [
        "# Applying tokenizer on X_train, X_test\n",
        "MAX_VOCAB_SIZE = 20000\n",
        "tokenizer = Tokenizer (num_words=MAX_VOCAB_SIZE)\n",
        "tokenizer.fit_on_texts(X_train)\n",
        "X_train = tokenizer.texts_to_sequences(X_train)\n",
        "X_train = pad_sequences(X_train)\t\n",
        "\n",
        "T = X_train.shape[1]\n",
        "X_test = tokenizer.texts_to_sequences(X_test)\n",
        "X_test = pad_sequences(X_test, maxlen = T)"
      ],
      "execution_count": 8,
      "outputs": []
    },
    {
      "cell_type": "code",
      "metadata": {
        "colab": {
          "base_uri": "https://localhost:8080/"
        },
        "id": "8EQeuoG36bGr",
        "outputId": "f45848c8-0239-451e-f44b-ab68b3e2b5c8"
      },
      "source": [
        "# get word -> integer mapping\n",
        "word2idx = tokenizer.word_index\n",
        "V = len(word2idx)\n",
        "print('Found %s unique tokens.' % V)"
      ],
      "execution_count": 9,
      "outputs": [
        {
          "output_type": "stream",
          "text": [
            "Found 7254 unique tokens.\n"
          ],
          "name": "stdout"
        }
      ]
    },
    {
      "cell_type": "code",
      "metadata": {
        "id": "G9mjrl8a6_X7"
      },
      "source": [
        "D = 20\n",
        "K = 1\n",
        "visible = Input(shape=(T,))\n",
        "x = Embedding(V+1, D)(visible)\n",
        "x = Conv1D(32, 3, activation='relu')(x)\n",
        "x = MaxPooling1D(3)(x)\n",
        "x = Conv1D(64, 3, activation='relu')(x)\n",
        "x = MaxPooling1D(3)(x)\n",
        "x = Conv1D(128, 3, activation='relu')(x)\n",
        "x = GlobalMaxPooling1D()(x)\n",
        "output = Dense(K, activation='sigmoid')(x)\n",
        "\n",
        "model = Model(inputs=visible, outputs=output)"
      ],
      "execution_count": 10,
      "outputs": []
    },
    {
      "cell_type": "code",
      "metadata": {
        "colab": {
          "base_uri": "https://localhost:8080/"
        },
        "id": "j9j6t41F9t6e",
        "outputId": "34a5af18-dd8c-4904-d0c9-c2f78561f204"
      },
      "source": [
        "model.summary()"
      ],
      "execution_count": 11,
      "outputs": [
        {
          "output_type": "stream",
          "text": [
            "Model: \"functional_1\"\n",
            "_________________________________________________________________\n",
            "Layer (type)                 Output Shape              Param #   \n",
            "=================================================================\n",
            "input_1 (InputLayer)         [(None, 189)]             0         \n",
            "_________________________________________________________________\n",
            "embedding (Embedding)        (None, 189, 20)           145100    \n",
            "_________________________________________________________________\n",
            "conv1d (Conv1D)              (None, 187, 32)           1952      \n",
            "_________________________________________________________________\n",
            "max_pooling1d (MaxPooling1D) (None, 62, 32)            0         \n",
            "_________________________________________________________________\n",
            "conv1d_1 (Conv1D)            (None, 60, 64)            6208      \n",
            "_________________________________________________________________\n",
            "max_pooling1d_1 (MaxPooling1 (None, 20, 64)            0         \n",
            "_________________________________________________________________\n",
            "conv1d_2 (Conv1D)            (None, 18, 128)           24704     \n",
            "_________________________________________________________________\n",
            "global_max_pooling1d (Global (None, 128)               0         \n",
            "_________________________________________________________________\n",
            "dense (Dense)                (None, 1)                 129       \n",
            "=================================================================\n",
            "Total params: 178,093\n",
            "Trainable params: 178,093\n",
            "Non-trainable params: 0\n",
            "_________________________________________________________________\n"
          ],
          "name": "stdout"
        }
      ]
    },
    {
      "cell_type": "code",
      "metadata": {
        "id": "E95wsxeP9zuU"
      },
      "source": [
        "model.compile(\n",
        "    loss = 'binary_crossentropy',\n",
        "    optimizer = 'adam',\n",
        "    metrics = ['accuracy']\n",
        ")"
      ],
      "execution_count": 12,
      "outputs": []
    },
    {
      "cell_type": "code",
      "metadata": {
        "colab": {
          "base_uri": "https://localhost:8080/"
        },
        "id": "w_Hgtudl93wO",
        "outputId": "3a3958ef-a43a-455b-8f0f-e1f08e2727d9"
      },
      "source": [
        "r = model.fit(X_train, y_train, validation_data=(X_test, y_test), epochs = 5)"
      ],
      "execution_count": 13,
      "outputs": [
        {
          "output_type": "stream",
          "text": [
            "Epoch 1/5\n",
            "117/117 [==============================] - 3s 23ms/step - loss: 0.3877 - accuracy: 0.8669 - val_loss: 0.2775 - val_accuracy: 0.8630\n",
            "Epoch 2/5\n",
            "117/117 [==============================] - 2s 21ms/step - loss: 0.1432 - accuracy: 0.9384 - val_loss: 0.0920 - val_accuracy: 0.9630\n",
            "Epoch 3/5\n",
            "117/117 [==============================] - 3s 21ms/step - loss: 0.0314 - accuracy: 0.9917 - val_loss: 0.1071 - val_accuracy: 0.9766\n",
            "Epoch 4/5\n",
            "117/117 [==============================] - 2s 21ms/step - loss: 0.0081 - accuracy: 0.9984 - val_loss: 0.0841 - val_accuracy: 0.9826\n",
            "Epoch 5/5\n",
            "117/117 [==============================] - 2s 21ms/step - loss: 0.0030 - accuracy: 1.0000 - val_loss: 0.0868 - val_accuracy: 0.9831\n"
          ],
          "name": "stdout"
        }
      ]
    },
    {
      "cell_type": "code",
      "metadata": {
        "colab": {
          "base_uri": "https://localhost:8080/",
          "height": 514
        },
        "id": "dqBN6Wi5-2xj",
        "outputId": "e19d93b4-95b2-432b-be00-0db4de3e30b9"
      },
      "source": [
        "plt.plot(r.history['loss'], label='Training cost')\n",
        "plt.plot(r.history['val_loss'], label='Test cost')\n",
        "plt.legend()\n",
        "plt.show()\n",
        "\n",
        "plt.plot(r.history['accuracy'], label='Training accuracy')\n",
        "plt.plot(r.history['val_accuracy'], label='Test accuracy')\n",
        "plt.legend()\n",
        "plt.show()"
      ],
      "execution_count": 14,
      "outputs": [
        {
          "output_type": "display_data",
          "data": {
            "image/png": "[encoded data removed]",
            "text/plain": [
              "<Figure size 432x288 with 1 Axes>"
            ]
          },
          "metadata": {
            "tags": [],
            "needs_background": "light"
          }
        },
        {
          "output_type": "display_data",
          "data": {
            "image/png": "[encoded data removed]",
            "text/plain": [
              "<Figure size 432x288 with 1 Axes>"
            ]
          },
          "metadata": {
            "tags": [],
            "needs_background": "light"
          }
        }
      ]
    }
  ]
}